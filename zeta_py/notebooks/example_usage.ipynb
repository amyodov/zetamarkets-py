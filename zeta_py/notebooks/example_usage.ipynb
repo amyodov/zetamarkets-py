{
 "cells": [
  {
   "cell_type": "code",
   "execution_count": 1,
   "metadata": {},
   "outputs": [],
   "source": [
    "%load_ext dotenv\n",
    "%dotenv"
   ]
  },
  {
   "cell_type": "code",
   "execution_count": 1,
   "metadata": {},
   "outputs": [
    {
     "name": "stdout",
     "output_type": "stream",
     "text": [
      "https://api.mainnet-beta.solana\n",
      "4mYxEXiFwe3ePEmoj7CYCbiW7wGTojUQCmdPqGaoVaUh\n"
     ]
    }
   ],
   "source": [
    "import logging\n",
    "import os\n",
    "from zeta_py.types import Network, Asset, Side, OrderOptions, OrderType\n",
    "from solana.rpc.types import TxOpts\n",
    "from zeta_py import utils\n",
    "from zeta_py.client import Client\n",
    "import anchorpy\n",
    "from datetime import datetime, timedelta\n",
    "from solana.rpc.commitment import Confirmed\n",
    "\n",
    "logger = logging.getLogger(\"zeta_py\")\n",
    "logging.basicConfig(level=logging.DEBUG)\n",
    "\n",
    "endpoint = os.getenv(\"ENDPOINT\", \"https://api.mainnet-beta.solana.com\")\n",
    "print(endpoint.split(\".com\")[0])\n",
    "\n",
    "wallet = anchorpy.Wallet.local()  # get local filesystem keypair wallet\n",
    "print(wallet.public_key)"
   ]
  },
  {
   "cell_type": "code",
   "execution_count": 2,
   "metadata": {},
   "outputs": [],
   "source": [
    "tx_opts = TxOpts({\"preflight_commitment\": Confirmed, \"skip_confirmation\": False})\n",
    "\n",
    "asset = Asset.SOL\n",
    "client = await Client.load(endpoint=endpoint, commitment=Confirmed, wallet=wallet, assets=[asset], tx_opts=tx_opts)"
   ]
  },
  {
   "cell_type": "markdown",
   "metadata": {},
   "source": [
    "### Balances, Positions and Open Orders"
   ]
  },
  {
   "cell_type": "code",
   "execution_count": 3,
   "metadata": {},
   "outputs": [
    {
     "name": "stdout",
     "output_type": "stream",
     "text": [
      "Balance: 0.489279\n",
      "Position: Position(size=0.004, cost_of_trades=0.076306)\n",
      "Open orders: []\n"
     ]
    }
   ],
   "source": [
    "balance = await client.fetch_balance()\n",
    "position = await client.fetch_position(asset)\n",
    "open_orders = await client.fetch_open_orders(asset)\n",
    "\n",
    "print(f\"Balance: {balance}\")\n",
    "print(f\"Position: {position}\")\n",
    "print(f\"Open orders: {open_orders}\")"
   ]
  },
  {
   "cell_type": "markdown",
   "metadata": {},
   "source": [
    "### Deposit\n",
    "Deposit USDC into your Zeta margin account"
   ]
  },
  {
   "cell_type": "code",
   "execution_count": 5,
   "metadata": {},
   "outputs": [
    {
     "name": "stderr",
     "output_type": "stream",
     "text": [
      "INFO:zeta_py.client.Client:Depositing 0.1 USDC to margin account\n"
     ]
    },
    {
     "data": {
      "text/plain": [
       "Signature(\n",
       "    2Sf2dMvGEiM82u6cGo9PYKPfqSMDwgnZaKkAjAaXk8HzRFP3xCk2wJw7pyS4xejKkpu7tYnTFsiCZTtC9W5iUmwN,\n",
       ")"
      ]
     },
     "execution_count": 5,
     "metadata": {},
     "output_type": "execute_result"
    }
   ],
   "source": [
    "await client.deposit(0.1)"
   ]
  },
  {
   "cell_type": "markdown",
   "metadata": {},
   "source": [
    "### Place Order"
   ]
  },
  {
   "cell_type": "code",
   "execution_count": 6,
   "metadata": {},
   "outputs": [
    {
     "name": "stderr",
     "output_type": "stream",
     "text": [
      "INFO:zeta_py.client.Client:Placed 0.001x SOL-PERP Bid @ $0.1\n"
     ]
    },
    {
     "data": {
      "text/plain": [
       "Signature(\n",
       "    2fr6LrmHvyUWWxo2r5eE4MRimaXC8x5sEBVnFcCqAXNkYkEgHeaytgAKqkNEkY3TSDCaWs7n4MDG6bheSoRPiCCw,\n",
       ")"
      ]
     },
     "execution_count": 6,
     "metadata": {},
     "output_type": "execute_result"
    }
   ],
   "source": [
    "await client.place_order(asset=Asset.SOL, price=0.1, size=0.001, side=Side.Bid)"
   ]
  },
  {
   "cell_type": "markdown",
   "metadata": {},
   "source": [
    "### Cancel Order"
   ]
  },
  {
   "cell_type": "code",
   "execution_count": 7,
   "metadata": {},
   "outputs": [
    {
     "name": "stdout",
     "output_type": "stream",
     "text": [
      "Open Orders:\n",
      "Bid 0.001x $0.1\n"
     ]
    }
   ],
   "source": [
    "open_orders = await client.fetch_open_orders(Asset.SOL)\n",
    "print(\"Open Orders:\")\n",
    "for order in open_orders:\n",
    "    print(f\"{order.side.name} {order.info.size}x ${order.info.price}\")"
   ]
  },
  {
   "cell_type": "code",
   "execution_count": 10,
   "metadata": {},
   "outputs": [
    {
     "name": "stderr",
     "output_type": "stream",
     "text": [
      "INFO:zeta_py.client.Client:Cancelling order 1844692854115028755624221 for SOL\n"
     ]
    },
    {
     "data": {
      "text/plain": [
       "Signature(\n",
       "    RSyeLPuE4y5UhKWsH88iyEQDQWRexW64Mk2ay3ByPfQanRh4W2mcNkV4syoEnKQpdN1MPD56wCLF8G8zT2fHNRf,\n",
       ")"
      ]
     },
     "execution_count": 10,
     "metadata": {},
     "output_type": "execute_result"
    }
   ],
   "source": [
    "oid = open_orders[0].order_id\n",
    "await client.cancel_order(Asset.SOL, order_id=oid, side=Side.Bid)"
   ]
  },
  {
   "cell_type": "markdown",
   "metadata": {},
   "source": [
    "### Quoting\n",
    "Use this code to atomically cancel and replace a set of quotes on Zeta.\n",
    "\n",
    "*For this example we quote 0.001 SOL-PERP contracts at 20bps spread*"
   ]
  },
  {
   "cell_type": "code",
   "execution_count": 12,
   "metadata": {},
   "outputs": [
    {
     "name": "stderr",
     "output_type": "stream",
     "text": [
      "INFO:zeta_py.client.Client:Replacing SOL orders: 0.001x Bid @ $17.973859149, 0.001x Ask @ $18.009842851\n"
     ]
    },
    {
     "data": {
      "text/plain": [
       "Signature(\n",
       "    4JJqnar2gQMZszwJjhK4A19xPLdJ1DX1LQNViueHTCVFky8nRT8qreYRkKtgV5MfPFVBPFjouPrUroUZAW2i3f7T,\n",
       ")"
      ]
     },
     "execution_count": 12,
     "metadata": {},
     "output_type": "execute_result"
    }
   ],
   "source": [
    "# Quoting parameters\n",
    "asset = Asset.SOL  # SOL-PERP market\n",
    "quote_size = 0.001  # min size\n",
    "quote_bps = 10  # basis points from midpoint\n",
    "time_in_force = 10  # expire the quote after 10 seconds\n",
    "\n",
    "# Get the latest mark price and calculate bid/ask prices\n",
    "price_fixed = client.exchange.pricing.mark_prices[asset.to_index()]\n",
    "bid_price = utils.convert_fixed_int_to_decimal(price_fixed * (1 - quote_bps / 10000))\n",
    "ask_price = utils.convert_fixed_int_to_decimal(price_fixed * (1 + quote_bps / 10000))\n",
    "\n",
    "# Set order options\n",
    "expiry_ts = int((datetime.now() + timedelta(seconds=time_in_force)).timestamp())\n",
    "order_opts = OrderOptions(expiry_ts=expiry_ts, order_type=OrderType.Limit, client_order_id=69)\n",
    "\n",
    "# Execute quote!\n",
    "await client.replace_quote(Asset.SOL, bid_price, quote_size, ask_price, quote_size, order_opts)"
   ]
  },
  {
   "cell_type": "code",
   "execution_count": null,
   "metadata": {},
   "outputs": [],
   "source": []
  }
 ],
 "metadata": {
  "kernelspec": {
   "display_name": ".venv",
   "language": "python",
   "name": "python3"
  },
  "language_info": {
   "codemirror_mode": {
    "name": "ipython",
    "version": 3
   },
   "file_extension": ".py",
   "mimetype": "text/x-python",
   "name": "python",
   "nbconvert_exporter": "python",
   "pygments_lexer": "ipython3",
   "version": "3.9.7"
  },
  "orig_nbformat": 4
 },
 "nbformat": 4,
 "nbformat_minor": 2
}
