{
 "cells": [
  {
   "cell_type": "code",
   "execution_count": 1,
   "metadata": {},
   "outputs": [],
   "source": [
    "%load_ext dotenv\n",
    "%dotenv"
   ]
  },
  {
   "cell_type": "code",
   "execution_count": 2,
   "metadata": {},
   "outputs": [
    {
     "name": "stdout",
     "output_type": "stream",
     "text": [
      "https://api.mainnet-beta.solana\n"
     ]
    }
   ],
   "source": [
    "import logging\n",
    "import os\n",
    "from solana.rpc.async_api import AsyncClient\n",
    "from zeta_py.types import Network, Asset, Side, OrderOptions, OrderType\n",
    "from solana.rpc.commitment import Confirmed\n",
    "from solana.rpc.types import TxOpts\n",
    "from zeta_py import utils\n",
    "from zeta_py.client import Client\n",
    "import anchorpy\n",
    "from datetime import datetime, timedelta\n",
    "import re\n",
    "from solana.rpc.websocket_api import connect\n",
    "\n",
    "logger = logging.getLogger(\"zeta_py\")\n",
    "logging.basicConfig(level=logging.DEBUG)\n",
    "\n",
    "endpoint = os.getenv(\"ENDPOINT\", \"https://api.mainnet-beta.solana.com\")\n",
    "print(endpoint.split(\".com\")[0])\n",
    "conn = AsyncClient(endpoint, commitment=Confirmed, blockhash_cache=False)\n",
    "\n",
    "wallet = anchorpy.Wallet.local()  # get local filesystem keypair wallet at ~/.config/solana/id.json\n",
    "# print(wallet.public_key)"
   ]
  },
  {
   "cell_type": "code",
   "execution_count": 3,
   "metadata": {},
   "outputs": [
    {
     "name": "stderr",
     "output_type": "stream",
     "text": [
      "INFO:zeta_py.accounts.Account:Loaded account: State\n",
      "INFO:zeta_py.accounts.Account:Loaded account: Pricing\n",
      "INFO:zeta_py.accounts.Account:Loaded account: Clock\n",
      "INFO:zeta_py.accounts.Account:Subscribed to Clock\n",
      "INFO:zeta_py.accounts.Account:Loaded account: CrossMarginAccount\n"
     ]
    }
   ],
   "source": [
    "tx_opts = TxOpts({\"preflight_commitment\": Confirmed, \"skip_confirmation\": False})\n",
    "\n",
    "client = await Client.load(Network.MAINNET, conn, wallet, [Asset.SOL], subscribe=False, tx_opts=tx_opts)"
   ]
  },
  {
   "cell_type": "code",
   "execution_count": 4,
   "metadata": {},
   "outputs": [],
   "source": [
    "commitment = Confirmed\n",
    "ws_endpoint = \"wss://api.mainnet-beta.solana.com\""
   ]
  },
  {
   "cell_type": "markdown",
   "metadata": {},
   "source": [
    "# Subscriptions"
   ]
  },
  {
   "cell_type": "markdown",
   "metadata": {},
   "source": [
    "## Accounts"
   ]
  },
  {
   "cell_type": "markdown",
   "metadata": {},
   "source": [
    "### Orderbooks"
   ]
  },
  {
   "cell_type": "code",
   "execution_count": null,
   "metadata": {},
   "outputs": [],
   "source": [
    "address = client.exchange.markets[Asset.SOL]._serum_market.state.bids()\n",
    "async with connect(ws_endpoint) as ws:\n",
    "  await ws.account_subscribe(\n",
    "      address,\n",
    "      commitment=commitment,\n",
    "      encoding=\"base64+zstd\",\n",
    "  )\n",
    "  first_resp = await ws.recv()\n",
    "  subscription_id = first_resp[0].result\n",
    "  async for msg in ws:\n",
    "      account = client.exchange.markets[Asset.SOL]._serum_market._parse_bids_or_asks(msg[0].result.value.data)\n",
    "      print(account._get_l2(5))"
   ]
  },
  {
   "cell_type": "markdown",
   "metadata": {},
   "source": [
    "## Transactions"
   ]
  },
  {
   "cell_type": "markdown",
   "metadata": {},
   "source": [
    "### Trades"
   ]
  },
  {
   "cell_type": "code",
   "execution_count": null,
   "metadata": {},
   "outputs": [],
   "source": [
    "from anchorpy import EventParser\n",
    "from solders.rpc.config import RpcTransactionLogsFilterMentions\n",
    "\n",
    "address = client.exchange.markets[Asset.SOL]._serum_market.state.bids()\n",
    "async with connect(ws_endpoint) as ws:\n",
    "    await ws.logs_subscribe(\n",
    "        commitment=commitment,\n",
    "        filter_=RpcTransactionLogsFilterMentions(client.exchange.program_id)\n",
    "    )\n",
    "    first_resp = await ws.recv()\n",
    "    subscription_id = first_resp[0].result\n",
    "    async for msg in ws:\n",
    "        logs = msg[0].result.value.logs\n",
    "        parser = EventParser(client.exchange.program_id, client.exchange.program.coder)\n",
    "        parsed = []\n",
    "        parser.parse_logs(logs, lambda evt: parsed.append(evt))\n",
    "        for event in parsed:\n",
    "            if event.name == \"ApplyFundingEvent\":\n",
    "                pass\n",
    "            elif event.name == \"PlaceOrderEvent\":\n",
    "                # if event.data.margin_account == client.margin_account.address:\n",
    "                #     print(event)\n",
    "                pass\n",
    "            elif event.name == \"OrderCompleteEvent\":\n",
    "                # if event.data.margin_account == client.margin_account.address:\n",
    "                #     print(event)\n",
    "                pass\n",
    "            elif event.name == \"TradeEventV3\":\n",
    "                if event.data.margin_account == client.margin_account.address:\n",
    "                    print(event)\n",
    "            elif event.name == \"LiquidationEvent\":\n",
    "                # if event.data.liquidatee == client.marg\n",
    "                pass\n",
    "            else:\n",
    "                print(event)"
   ]
  },
  {
   "cell_type": "code",
   "execution_count": null,
   "metadata": {},
   "outputs": [],
   "source": []
  }
 ],
 "metadata": {
  "kernelspec": {
   "display_name": ".venv",
   "language": "python",
   "name": "python3"
  },
  "language_info": {
   "codemirror_mode": {
    "name": "ipython",
    "version": 3
   },
   "file_extension": ".py",
   "mimetype": "text/x-python",
   "name": "python",
   "nbconvert_exporter": "python",
   "pygments_lexer": "ipython3",
   "version": "3.9.7"
  },
  "orig_nbformat": 4
 },
 "nbformat": 4,
 "nbformat_minor": 2
}
