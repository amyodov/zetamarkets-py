{
 "cells": [
  {
   "cell_type": "code",
   "execution_count": 1,
   "metadata": {},
   "outputs": [],
   "source": [
    "%load_ext dotenv\n",
    "%dotenv"
   ]
  },
  {
   "cell_type": "code",
   "execution_count": 1,
   "metadata": {},
   "outputs": [
    {
     "name": "stderr",
     "output_type": "stream",
     "text": [
      "UsageError: Cell magic `%%md` not found.\n"
     ]
    }
   ],
   "source": [
    "%%md\n",
    "* EMMA - cex API websockets\n",
    "* Replicate functionality REST and websocket\n",
    "* Submit order REST and hear about it via websocket for L2 updates\n",
    "* Orders that are placed, separate positions call\n",
    "\n",
    "* L2 updates on websocket\n",
    "* websocket feed for trade fills (personal only). DYDX pending, open, cancelled\n",
    "* Submit over REST"
   ]
  },
  {
   "cell_type": "code",
   "execution_count": 1,
   "metadata": {},
   "outputs": [
    {
     "name": "stdout",
     "output_type": "stream",
     "text": [
      "https://api.mainnet-beta.solana\n",
      "4mYxEXiFwe3ePEmoj7CYCbiW7wGTojUQCmdPqGaoVaUh\n"
     ]
    }
   ],
   "source": [
    "import logging\n",
    "import os\n",
    "from zeta_py.client import Client\n",
    "from zeta_py.types import Asset, Side\n",
    "import anchorpy\n",
    "from solana.rpc.commitment import Confirmed\n",
    "from datetime import datetime, timedelta\n",
    "from zeta_py.types import OrderOptions, OrderType\n",
    "from solana.rpc.types import TxOpts\n",
    "from datetime import datetime, timedelta\n",
    "from zeta_py.types import OrderOptions, OrderType\n",
    "from zeta_py import utils\n",
    "\n",
    "logger = logging.getLogger(\"zeta_py\")\n",
    "logging.basicConfig(level=logging.DEBUG)\n",
    "\n",
    "endpoint = os.getenv(\"ENDPOINT\", \"https://api.mainnet-beta.solana.com\")\n",
    "print(endpoint.split(\".com\")[0])\n",
    "\n",
    "wallet = anchorpy.Wallet.local()  # get local filesystem keypair wallet\n",
    "print(wallet.public_key)"
   ]
  },
  {
   "cell_type": "code",
   "execution_count": 2,
   "metadata": {},
   "outputs": [],
   "source": [
    "# print(f\"Balance: {(await conn.get_balance(wallet.public_key)).value / 1e9} SOL\")"
   ]
  },
  {
   "cell_type": "code",
   "execution_count": 3,
   "metadata": {},
   "outputs": [],
   "source": [
    "tx_opts = TxOpts({\"preflight_commitment\": Confirmed, \"skip_confirmation\": False})\n",
    "\n",
    "asset = Asset.SOL\n",
    "client = await Client.load(endpoint=endpoint, commitment=Confirmed, wallet=wallet, assets=[asset], tx_opts=tx_opts)"
   ]
  },
  {
   "cell_type": "code",
   "execution_count": 4,
   "metadata": {},
   "outputs": [
    {
     "name": "stdout",
     "output_type": "stream",
     "text": [
      "Balance: 0.489298\n",
      "Position: Position(size=0.003, cost_of_trades=0.058236)\n",
      "Open orders: []\n"
     ]
    }
   ],
   "source": [
    "balance = await client.fetch_balance()\n",
    "position = await client.fetch_position(asset)\n",
    "open_orders = await client.fetch_open_orders(asset)\n",
    "\n",
    "print(f\"Balance: {balance}\")\n",
    "print(f\"Position: {position}\")\n",
    "print(f\"Open orders: {open_orders}\")"
   ]
  },
  {
   "cell_type": "code",
   "execution_count": 5,
   "metadata": {},
   "outputs": [
    {
     "name": "stderr",
     "output_type": "stream",
     "text": [
      "INFO:zeta_py.client.Client:Subscribing to Orderbook:Side.Bid.\n"
     ]
    },
    {
     "name": "stdout",
     "output_type": "stream",
     "text": [
      "[OrderInfo(price=18.0685, size=276.926), OrderInfo(price=18.0649, size=1661.555), OrderInfo(price=18.06, size=27.68), OrderInfo(price=18.0576, size=3323.11), OrderInfo(price=18.055, size=138.41)]\n",
      "[OrderInfo(price=18.0708, size=11.077), OrderInfo(price=18.069, size=276.927), OrderInfo(price=18.067, size=27.67), OrderInfo(price=18.0654, size=1661.563), OrderInfo(price=18.062, size=138.35)]\n",
      "[OrderInfo(price=18.0708, size=11.077), OrderInfo(price=18.069, size=276.927), OrderInfo(price=18.067, size=27.67), OrderInfo(price=18.0654, size=1661.563), OrderInfo(price=18.062, size=138.35)]\n",
      "[OrderInfo(price=18.0708, size=11.077), OrderInfo(price=18.069, size=276.927), OrderInfo(price=18.067, size=27.67), OrderInfo(price=18.0654, size=1661.563), OrderInfo(price=18.062, size=138.35)]\n",
      "[OrderInfo(price=18.0706, size=11.078), OrderInfo(price=18.0688, size=276.937), OrderInfo(price=18.067, size=27.67), OrderInfo(price=18.0652, size=1661.624), OrderInfo(price=18.062, size=138.35)]\n",
      "[OrderInfo(price=18.0706, size=11.078), OrderInfo(price=18.0688, size=276.937), OrderInfo(price=18.067, size=27.67), OrderInfo(price=18.0652, size=1661.624), OrderInfo(price=18.062, size=138.35)]\n",
      "[OrderInfo(price=18.0706, size=11.078), OrderInfo(price=18.0688, size=276.937), OrderInfo(price=18.0652, size=1661.624), OrderInfo(price=18.065, size=27.67), OrderInfo(price=18.06, size=138.37)]\n",
      "[OrderInfo(price=18.0706, size=11.078), OrderInfo(price=18.0688, size=276.937), OrderInfo(price=18.0652, size=1661.624), OrderInfo(price=18.065, size=27.67), OrderInfo(price=18.06, size=138.37)]\n",
      "[OrderInfo(price=18.0688, size=276.937), OrderInfo(price=18.0652, size=1661.624), OrderInfo(price=18.065, size=27.67), OrderInfo(price=18.06, size=138.37), OrderInfo(price=18.0579, size=3323.249)]\n",
      "[OrderInfo(price=18.071, size=11.078), OrderInfo(price=18.0692, size=276.938), OrderInfo(price=18.0656, size=1661.625), OrderInfo(price=18.065, size=27.67), OrderInfo(price=18.06, size=138.37)]\n",
      "[OrderInfo(price=18.071, size=11.078), OrderInfo(price=18.0692, size=276.938), OrderInfo(price=18.0656, size=1661.625), OrderInfo(price=18.065, size=27.67), OrderInfo(price=18.06, size=138.37)]\n"
     ]
    },
    {
     "name": "stderr",
     "output_type": "stream",
     "text": [
      "INFO:zeta_py.client.Client:WebSocket subscription task cancelled.\n"
     ]
    }
   ],
   "source": [
    "from zeta_py.orderbook import Orderbook\n",
    "\n",
    "\n",
    "async def orderbook_callback(orderbook: Orderbook):\n",
    "    print(orderbook._get_l2(5))\n",
    "\n",
    "\n",
    "await client.subscribe_orderbook(asset, Side.Bid, orderbook_callback)"
   ]
  },
  {
   "cell_type": "code",
   "execution_count": 6,
   "metadata": {},
   "outputs": [
    {
     "name": "stderr",
     "output_type": "stream",
     "text": [
      "INFO:zeta_py.client.Client:Depositing 0.1 USDC to margin account\n"
     ]
    },
    {
     "data": {
      "text/plain": [
       "Signature(\n",
       "    3qxbAKSMXw3RgNufMLD2iUYUsQ2xHpw1YcrSGjg6JuXigoXWTb4g57fVuL4ybzCm5ksc2vuwMNyWxXCDhuxSYSyC,\n",
       ")"
      ]
     },
     "execution_count": 6,
     "metadata": {},
     "output_type": "execute_result"
    }
   ],
   "source": [
    "await client.deposit(0.1)"
   ]
  },
  {
   "cell_type": "code",
   "execution_count": 6,
   "metadata": {},
   "outputs": [
    {
     "name": "stderr",
     "output_type": "stream",
     "text": [
      "INFO:zeta_py.client.Client:Placed 0.001x SOL-PERP Ask @ $0.1\n"
     ]
    },
    {
     "data": {
      "text/plain": [
       "Signature(\n",
       "    4eLF5qiQEJALujpo8WbDwLqAUGa7seJCoA9sWvB61XqQjNQsgwPF4tx7QTLvtxDp3d7JvvXkZWW3wqCZG94HPMQy,\n",
       ")"
      ]
     },
     "execution_count": 6,
     "metadata": {},
     "output_type": "execute_result"
    }
   ],
   "source": [
    "# Place order\n",
    "\n",
    "expiry_ts = int((datetime.now() + timedelta(seconds=1000)).timestamp())\n",
    "order_opts = OrderOptions(expiry_ts=expiry_ts, order_type=OrderType.PostOnlySlide, client_order_id=69)\n",
    "await client.place_order(Asset.SOL, 0.1, 0.001, Side.Ask, order_opts)"
   ]
  },
  {
   "cell_type": "code",
   "execution_count": 7,
   "metadata": {},
   "outputs": [
    {
     "name": "stdout",
     "output_type": "stream",
     "text": [
      "Open Orders:\n",
      "Ask 0.001x $18.0595\n"
     ]
    }
   ],
   "source": [
    "open_orders = await client.fetch_open_orders(Asset.SOL)\n",
    "print(\"Open Orders:\")\n",
    "for order in open_orders:\n",
    "    print(f\"{order.side.name} {order.info.size}x ${order.info.price}\")"
   ]
  },
  {
   "cell_type": "code",
   "execution_count": 9,
   "metadata": {},
   "outputs": [
    {
     "name": "stderr",
     "output_type": "stream",
     "text": [
      "INFO:zeta_py.client.Client:Cancelling order 333138974599157647524669740 for SOL\n"
     ]
    },
    {
     "data": {
      "text/plain": [
       "Signature(\n",
       "    63pQEFpwQrQ41bitfRx3tADDyCkwx5qzec2gs3ivtN6HZR4eHbqmgXqR7eiCWawxj8uG3Pd5ppCmGVFSrq5yDaPF,\n",
       ")"
      ]
     },
     "execution_count": 9,
     "metadata": {},
     "output_type": "execute_result"
    }
   ],
   "source": [
    "oid = open_orders[0].order_id\n",
    "await client.cancel_order(Asset.SOL, order_id=oid, side=Side.Ask)"
   ]
  },
  {
   "cell_type": "markdown",
   "metadata": {},
   "source": [
    "# Quoting\n",
    "Use this code to atomically cancel and replace a set of quotes on Zeta.\n",
    "\n",
    "*For this example we quote 0.001 SOL-PERP contracts at 20bps spread*"
   ]
  },
  {
   "cell_type": "code",
   "execution_count": 10,
   "metadata": {},
   "outputs": [
    {
     "name": "stderr",
     "output_type": "stream",
     "text": [
      "INFO:zeta_py.client.Client:Replacing SOL orders: 0.001x Bid @ $18.071849061, 0.001x Ask @ $18.108028939\n"
     ]
    },
    {
     "data": {
      "text/plain": [
       "Signature(\n",
       "    4RJWcc6zEp7ojQthxwarr5C9xTzbo19b1r7pciM4o7LV1Pe5hTTkSuinHzESsgFmWd28RDmWiNkysByRk7BQEaH6,\n",
       ")"
      ]
     },
     "execution_count": 10,
     "metadata": {},
     "output_type": "execute_result"
    }
   ],
   "source": [
    "# Quoting parameters\n",
    "asset = Asset.SOL  # SOL-PERP market\n",
    "quote_size = 0.001  # min size\n",
    "quote_bps = 10  # basis points from midpoint\n",
    "time_in_force = 10  # expire the quote after 10 seconds\n",
    "\n",
    "# Get the latest mark price and calculate bid/ask prices\n",
    "price_fixed = client.exchange.pricing.mark_prices[asset.to_index()]\n",
    "bid_price = utils.convert_fixed_int_to_decimal(price_fixed * (1 - quote_bps / 10000))\n",
    "ask_price = utils.convert_fixed_int_to_decimal(price_fixed * (1 + quote_bps / 10000))\n",
    "\n",
    "# Set order options\n",
    "expiry_ts = int((datetime.now() + timedelta(seconds=time_in_force)).timestamp())\n",
    "order_opts = OrderOptions(expiry_ts=expiry_ts, order_type=OrderType.Limit, client_order_id=69)\n",
    "\n",
    "# Execute quote!\n",
    "await client.replace_quote(Asset.SOL, bid_price, quote_size, ask_price, quote_size, order_opts)"
   ]
  },
  {
   "cell_type": "code",
   "execution_count": null,
   "metadata": {},
   "outputs": [],
   "source": []
  }
 ],
 "metadata": {
  "kernelspec": {
   "display_name": ".venv",
   "language": "python",
   "name": "python3"
  },
  "language_info": {
   "codemirror_mode": {
    "name": "ipython",
    "version": 3
   },
   "file_extension": ".py",
   "mimetype": "text/x-python",
   "name": "python",
   "nbconvert_exporter": "python",
   "pygments_lexer": "ipython3",
   "version": "3.9.7"
  },
  "orig_nbformat": 4
 },
 "nbformat": 4,
 "nbformat_minor": 2
}
