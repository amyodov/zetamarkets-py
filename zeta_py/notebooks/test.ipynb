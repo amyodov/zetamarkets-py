{
 "cells": [
  {
   "cell_type": "code",
   "execution_count": 1,
   "metadata": {},
   "outputs": [
    {
     "name": "stdout",
     "output_type": "stream",
     "text": [
      "4mYxEXiFwe3ePEmoj7CYCbiW7wGTojUQCmdPqGaoVaUh\n"
     ]
    }
   ],
   "source": [
    "from zeta_py.zeta_client.accounts.pricing import Pricing\n",
    "from solana.rpc.async_api import AsyncClient\n",
    "from zeta_py.client import Client\n",
    "from zeta_py.types import Network, Asset, Side\n",
    "import anchorpy\n",
    "from solders.pubkey import Pubkey\n",
    "from zeta_py import pda\n",
    "from solana.rpc.commitment import Confirmed, Finalized\n",
    "\n",
    "conn = AsyncClient(\"https://api.mainnet-beta.solana.com\", commitment=Confirmed, blockhash_cache=False)\n",
    "\n",
    "wallet = anchorpy.Wallet.local()  # get local filesystem keypair wallet\n",
    "print(wallet.public_key)"
   ]
  },
  {
   "cell_type": "code",
   "execution_count": 2,
   "metadata": {},
   "outputs": [
    {
     "name": "stdout",
     "output_type": "stream",
     "text": [
      "Balance: 0.24391817 SOL\n"
     ]
    }
   ],
   "source": [
    "# print(f\"Balance: {(await conn.get_balance(wallet.public_key)).value / 1e9} SOL\")"
   ]
  },
  {
   "cell_type": "code",
   "execution_count": 2,
   "metadata": {},
   "outputs": [
    {
     "name": "stderr",
     "output_type": "stream",
     "text": [
      "INFO:zeta_py.accounts.Account:Loaded account: State\n",
      "INFO:zeta_py.accounts.Account:Loaded account: Pricing\n",
      "INFO:zeta_py.accounts.Account:Loaded account: Clock\n",
      "INFO:zeta_py.accounts.Account:Loaded account: CrossMarginAccount\n"
     ]
    }
   ],
   "source": [
    "client = await Client.load(Network.MAINNET, conn, wallet, [Asset.SOL])"
   ]
  },
  {
   "cell_type": "code",
   "execution_count": 9,
   "metadata": {},
   "outputs": [
    {
     "name": "stdout",
     "output_type": "stream",
     "text": [
      "0.009825\n",
      "{<Asset.SOL: 0>: Position(size=0.001, cost_of_trades=0.021262)}\n",
      "{<Asset.SOL: 0>: [Order(order_id=184467459183839589766535671, client_id=0, open_order_address=Pubkey(\n",
      "    ciwBQfLdM97vFp8GwYYLczPgYoLfdkTVD6dhHAeGoWj,\n",
      "), open_order_slot=0, fee_tier=0, info=OrderInfo(price=10.0, size=0.001, price_lots=10000000, size_lots=1), side=<Side.BID: 0>, tif_offset=0)]}\n"
     ]
    }
   ],
   "source": [
    "# print(client.balance)\n",
    "# print(client.positions)\n",
    "# print(client.open_orders)"
   ]
  },
  {
   "cell_type": "code",
   "execution_count": 3,
   "metadata": {},
   "outputs": [
    {
     "name": "stderr",
     "output_type": "stream",
     "text": [
      "INFO:zeta_py.accounts.Account:Loaded account: CrossMarginAccountManager\n",
      "INFO:zeta_py.client.Client:Deposit of $1e-06 USDC to margin account Hu2yXbPESXyamLdvDemeASCFd3rHnpN2xBDUJpnuG5UX submitted\n"
     ]
    },
    {
     "data": {
      "text/plain": [
       "Signature(\n",
       "    4CBqjwMygd6i8rQUayeDewVCk2ucwWumYkqX7c7gF8yybL6mn9oRhKfDA6Bao6rqyukgE8ei77Ag6gfRN8bT2Fk5,\n",
       ")"
      ]
     },
     "execution_count": 3,
     "metadata": {},
     "output_type": "execute_result"
    }
   ],
   "source": [
    "await client.deposit(0.000001)"
   ]
  },
  {
   "cell_type": "code",
   "execution_count": 6,
   "metadata": {},
   "outputs": [
    {
     "name": "stdout",
     "output_type": "stream",
     "text": [
      "[Order(order_id=1844692854115028764209851, client_id=0, open_order_address=Pubkey(\n",
      "    ciwBQfLdM97vFp8GwYYLczPgYoLfdkTVD6dhHAeGoWj,\n",
      "), open_order_slot=1, fee_tier=0, info=OrderInfo(price=0.1, size=0.001, price_lots=100000, size_lots=1), side=<Side.BID: 0>, tif_offset=0), Order(order_id=184467459183839589766535671, client_id=0, open_order_address=Pubkey(\n",
      "    ciwBQfLdM97vFp8GwYYLczPgYoLfdkTVD6dhHAeGoWj,\n",
      "), open_order_slot=0, fee_tier=0, info=OrderInfo(price=10.0, size=0.001, price_lots=10000000, size_lots=1), side=<Side.BID: 0>, tif_offset=0)]\n",
      "\n"
     ]
    },
    {
     "name": "stderr",
     "output_type": "stream",
     "text": [
      "INFO:zeta_py.client.Client:Placed order $SOL-PERP ASK $0.001 @ $0.1\n"
     ]
    },
    {
     "data": {
      "text/plain": [
       "Signature(\n",
       "    462U6rABdP39fg3hQbK753gtwbDFC4yyk6gssUtdfKpsv4yUgeSZ6nHQ1usA8zHsE3SLHjUqiJKwksPu5YTbbMkG,\n",
       ")"
      ]
     },
     "execution_count": 6,
     "metadata": {},
     "output_type": "execute_result"
    }
   ],
   "source": [
    "await client.place_order(Asset.SOL, 0.1, 0.001, Side.ASK)"
   ]
  },
  {
   "cell_type": "code",
   "execution_count": 8,
   "metadata": {},
   "outputs": [
    {
     "data": {
      "text/plain": [
       "InvalidParamsMessage {\n",
       "    message: \"invalid transaction: Transaction failed to sanitize accounts offsets correctly\",\n",
       "}"
      ]
     },
     "execution_count": 8,
     "metadata": {},
     "output_type": "execute_result"
    }
   ],
   "source": [
    "from solana.transaction import Transaction\n",
    "from zeta_py import constants, utils\n",
    "from zeta_py.types import OrderOptions\n",
    "from spl.token.constants import ASSOCIATED_TOKEN_PROGRAM_ID, TOKEN_PROGRAM_ID\n",
    "from solders.sysvar import RENT\n",
    "\n",
    "\n",
    "from zeta_py.zeta_client.instructions import (\n",
    "    deposit_v2,\n",
    "    initialize_cross_margin_account,\n",
    "    initialize_cross_margin_account_manager,\n",
    "    place_perp_order_v3,\n",
    ")\n",
    "\n",
    "tx = Transaction()\n",
    "\n",
    "asset = Asset.SOL\n",
    "price = 0.1\n",
    "size=0.001\n",
    "side = Side.BID\n",
    "order_opts = OrderOptions\n",
    "\n",
    "tx.add(\n",
    "    place_perp_order_v3(\n",
    "                {\n",
    "                    \"price\": utils.convert_decimal_to_fixed_int(price),\n",
    "                    \"size\": utils.convert_decimal_to_fixed_lot(size),\n",
    "                    \"side\": side.to_program_type(),\n",
    "                    \"order_type\": order_opts.order_type.to_program_type(),\n",
    "                    \"client_order_id\": order_opts.client_order_id,\n",
    "                    \"tif_offset\": None,  # TODO: this later `getTIFOffset`\n",
    "                    \"tag\": order_opts.tag,\n",
    "                    \"asset\": asset.to_program_type(),\n",
    "                },\n",
    "                {\n",
    "                    \"state\": client.exchange.state.address,\n",
    "                    \"pricing\": client.exchange.pricing.address,\n",
    "                    \"margin_account\": client.margin_account.address,\n",
    "                    \"authority\": client.provider.wallet.public_key,\n",
    "                    \"dex_program\": constants.DEX_PID[client.network],\n",
    "                    \"token_program\": TOKEN_PROGRAM_ID,\n",
    "                    \"serum_authority\": client.exchange._serum_authority_address,\n",
    "                    \"open_orders\": client._open_orders_addresses[asset],\n",
    "                    \"rent\": RENT,\n",
    "                    \"market_accounts\": {\n",
    "                        \"market\": client.exchange.markets[asset].address,\n",
    "                        \"request_queue\": client.exchange.markets[asset]._serum_market.state.request_queue(),\n",
    "                        \"event_queue\": client.exchange.markets[asset]._serum_market.state.event_queue(),\n",
    "                        \"bids\": client.exchange.markets[asset]._serum_market.state.bids(),\n",
    "                        \"asks\": client.exchange.markets[asset]._serum_market.state.asks(),\n",
    "                        \"order_payer_token_account\": client.exchange.markets[asset]._quote_zeta_vault_address\n",
    "                        if side == Side.BID\n",
    "                        else client.exchange.markets[asset]._base_zeta_vault_address,\n",
    "                        \"coin_vault\": client.exchange.markets[asset]._serum_market.state.base_vault(),\n",
    "                        \"pc_vault\": client.exchange.markets[asset]._serum_market.state.quote_vault(),\n",
    "                        \"coin_wallet\": client.exchange.markets[asset]._base_zeta_vault_address,\n",
    "                        \"pc_wallet\": client.exchange.markets[asset]._quote_zeta_vault_address,\n",
    "                    },\n",
    "                    \"oracle\": client.exchange.pricing.account.oracles[asset.to_index()],\n",
    "                    \"oracle_backup_feed\": client.exchange.pricing.account.oracle_backup_feeds[asset.to_index()],\n",
    "                    \"oracle_backup_program\": constants.CHAINLINK_PID,\n",
    "                    \"market_mint\": client.exchange.markets[asset]._serum_market.state.quote_mint()\n",
    "                    if side == Side.BID\n",
    "                    else client.exchange.markets[asset]._serum_market.state.base_mint(),\n",
    "                    \"mint_authority\": client.exchange._mint_authority_address,\n",
    "                    \"perp_sync_queue\": client.exchange.pricing.account.perp_sync_queues[asset.to_index()],\n",
    "                },\n",
    "            )\n",
    ")\n",
    "\n",
    "# TODO: grab recent blockhash??\n",
    "signed_tx = client.provider.wallet.sign_transaction(tx)\n",
    "signed_tx.verify_signatures()\n",
    "\n",
    "await client.provider.simulate(signed_tx)"
   ]
  },
  {
   "cell_type": "code",
   "execution_count": null,
   "metadata": {},
   "outputs": [],
   "source": []
  }
 ],
 "metadata": {
  "kernelspec": {
   "display_name": ".venv",
   "language": "python",
   "name": "python3"
  },
  "language_info": {
   "codemirror_mode": {
    "name": "ipython",
    "version": 3
   },
   "file_extension": ".py",
   "mimetype": "text/x-python",
   "name": "python",
   "nbconvert_exporter": "python",
   "pygments_lexer": "ipython3",
   "version": "3.11.4"
  },
  "orig_nbformat": 4
 },
 "nbformat": 4,
 "nbformat_minor": 2
}
