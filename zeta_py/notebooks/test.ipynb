{
 "cells": [
  {
   "cell_type": "code",
   "execution_count": 20,
   "metadata": {},
   "outputs": [
    {
     "name": "stdout",
     "output_type": "stream",
     "text": [
      "The autoreload extension is already loaded. To reload it, use:\n",
      "  %reload_ext autoreload\n"
     ]
    }
   ],
   "source": [
    "%load_ext autoreload"
   ]
  },
  {
   "cell_type": "code",
   "execution_count": 31,
   "metadata": {},
   "outputs": [
    {
     "data": {
      "text/plain": [
       "<module 'zeta_py' from '/Users/tfrizza/Documents/zeta/zeta-py/zeta_py/__init__.py'>"
      ]
     },
     "execution_count": 31,
     "metadata": {},
     "output_type": "execute_result"
    }
   ],
   "source": [
    "import importlib\n",
    "\n",
    "importlib.reload(zeta_py)"
   ]
  },
  {
   "cell_type": "code",
   "execution_count": 1,
   "metadata": {},
   "outputs": [
    {
     "name": "stdout",
     "output_type": "stream",
     "text": [
      "4mYxEXiFwe3ePEmoj7CYCbiW7wGTojUQCmdPqGaoVaUh\n"
     ]
    }
   ],
   "source": [
    "from zeta_py.zeta_client.accounts.pricing import Pricing\n",
    "from solana.rpc.async_api import AsyncClient\n",
    "from zeta_py.client import Client\n",
    "from zeta_py.types import Network, Asset\n",
    "import anchorpy\n",
    "from solders.pubkey import Pubkey\n",
    "from zeta_py import pda\n",
    "\n",
    "conn = AsyncClient(\"https://api.mainnet-beta.solana.com\")\n",
    "\n",
    "wallet = anchorpy.Wallet.local()  # get local filesystem keypair wallet\n",
    "print(wallet.public_key)"
   ]
  },
  {
   "cell_type": "code",
   "execution_count": 2,
   "metadata": {},
   "outputs": [
    {
     "name": "stdout",
     "output_type": "stream",
     "text": [
      "Balance: 0.24393317 SOL\n"
     ]
    }
   ],
   "source": [
    "print(f\"Balance: {(await conn.get_balance(wallet.public_key)).value / 1e9} SOL\")"
   ]
  },
  {
   "cell_type": "code",
   "execution_count": 2,
   "metadata": {},
   "outputs": [
    {
     "name": "stderr",
     "output_type": "stream",
     "text": [
      "INFO:zeta_py.accounts.Account:Loaded account: State\n",
      "INFO:zeta_py.accounts.Account:Loaded account: Pricing\n",
      "INFO:zeta_py.accounts.Account:Loaded account: PerpSyncQueue\n",
      "INFO:zeta_py.accounts.Account:Loaded account: Clock\n",
      "INFO:zeta_py.accounts.Account:Loaded account: CrossMarginAccount\n"
     ]
    }
   ],
   "source": [
    "client = await Client.load(Network.MAINNET, conn, wallet, [Asset.SOL])"
   ]
  },
  {
   "cell_type": "code",
   "execution_count": 4,
   "metadata": {},
   "outputs": [
    {
     "name": "stdout",
     "output_type": "stream",
     "text": [
      "0.009716\n",
      "{<Asset.SOL: 0>: Position(size=0.001, cost_of_trades=0.021262)}\n",
      "{<Asset.SOL: 0>: [Order(order_id=184467459183839589766535671, client_id=0, open_order_address=Pubkey(\n",
      "    ciwBQfLdM97vFp8GwYYLczPgYoLfdkTVD6dhHAeGoWj,\n",
      "), open_order_slot=0, fee_tier=0, info=OrderInfo(price=10.0, size=0.001, price_lots=10000000, size_lots=1), side=<Side.BID: 0>, tif_offset=0)]}\n"
     ]
    }
   ],
   "source": [
    "print(client.balance)\n",
    "print(client.positions)\n",
    "print(client.open_orders)"
   ]
  },
  {
   "cell_type": "code",
   "execution_count": 3,
   "metadata": {},
   "outputs": [
    {
     "name": "stderr",
     "output_type": "stream",
     "text": [
      "INFO:zeta_py.accounts.Account:Loaded account: CrossMarginAccountManager\n",
      "INFO:zeta_py.client.Client:Deposit of $0.0001 USDC to margin account Hu2yXbPESXyamLdvDemeASCFd3rHnpN2xBDUJpnuG5UX submitted (tx: 4HPn8MEhmPXcyM4vKdmgtGiS6u6yTChmfrLGmgkvuBo8e94ZnQ2ufWVU2MLDU31ZpwL7LHtaHjrZRaPQVTDzaxaT)\n"
     ]
    },
    {
     "data": {
      "text/plain": [
       "Signature(\n",
       "    4HPn8MEhmPXcyM4vKdmgtGiS6u6yTChmfrLGmgkvuBo8e94ZnQ2ufWVU2MLDU31ZpwL7LHtaHjrZRaPQVTDzaxaT,\n",
       ")"
      ]
     },
     "execution_count": 3,
     "metadata": {},
     "output_type": "execute_result"
    }
   ],
   "source": [
    "await client.deposit(0.0001)"
   ]
  },
  {
   "cell_type": "code",
   "execution_count": 8,
   "metadata": {},
   "outputs": [
    {
     "data": {
      "text/plain": [
       "True"
      ]
     },
     "execution_count": 8,
     "metadata": {},
     "output_type": "execute_result"
    }
   ],
   "source": [
    "from solana.transaction import Transaction\n",
    "from zeta_py import utils\n",
    "\n",
    "from zeta_py.zeta_client.instructions import (\n",
    "    deposit_v2,\n",
    "    initialize_cross_margin_account,\n",
    "    initialize_cross_margin_account_manager,\n",
    ")\n",
    "\n",
    "tx = Transaction()\n",
    "tx.add(\n",
    "    initialize_cross_margin_account_manager(\n",
    "        {\n",
    "            \"cross_margin_account_manager\": client._cross_margin_account_manager_address,\n",
    "            \"authority\": client.provider.wallet.public_key,\n",
    "            \"payer\": client.provider.wallet.public_key,\n",
    "            \"zeta_program\": client.exchange.program_id,\n",
    "        }\n",
    "    )\n",
    ")\n",
    "# tx.add(\n",
    "#     initialize_cross_margin_account(\n",
    "#         {\"subaccount_index\": 0},\n",
    "#         {\n",
    "#             \"cross_margin_account\": client.margin_account.address,\n",
    "#             \"cross_margin_account_manager\": client._cross_margin_account_manager_address,\n",
    "#             \"authority\": client.provider.wallet.public_key,\n",
    "#             \"payer\": client.provider.wallet.public_key,\n",
    "#             \"zeta_program\": client.exchange.program_id,\n",
    "#         },\n",
    "#     )\n",
    "# )\n",
    "# tx.add(\n",
    "#     deposit_v2(\n",
    "#         {\"amount\": utils.convert_decimal_to_fixed_int(0.001)},\n",
    "#         {\n",
    "#             \"margin_account\": client.margin_account.address,\n",
    "#             \"vault\": client._combined_vault_address,\n",
    "#             \"user_token_account\": client._user_usdc_address,\n",
    "#             \"socialized_loss_account\": client._combined_socialized_loss_address,\n",
    "#             \"authority\": client.provider.wallet.public_key,\n",
    "#             \"state\": client.exchange.state.address,\n",
    "#             \"pricing\": client.exchange.pricing.address,\n",
    "#         },\n",
    "#     )\n",
    "# )\n",
    "\n",
    "# TODO: grab recent blockhash??\n",
    "signed_tx = client.provider.wallet.sign_transaction(tx)\n",
    "signed_tx.verify_signatures()"
   ]
  },
  {
   "cell_type": "code",
   "execution_count": null,
   "metadata": {},
   "outputs": [],
   "source": []
  }
 ],
 "metadata": {
  "kernelspec": {
   "display_name": ".venv",
   "language": "python",
   "name": "python3"
  },
  "language_info": {
   "codemirror_mode": {
    "name": "ipython",
    "version": 3
   },
   "file_extension": ".py",
   "mimetype": "text/x-python",
   "name": "python",
   "nbconvert_exporter": "python",
   "pygments_lexer": "ipython3",
   "version": "3.11.4"
  },
  "orig_nbformat": 4
 },
 "nbformat": 4,
 "nbformat_minor": 2
}
