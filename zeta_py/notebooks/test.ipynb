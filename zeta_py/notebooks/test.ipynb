{
 "cells": [
  {
   "cell_type": "code",
   "execution_count": 1,
   "metadata": {},
   "outputs": [],
   "source": [
    "%load_ext dotenv\n",
    "%dotenv"
   ]
  },
  {
   "cell_type": "code",
   "execution_count": 5,
   "metadata": {},
   "outputs": [
    {
     "name": "stdout",
     "output_type": "stream",
     "text": [
      "https://zeta.rpcpool\n",
      "4mYxEXiFwe3ePEmoj7CYCbiW7wGTojUQCmdPqGaoVaUh\n"
     ]
    }
   ],
   "source": [
    "# TODO: test whirligig ws\n",
    "# TODO: test with ccxt\n",
    "\n",
    "import logging\n",
    "import os\n",
    "from zeta_py.zeta_client.accounts.pricing import Pricing\n",
    "from solana.rpc.async_api import AsyncClient\n",
    "from zeta_py.client import Client\n",
    "from zeta_py.types import Network, Asset, Side\n",
    "import anchorpy\n",
    "from solders.pubkey import Pubkey\n",
    "from zeta_py import pda\n",
    "from solana.rpc.commitment import Confirmed, Finalized\n",
    "from datetime import datetime, timedelta\n",
    "from zeta_py.types import OrderOptions, OrderType\n",
    "from solana.rpc.types import TxOpts\n",
    "from datetime import datetime, timedelta\n",
    "from zeta_py.types import OrderOptions, OrderType\n",
    "from zeta_py import utils\n",
    "\n",
    "logger = logging.getLogger(\"zeta_py\")\n",
    "logging.basicConfig(level=logging.DEBUG)\n",
    "\n",
    "endpoint = os.getenv(\"ENDPOINT\", \"https://api.mainnet-beta.solana.com\")\n",
    "print(endpoint.split(\".com\")[0])\n",
    "conn = AsyncClient(endpoint, commitment=Confirmed, blockhash_cache=False)\n",
    "\n",
    "wallet = anchorpy.Wallet.local()  # get local filesystem keypair wallet\n",
    "print(wallet.public_key)"
   ]
  },
  {
   "cell_type": "code",
   "execution_count": 3,
   "metadata": {},
   "outputs": [],
   "source": [
    "# print(f\"Balance: {(await conn.get_balance(wallet.public_key)).value / 1e9} SOL\")"
   ]
  },
  {
   "cell_type": "code",
   "execution_count": 4,
   "metadata": {},
   "outputs": [
    {
     "name": "stderr",
     "output_type": "stream",
     "text": [
      "INFO:zeta_py.accounts.Account:Loaded account: State\n",
      "INFO:zeta_py.accounts.Account:Loaded account: Pricing\n",
      "INFO:zeta_py.market.Market.SOL:Subscribed to SOL:bid\n",
      "INFO:zeta_py.market.Market.SOL:Subscribed to SOL:ask\n",
      "INFO:zeta_py.accounts.Account:Loaded account: Clock\n",
      "INFO:zeta_py.accounts.Account:Subscribed to Clock\n",
      "INFO:zeta_py.accounts.Account:Subscribed to Pricing\n",
      "INFO:zeta_py.accounts.Account:Loaded account: CrossMarginAccount\n"
     ]
    },
    {
     "name": "stderr",
     "output_type": "stream",
     "text": [
      "ERROR:zeta_py.accounts.Account:Error subscribing to Clock: \n",
      "ERROR:zeta_py.accounts.Account:Error subscribing to Pricing: \n"
     ]
    }
   ],
   "source": [
    "tx_opts = TxOpts({\"preflight_commitment\": Confirmed, \"skip_confirmation\": False})\n",
    "\n",
    "client = await Client.load(Network.MAINNET, conn, wallet, [Asset.SOL], subscribe=True, tx_opts=tx_opts)"
   ]
  },
  {
   "cell_type": "code",
   "execution_count": 5,
   "metadata": {},
   "outputs": [
    {
     "name": "stdout",
     "output_type": "stream",
     "text": [
      "0.1\n",
      "{<Asset.SOL: 0>: Position(size=0.0, cost_of_trades=0.0)}\n",
      "{<Asset.SOL: 0>: [Order(order_id=387381643994644657538064724, client_id=69, open_order_address=Pubkey(\n",
      "    ciwBQfLdM97vFp8GwYYLczPgYoLfdkTVD6dhHAeGoWj,\n",
      "), open_order_slot=0, fee_tier=0, info=OrderInfo(price=21.0, size=0.002, price_lots=21000000, size_lots=2), side=<Side.Bid: 0>, tif_offset=45301), Order(order_id=405828369621610135659486892, client_id=69, open_order_address=Pubkey(\n",
      "    ciwBQfLdM97vFp8GwYYLczPgYoLfdkTVD6dhHAeGoWj,\n",
      "), open_order_slot=1, fee_tier=0, info=OrderInfo(price=22.0, size=0.002, price_lots=22000000, size_lots=2), side=<Side.Ask: 1>, tif_offset=45301)]}\n"
     ]
    }
   ],
   "source": [
    "print(client.balance)\n",
    "print(client.positions)\n",
    "print(client.open_orders)"
   ]
  },
  {
   "cell_type": "code",
   "execution_count": 4,
   "metadata": {},
   "outputs": [
    {
     "name": "stderr",
     "output_type": "stream",
     "text": [
      "INFO:zeta_py.accounts.Account:Loaded account: CrossMarginAccountManager\n",
      "INFO:zeta_py.client.Client:Depositing 0.1 USDC to margin account\n"
     ]
    },
    {
     "data": {
      "text/plain": [
       "Signature(\n",
       "    4z7zNwWhqM6Fr4N2tuvccfSfJc3vBWTVZZgab1VV6qmFhZxPjHVeZ1tMyQjCX9CrLvFZsppuRzPRqysQVDxJ1Zr6,\n",
       ")"
      ]
     },
     "execution_count": 4,
     "metadata": {},
     "output_type": "execute_result"
    }
   ],
   "source": [
    "await client.deposit(0.1)"
   ]
  },
  {
   "cell_type": "code",
   "execution_count": null,
   "metadata": {},
   "outputs": [],
   "source": [
    "# Place order\n",
    "\n",
    "expiry_ts = int((datetime.now() + timedelta(seconds=1000)).timestamp())\n",
    "order_opts = OrderOptions(expiry_ts=expiry_ts, order_type=OrderType.PostOnlySlide, client_order_id=69)\n",
    "await client.place_order(Asset.SOL, 0.1, 0.001, Side.Ask, order_opts)"
   ]
  },
  {
   "cell_type": "markdown",
   "metadata": {},
   "source": [
    "# Quoting\n",
    "Use this code to atomically cancel and replace a set of quotes on Zeta.\n",
    "\n",
    "*For this example we quote 0.001 SOL-PERP contracts at 20bps spread*"
   ]
  },
  {
   "cell_type": "code",
   "execution_count": 7,
   "metadata": {},
   "outputs": [
    {
     "name": "stderr",
     "output_type": "stream",
     "text": [
      "INFO:zeta_py.client.Client:Replacing SOL orders: 0.001x Bid @ $21.757750469999998, 0.001x Ask @ $21.801309529999997\n"
     ]
    },
    {
     "data": {
      "text/plain": [
       "Signature(\n",
       "    3Lb5vqF3pQKSqXBLm4hx4EMgRtMJctcSuwgZ8unRfXF9wgFewQuXF7JMTpgDDURQMcPMfMLy1XifVD9P6o6KgMDd,\n",
       ")"
      ]
     },
     "execution_count": 7,
     "metadata": {},
     "output_type": "execute_result"
    }
   ],
   "source": [
    "# Quoting parameters\n",
    "asset = Asset.SOL  # SOL-PERP market\n",
    "quote_size = 0.001  # min size\n",
    "quote_bps = 10  # basis points from midpoint\n",
    "time_in_force = 10  # expire the quote after 10 seconds\n",
    "\n",
    "# Get the latest mark price and calculate bid/ask prices\n",
    "price_fixed = client.exchange.pricing.account.mark_prices[asset.to_index()]\n",
    "bid_price = utils.convert_fixed_int_to_decimal(price_fixed * (1 - quote_bps / 10000))\n",
    "ask_price = utils.convert_fixed_int_to_decimal(price_fixed * (1 + quote_bps / 10000))\n",
    "\n",
    "# Set order options\n",
    "expiry_ts = int((datetime.now() + timedelta(seconds=time_in_force)).timestamp())\n",
    "order_opts = OrderOptions(expiry_ts=expiry_ts, order_type=OrderType.Limit, client_order_id=69)\n",
    "\n",
    "# Execute quote!\n",
    "await client.replace_quote(Asset.SOL, bid_price, quote_size, ask_price, quote_size, order_opts)"
   ]
  },
  {
   "cell_type": "code",
   "execution_count": 8,
   "metadata": {},
   "outputs": [
    {
     "name": "stdout",
     "output_type": "stream",
     "text": [
      "Open Orders:\n",
      "Bid 0.001x $21.7577\n",
      "Ask 0.001x $21.8013\n"
     ]
    },
    {
     "name": "stderr",
     "output_type": "stream",
     "text": [
      "ERROR:zeta_py.accounts.Account:Error subscribing to Clock: no close frame received or sent\n",
      "ERROR:zeta_py.accounts.Account:Error subscribing to Pricing: no close frame received or sent\n"
     ]
    }
   ],
   "source": [
    "open_orders = await client.fetch_open_orders(Asset.SOL)\n",
    "print(\"Open Orders:\")\n",
    "for order in open_orders:\n",
    "    print(f\"{order.side.name} {order.info.size}x ${order.info.price}\")"
   ]
  },
  {
   "cell_type": "code",
   "execution_count": null,
   "metadata": {},
   "outputs": [],
   "source": [
    "oid = open_orders[0].order_id\n",
    "await client.cancel_order(Asset.SOL, order_id=oid, side=Side.Ask)"
   ]
  },
  {
   "cell_type": "code",
   "execution_count": 17,
   "metadata": {},
   "outputs": [
    {
     "name": "stderr",
     "output_type": "stream",
     "text": [
      "WARNING:ccxt.base.exchange:binance requires to release all resources with an explicit call to the .close() coroutine. If you are using the exchange instance with async coroutines, add `await exchange.close()` to your code into a place when you're done with the exchange and don't need the exchange instance anymore (at the end of your async coroutine).\n",
      "ERROR:asyncio:Unclosed client session\n",
      "client_session: <aiohttp.client.ClientSession object at 0x110241650>\n"
     ]
    },
    {
     "data": {
      "text/plain": [
       "'21.86000000'"
      ]
     },
     "execution_count": 17,
     "metadata": {},
     "output_type": "execute_result"
    }
   ],
   "source": [
    "import ccxt.async_support as ccxt\n",
    "\n",
    "binance = ccxt.binance()\n",
    "symbol = \"SOL/USDT\"\n",
    "info = await binance.fetch_ticker(symbol)\n",
    "info[\"info\"][\"bidPrice\"]"
   ]
  },
  {
   "cell_type": "code",
   "execution_count": null,
   "metadata": {},
   "outputs": [],
   "source": []
  }
 ],
 "metadata": {
  "kernelspec": {
   "display_name": ".venv",
   "language": "python",
   "name": "python3"
  },
  "language_info": {
   "codemirror_mode": {
    "name": "ipython",
    "version": 3
   },
   "file_extension": ".py",
   "mimetype": "text/x-python",
   "name": "python",
   "nbconvert_exporter": "python",
   "pygments_lexer": "ipython3",
   "version": "3.11.4"
  },
  "orig_nbformat": 4
 },
 "nbformat": 4,
 "nbformat_minor": 2
}
