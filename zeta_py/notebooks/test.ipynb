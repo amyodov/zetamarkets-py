{
 "cells": [
  {
   "cell_type": "code",
   "execution_count": 1,
   "metadata": {},
   "outputs": [
    {
     "name": "stdout",
     "output_type": "stream",
     "text": [
      "4mYxEXiFwe3ePEmoj7CYCbiW7wGTojUQCmdPqGaoVaUh\n"
     ]
    }
   ],
   "source": [
    "from zeta_py.zeta_client.accounts.pricing import Pricing\n",
    "from solana.rpc.async_api import AsyncClient\n",
    "from zeta_py.client import Client\n",
    "from zeta_py.types import Network, Asset\n",
    "import anchorpy\n",
    "from solders.pubkey import Pubkey\n",
    "from zeta_py import pda\n",
    "from solana.rpc.commitment import Confirmed\n",
    "\n",
    "conn = AsyncClient(\"https://api.mainnet-beta.solana.com\", commitment=Confirmed, blockhash_cache=True)\n",
    "\n",
    "wallet = anchorpy.Wallet.local()  # get local filesystem keypair wallet\n",
    "print(wallet.public_key)"
   ]
  },
  {
   "cell_type": "code",
   "execution_count": 2,
   "metadata": {},
   "outputs": [
    {
     "name": "stdout",
     "output_type": "stream",
     "text": [
      "Balance: 0.24393317 SOL\n"
     ]
    }
   ],
   "source": [
    "print(f\"Balance: {(await conn.get_balance(wallet.public_key)).value / 1e9} SOL\")"
   ]
  },
  {
   "cell_type": "code",
   "execution_count": 3,
   "metadata": {},
   "outputs": [
    {
     "name": "stderr",
     "output_type": "stream",
     "text": [
      "INFO:zeta_py.accounts.Account:Loaded account: State\n",
      "INFO:zeta_py.accounts.Account:Loaded account: Pricing\n",
      "INFO:zeta_py.accounts.Account:Loaded account: Clock\n",
      "INFO:zeta_py.accounts.Account:Loaded account: CrossMarginAccount\n"
     ]
    },
    {
     "ename": "StreamError",
     "evalue": "Error in path (parsing)\nstream read less than specified amount, expected 5, found 0",
     "output_type": "error",
     "traceback": [
      "\u001b[0;31m---------------------------------------------------------------------------\u001b[0m",
      "\u001b[0;31mStreamError\u001b[0m                               Traceback (most recent call last)",
      "Cell \u001b[0;32mIn[3], line 1\u001b[0m\n\u001b[0;32m----> 1\u001b[0m client \u001b[39m=\u001b[39m \u001b[39mawait\u001b[39;00m Client\u001b[39m.\u001b[39mload(Network\u001b[39m.\u001b[39mMAINNET, conn, wallet, [Asset\u001b[39m.\u001b[39mSOL, Asset\u001b[39m.\u001b[39mAPT])\n",
      "File \u001b[0;32m~/Documents/zeta/zeta-py/zeta_py/client.py:103\u001b[0m, in \u001b[0;36mClient.load\u001b[0;34m(cls, network, connection, wallet, assets, tx_opts, subscribe)\u001b[0m\n\u001b[1;32m     96\u001b[0m     \u001b[39m# open orders per market\u001b[39;00m\n\u001b[1;32m     97\u001b[0m     open_orders_address \u001b[39m=\u001b[39m pda\u001b[39m.\u001b[39mget_open_orders_address(\n\u001b[1;32m     98\u001b[0m         exchange\u001b[39m.\u001b[39mprogram_id,\n\u001b[1;32m     99\u001b[0m         constants\u001b[39m.\u001b[39mDEX_PID[network],\n\u001b[1;32m    100\u001b[0m         exchange\u001b[39m.\u001b[39mmarkets[asset]\u001b[39m.\u001b[39maddress,\n\u001b[1;32m    101\u001b[0m         margin_account\u001b[39m.\u001b[39maddress,\n\u001b[1;32m    102\u001b[0m     )\n\u001b[0;32m--> 103\u001b[0m     open_orders[asset] \u001b[39m=\u001b[39m \u001b[39mawait\u001b[39;00m exchange\u001b[39m.\u001b[39mmarkets[asset]\u001b[39m.\u001b[39m_serum_market\u001b[39m.\u001b[39mload_orders_for_owner(open_orders_address)\n\u001b[1;32m    105\u001b[0m \u001b[39m# additional addresses to cache\u001b[39;00m\n\u001b[1;32m    106\u001b[0m _margin_account_manager_address \u001b[39m=\u001b[39m pda\u001b[39m.\u001b[39mget_cross_margin_account_manager_address(\n\u001b[1;32m    107\u001b[0m     exchange\u001b[39m.\u001b[39mprogram_id, provider\u001b[39m.\u001b[39mwallet\u001b[39m.\u001b[39mpublic_key\n\u001b[1;32m    108\u001b[0m )\n",
      "File \u001b[0;32m~/Documents/zeta/zeta-py/zeta_py/pyserum/market/async_market.py:79\u001b[0m, in \u001b[0;36mAsyncMarket.load_orders_for_owner\u001b[0;34m(self, open_orders_account_address)\u001b[0m\n\u001b[1;32m     77\u001b[0m \u001b[39m\u001b[39m\u001b[39m\"\"\"Load orders for owner.\"\"\"\u001b[39;00m\n\u001b[1;32m     78\u001b[0m bids, asks \u001b[39m=\u001b[39m \u001b[39mawait\u001b[39;00m \u001b[39mself\u001b[39m\u001b[39m.\u001b[39mload_bids_and_asks()\n\u001b[0;32m---> 79\u001b[0m open_orders_accounts \u001b[39m=\u001b[39m [\u001b[39mawait\u001b[39;00m AsyncOpenOrdersAccount\u001b[39m.\u001b[39mload(\u001b[39mself\u001b[39m\u001b[39m.\u001b[39m_conn, open_orders_account_address)]\n\u001b[1;32m     80\u001b[0m \u001b[39mreturn\u001b[39;00m \u001b[39mself\u001b[39m\u001b[39m.\u001b[39m_parse_orders_for_owner(bids, asks, open_orders_accounts)\n",
      "File \u001b[0;32m~/Documents/zeta/zeta-py/zeta_py/pyserum/async_open_orders_account.py:80\u001b[0m, in \u001b[0;36mAsyncOpenOrdersAccount.load\u001b[0;34m(cls, conn, address)\u001b[0m\n\u001b[1;32m     77\u001b[0m \u001b[39m@classmethod\u001b[39m\n\u001b[1;32m     78\u001b[0m \u001b[39masync\u001b[39;00m \u001b[39mdef\u001b[39;00m \u001b[39mload\u001b[39m(\u001b[39mcls\u001b[39m, conn: AsyncClient, address: Pubkey) \u001b[39m-\u001b[39m\u001b[39m>\u001b[39m AsyncOpenOrdersAccount:\n\u001b[1;32m     79\u001b[0m     bytes_data \u001b[39m=\u001b[39m \u001b[39mawait\u001b[39;00m load_bytes_data(address, conn)\n\u001b[0;32m---> 80\u001b[0m     \u001b[39mreturn\u001b[39;00m \u001b[39mcls\u001b[39;49m\u001b[39m.\u001b[39;49mfrom_bytes(address, bytes_data)\n",
      "File \u001b[0;32m~/Documents/zeta/zeta-py/zeta_py/pyserum/async_open_orders_account.py:57\u001b[0m, in \u001b[0;36m_OpenOrdersAccountCore.from_bytes\u001b[0;34m(cls, address, buffer)\u001b[0m\n\u001b[1;32m     55\u001b[0m \u001b[39m@classmethod\u001b[39m\n\u001b[1;32m     56\u001b[0m \u001b[39mdef\u001b[39;00m \u001b[39mfrom_bytes\u001b[39m(\u001b[39mcls\u001b[39m: Type[_T], address: Pubkey, buffer: \u001b[39mbytes\u001b[39m) \u001b[39m-\u001b[39m\u001b[39m>\u001b[39m _T:\n\u001b[0;32m---> 57\u001b[0m     open_order_decoded \u001b[39m=\u001b[39m OPEN_ORDERS_LAYOUT\u001b[39m.\u001b[39;49mparse(buffer)\n\u001b[1;32m     58\u001b[0m     \u001b[39mif\u001b[39;00m \u001b[39mnot\u001b[39;00m open_order_decoded\u001b[39m.\u001b[39maccount_flags\u001b[39m.\u001b[39mopen_orders \u001b[39mor\u001b[39;00m \u001b[39mnot\u001b[39;00m open_order_decoded\u001b[39m.\u001b[39maccount_flags\u001b[39m.\u001b[39minitialized:\n\u001b[1;32m     59\u001b[0m         \u001b[39mraise\u001b[39;00m \u001b[39mException\u001b[39;00m(\u001b[39m\"\u001b[39m\u001b[39mNot an open order account or not initialized.\u001b[39m\u001b[39m\"\u001b[39m)\n",
      "File \u001b[0;32m~/Documents/zeta/zeta-py/.venv/lib/python3.11/site-packages/construct/core.py:288\u001b[0m, in \u001b[0;36mConstruct.parse\u001b[0;34m(self, data, **contextkw)\u001b[0m\n\u001b[1;32m    274\u001b[0m \u001b[39mdef\u001b[39;00m \u001b[39mparse\u001b[39m(\u001b[39mself\u001b[39m, data, \u001b[39m*\u001b[39m\u001b[39m*\u001b[39mcontextkw):\n\u001b[1;32m    275\u001b[0m \u001b[39m    \u001b[39m\u001b[39mr\u001b[39m\u001b[39m\"\"\"\u001b[39;00m\n\u001b[1;32m    276\u001b[0m \u001b[39m    Parse an in-memory buffer (often bytes object). Strings, buffers, memoryviews, and other complete buffers can be parsed with this method.\u001b[39;00m\n\u001b[1;32m    277\u001b[0m \n\u001b[0;32m   (...)\u001b[0m\n\u001b[1;32m    286\u001b[0m \u001b[39m    :raises ConstructError: raised for any reason\u001b[39;00m\n\u001b[1;32m    287\u001b[0m \u001b[39m    \"\"\"\u001b[39;00m\n\u001b[0;32m--> 288\u001b[0m     \u001b[39mreturn\u001b[39;00m \u001b[39mself\u001b[39;49m\u001b[39m.\u001b[39;49mparse_stream(io\u001b[39m.\u001b[39;49mBytesIO(data), \u001b[39m*\u001b[39;49m\u001b[39m*\u001b[39;49mcontextkw)\n",
      "File \u001b[0;32m~/Documents/zeta/zeta-py/.venv/lib/python3.11/site-packages/construct/core.py:300\u001b[0m, in \u001b[0;36mConstruct.parse_stream\u001b[0;34m(self, stream, **contextkw)\u001b[0m\n\u001b[1;32m    298\u001b[0m context\u001b[39m.\u001b[39m_params \u001b[39m=\u001b[39m context\n\u001b[1;32m    299\u001b[0m \u001b[39mtry\u001b[39;00m:\n\u001b[0;32m--> 300\u001b[0m     \u001b[39mreturn\u001b[39;00m \u001b[39mself\u001b[39;49m\u001b[39m.\u001b[39;49m_parsereport(stream, context, \u001b[39m\"\u001b[39;49m\u001b[39m(parsing)\u001b[39;49m\u001b[39m\"\u001b[39;49m)\n\u001b[1;32m    301\u001b[0m \u001b[39mexcept\u001b[39;00m CancelParsing:\n\u001b[1;32m    302\u001b[0m     \u001b[39mpass\u001b[39;00m\n",
      "File \u001b[0;32m~/Documents/zeta/zeta-py/.venv/lib/python3.11/site-packages/construct/core.py:312\u001b[0m, in \u001b[0;36mConstruct._parsereport\u001b[0;34m(self, stream, context, path)\u001b[0m\n\u001b[1;32m    311\u001b[0m \u001b[39mdef\u001b[39;00m \u001b[39m_parsereport\u001b[39m(\u001b[39mself\u001b[39m, stream, context, path):\n\u001b[0;32m--> 312\u001b[0m     obj \u001b[39m=\u001b[39m \u001b[39mself\u001b[39;49m\u001b[39m.\u001b[39;49m_parse(stream, context, path)\n\u001b[1;32m    313\u001b[0m     \u001b[39mif\u001b[39;00m \u001b[39mself\u001b[39m\u001b[39m.\u001b[39mparsed \u001b[39mis\u001b[39;00m \u001b[39mnot\u001b[39;00m \u001b[39mNone\u001b[39;00m:\n\u001b[1;32m    314\u001b[0m         \u001b[39mself\u001b[39m\u001b[39m.\u001b[39mparsed(obj, context)\n",
      "File \u001b[0;32m~/Documents/zeta/zeta-py/.venv/lib/python3.11/site-packages/construct/core.py:2120\u001b[0m, in \u001b[0;36mStruct._parse\u001b[0;34m(self, stream, context, path)\u001b[0m\n\u001b[1;32m   2118\u001b[0m \u001b[39mfor\u001b[39;00m sc \u001b[39min\u001b[39;00m \u001b[39mself\u001b[39m\u001b[39m.\u001b[39msubcons:\n\u001b[1;32m   2119\u001b[0m     \u001b[39mtry\u001b[39;00m:\n\u001b[0;32m-> 2120\u001b[0m         subobj \u001b[39m=\u001b[39m sc\u001b[39m.\u001b[39;49m_parsereport(stream, context, path)\n\u001b[1;32m   2121\u001b[0m         \u001b[39mif\u001b[39;00m sc\u001b[39m.\u001b[39mname:\n\u001b[1;32m   2122\u001b[0m             obj[sc\u001b[39m.\u001b[39mname] \u001b[39m=\u001b[39m subobj\n",
      "File \u001b[0;32m~/Documents/zeta/zeta-py/.venv/lib/python3.11/site-packages/construct/core.py:312\u001b[0m, in \u001b[0;36mConstruct._parsereport\u001b[0;34m(self, stream, context, path)\u001b[0m\n\u001b[1;32m    311\u001b[0m \u001b[39mdef\u001b[39;00m \u001b[39m_parsereport\u001b[39m(\u001b[39mself\u001b[39m, stream, context, path):\n\u001b[0;32m--> 312\u001b[0m     obj \u001b[39m=\u001b[39m \u001b[39mself\u001b[39;49m\u001b[39m.\u001b[39;49m_parse(stream, context, path)\n\u001b[1;32m    313\u001b[0m     \u001b[39mif\u001b[39;00m \u001b[39mself\u001b[39m\u001b[39m.\u001b[39mparsed \u001b[39mis\u001b[39;00m \u001b[39mnot\u001b[39;00m \u001b[39mNone\u001b[39;00m:\n\u001b[1;32m    314\u001b[0m         \u001b[39mself\u001b[39m\u001b[39m.\u001b[39mparsed(obj, context)\n",
      "File \u001b[0;32m~/Documents/zeta/zeta-py/.venv/lib/python3.11/site-packages/construct/core.py:4101\u001b[0m, in \u001b[0;36mPadded._parse\u001b[0;34m(self, stream, context, path)\u001b[0m\n\u001b[1;32m   4099\u001b[0m \u001b[39mif\u001b[39;00m pad \u001b[39m<\u001b[39m \u001b[39m0\u001b[39m:\n\u001b[1;32m   4100\u001b[0m     \u001b[39mraise\u001b[39;00m PaddingError(\u001b[39m\"\u001b[39m\u001b[39msubcon parsed \u001b[39m\u001b[39m%d\u001b[39;00m\u001b[39m bytes but was allowed only \u001b[39m\u001b[39m%d\u001b[39;00m\u001b[39m\"\u001b[39m \u001b[39m%\u001b[39m (position2\u001b[39m-\u001b[39mposition1, length), path\u001b[39m=\u001b[39mpath)\n\u001b[0;32m-> 4101\u001b[0m stream_read(stream, pad, path)\n\u001b[1;32m   4102\u001b[0m \u001b[39mreturn\u001b[39;00m obj\n",
      "File \u001b[0;32m~/Documents/zeta/zeta-py/.venv/lib/python3.11/site-packages/construct/core.py:91\u001b[0m, in \u001b[0;36mstream_read\u001b[0;34m(stream, length, path)\u001b[0m\n\u001b[1;32m     89\u001b[0m     \u001b[39mraise\u001b[39;00m StreamError(\u001b[39m\"\u001b[39m\u001b[39mstream.read() failed, requested \u001b[39m\u001b[39m%s\u001b[39;00m\u001b[39m bytes\u001b[39m\u001b[39m\"\u001b[39m \u001b[39m%\u001b[39m (length,), path\u001b[39m=\u001b[39mpath)\n\u001b[1;32m     90\u001b[0m \u001b[39mif\u001b[39;00m \u001b[39mlen\u001b[39m(data) \u001b[39m!=\u001b[39m length:\n\u001b[0;32m---> 91\u001b[0m     \u001b[39mraise\u001b[39;00m StreamError(\u001b[39m\"\u001b[39m\u001b[39mstream read less than specified amount, expected \u001b[39m\u001b[39m%d\u001b[39;00m\u001b[39m, found \u001b[39m\u001b[39m%d\u001b[39;00m\u001b[39m\"\u001b[39m \u001b[39m%\u001b[39m (length, \u001b[39mlen\u001b[39m(data)), path\u001b[39m=\u001b[39mpath)\n\u001b[1;32m     92\u001b[0m \u001b[39mreturn\u001b[39;00m data\n",
      "\u001b[0;31mStreamError\u001b[0m: Error in path (parsing)\nstream read less than specified amount, expected 5, found 0"
     ]
    }
   ],
   "source": [
    "client = await Client.load(Network.MAINNET, conn, wallet, [Asset.SOL, Asset.APT])"
   ]
  },
  {
   "cell_type": "code",
   "execution_count": 4,
   "metadata": {},
   "outputs": [
    {
     "name": "stdout",
     "output_type": "stream",
     "text": [
      "0.009917\n",
      "{<Asset.SOL: 0>: Position(size=0.001, cost_of_trades=0.021262)}\n",
      "{<Asset.SOL: 0>: [Order(order_id=184467459183839589766535671, client_id=0, open_order_address=Pubkey(\n",
      "    ciwBQfLdM97vFp8GwYYLczPgYoLfdkTVD6dhHAeGoWj,\n",
      "), open_order_slot=0, fee_tier=0, info=OrderInfo(price=10.0, size=0.001, price_lots=10000000, size_lots=1), side=<Side.BID: 0>, tif_offset=0)]}\n"
     ]
    }
   ],
   "source": [
    "print(client.balance)\n",
    "print(client.positions)\n",
    "print(client.open_orders)"
   ]
  },
  {
   "cell_type": "code",
   "execution_count": 3,
   "metadata": {},
   "outputs": [
    {
     "name": "stderr",
     "output_type": "stream",
     "text": [
      "INFO:zeta_py.accounts.Account:Loaded account: CrossMarginAccountManager\n",
      "INFO:zeta_py.client.Client:Deposit of $1e-06 USDC to margin account Hu2yXbPESXyamLdvDemeASCFd3rHnpN2xBDUJpnuG5UX submitted\n"
     ]
    },
    {
     "data": {
      "text/plain": [
       "Signature(\n",
       "    kCs4xjrg4ogm94a7Xcpw7az5Dti8BsS3iPYXM1tZp3eTUZ9Vx8QGQ5QioZtWos1epLZQfrCNEFELAdoo1SkLw1j,\n",
       ")"
      ]
     },
     "execution_count": 3,
     "metadata": {},
     "output_type": "execute_result"
    }
   ],
   "source": [
    "await client.deposit(0.000001)"
   ]
  },
  {
   "cell_type": "code",
   "execution_count": 8,
   "metadata": {},
   "outputs": [
    {
     "data": {
      "text/plain": [
       "True"
      ]
     },
     "execution_count": 8,
     "metadata": {},
     "output_type": "execute_result"
    }
   ],
   "source": [
    "from solana.transaction import Transaction\n",
    "from zeta_py import utils\n",
    "\n",
    "from zeta_py.zeta_client.instructions import (\n",
    "    deposit_v2,\n",
    "    initialize_cross_margin_account,\n",
    "    initialize_cross_margin_account_manager,\n",
    ")\n",
    "\n",
    "tx = Transaction()\n",
    "tx.add(\n",
    "    initialize_cross_margin_account_manager(\n",
    "        {\n",
    "            \"cross_margin_account_manager\": client._cross_margin_account_manager_address,\n",
    "            \"authority\": client.provider.wallet.public_key,\n",
    "            \"payer\": client.provider.wallet.public_key,\n",
    "            \"zeta_program\": client.exchange.program_id,\n",
    "        }\n",
    "    )\n",
    ")\n",
    "# tx.add(\n",
    "#     initialize_cross_margin_account(\n",
    "#         {\"subaccount_index\": 0},\n",
    "#         {\n",
    "#             \"cross_margin_account\": client.margin_account.address,\n",
    "#             \"cross_margin_account_manager\": client._cross_margin_account_manager_address,\n",
    "#             \"authority\": client.provider.wallet.public_key,\n",
    "#             \"payer\": client.provider.wallet.public_key,\n",
    "#             \"zeta_program\": client.exchange.program_id,\n",
    "#         },\n",
    "#     )\n",
    "# )\n",
    "# tx.add(\n",
    "#     deposit_v2(\n",
    "#         {\"amount\": utils.convert_decimal_to_fixed_int(0.001)},\n",
    "#         {\n",
    "#             \"margin_account\": client.margin_account.address,\n",
    "#             \"vault\": client._combined_vault_address,\n",
    "#             \"user_token_account\": client._user_usdc_address,\n",
    "#             \"socialized_loss_account\": client._combined_socialized_loss_address,\n",
    "#             \"authority\": client.provider.wallet.public_key,\n",
    "#             \"state\": client.exchange.state.address,\n",
    "#             \"pricing\": client.exchange.pricing.address,\n",
    "#         },\n",
    "#     )\n",
    "# )\n",
    "\n",
    "# TODO: grab recent blockhash??\n",
    "signed_tx = client.provider.wallet.sign_transaction(tx)\n",
    "signed_tx.verify_signatures()"
   ]
  },
  {
   "cell_type": "code",
   "execution_count": null,
   "metadata": {},
   "outputs": [],
   "source": []
  }
 ],
 "metadata": {
  "kernelspec": {
   "display_name": ".venv",
   "language": "python",
   "name": "python3"
  },
  "language_info": {
   "codemirror_mode": {
    "name": "ipython",
    "version": 3
   },
   "file_extension": ".py",
   "mimetype": "text/x-python",
   "name": "python",
   "nbconvert_exporter": "python",
   "pygments_lexer": "ipython3",
   "version": "3.11.4"
  },
  "orig_nbformat": 4
 },
 "nbformat": 4,
 "nbformat_minor": 2
}
