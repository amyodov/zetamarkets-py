{
 "cells": [
  {
   "cell_type": "code",
   "execution_count": 1,
   "metadata": {},
   "outputs": [],
   "source": [
    "%load_ext dotenv\n",
    "%dotenv"
   ]
  },
  {
   "cell_type": "code",
   "execution_count": 2,
   "metadata": {},
   "outputs": [
    {
     "name": "stdout",
     "output_type": "stream",
     "text": [
      "https://mainnet.helius-rpc\n",
      "4mYxEXiFwe3ePEmoj7CYCbiW7wGTojUQCmdPqGaoVaUh\n"
     ]
    }
   ],
   "source": [
    "import logging\n",
    "import os\n",
    "from zeta_py.zeta_client.accounts.pricing import Pricing\n",
    "from solana.rpc.async_api import AsyncClient\n",
    "from zeta_py.client import Client\n",
    "from zeta_py.types import Network, Asset, Side\n",
    "import anchorpy\n",
    "from solders.pubkey import Pubkey\n",
    "from zeta_py import pda\n",
    "from solana.rpc.commitment import Confirmed, Finalized\n",
    "from datetime import datetime, timedelta\n",
    "from zeta_py.types import OrderOptions, OrderType\n",
    "from solana.rpc.types import TxOpts\n",
    "from datetime import datetime, timedelta\n",
    "from zeta_py.types import OrderOptions, OrderType\n",
    "from zeta_py import utils\n",
    "\n",
    "logger = logging.getLogger(f\"zeta_py\")\n",
    "logging.basicConfig(level=logging.DEBUG)\n",
    "\n",
    "endpoint = os.getenv(\"ENDPOINT\", \"https://api.mainnet-beta.solana.com\")\n",
    "print(endpoint.split(\".com\")[0])\n",
    "conn = AsyncClient(endpoint, commitment=Confirmed, blockhash_cache=False)\n",
    "\n",
    "wallet = anchorpy.Wallet.local()  # get local filesystem keypair wallet\n",
    "print(wallet.public_key)"
   ]
  },
  {
   "cell_type": "code",
   "execution_count": 3,
   "metadata": {},
   "outputs": [],
   "source": [
    "# print(f\"Balance: {(await conn.get_balance(wallet.public_key)).value / 1e9} SOL\")"
   ]
  },
  {
   "cell_type": "code",
   "execution_count": 4,
   "metadata": {},
   "outputs": [
    {
     "name": "stderr",
     "output_type": "stream",
     "text": [
      "INFO:zeta_py.accounts.Account:Loaded account: State\n",
      "INFO:zeta_py.accounts.Account:Loaded account: Pricing\n",
      "INFO:zeta_py.market.Market.SOL:Subscribed to SOL:bid\n",
      "INFO:zeta_py.market.Market.SOL:Subscribed to SOL:ask\n",
      "INFO:zeta_py.accounts.Account:Loaded account: Clock\n",
      "INFO:zeta_py.accounts.Account:Subscribed to Clock\n",
      "INFO:zeta_py.accounts.Account:Subscribed to Pricing\n",
      "INFO:zeta_py.accounts.Account:Loaded account: CrossMarginAccount\n"
     ]
    }
   ],
   "source": [
    "tx_opts = TxOpts({\"preflight_commitment\": Confirmed, \"skip_confirmation\": False})\n",
    "\n",
    "client = await Client.load(Network.MAINNET, conn, wallet, [Asset.SOL], subscribe=True, tx_opts=tx_opts)"
   ]
  },
  {
   "cell_type": "code",
   "execution_count": 5,
   "metadata": {},
   "outputs": [
    {
     "name": "stdout",
     "output_type": "stream",
     "text": [
      "0.1\n",
      "{<Asset.SOL: 0>: Position(size=0.0, cost_of_trades=0.0)}\n",
      "{<Asset.SOL: 0>: [Order(order_id=387381643994644657538064724, client_id=69, open_order_address=Pubkey(\n",
      "    ciwBQfLdM97vFp8GwYYLczPgYoLfdkTVD6dhHAeGoWj,\n",
      "), open_order_slot=0, fee_tier=0, info=OrderInfo(price=21.0, size=0.002, price_lots=21000000, size_lots=2), side=<Side.Bid: 0>, tif_offset=45301), Order(order_id=405828369621610135659486892, client_id=69, open_order_address=Pubkey(\n",
      "    ciwBQfLdM97vFp8GwYYLczPgYoLfdkTVD6dhHAeGoWj,\n",
      "), open_order_slot=1, fee_tier=0, info=OrderInfo(price=22.0, size=0.002, price_lots=22000000, size_lots=2), side=<Side.Ask: 1>, tif_offset=45301)]}\n"
     ]
    }
   ],
   "source": [
    "print(client.balance)\n",
    "print(client.positions)\n",
    "print(client.open_orders)"
   ]
  },
  {
   "cell_type": "code",
   "execution_count": 4,
   "metadata": {},
   "outputs": [
    {
     "name": "stderr",
     "output_type": "stream",
     "text": [
      "INFO:zeta_py.accounts.Account:Loaded account: CrossMarginAccountManager\n",
      "INFO:zeta_py.client.Client:Depositing 0.1 USDC to margin account\n"
     ]
    },
    {
     "data": {
      "text/plain": [
       "Signature(\n",
       "    4z7zNwWhqM6Fr4N2tuvccfSfJc3vBWTVZZgab1VV6qmFhZxPjHVeZ1tMyQjCX9CrLvFZsppuRzPRqysQVDxJ1Zr6,\n",
       ")"
      ]
     },
     "execution_count": 4,
     "metadata": {},
     "output_type": "execute_result"
    }
   ],
   "source": [
    "await client.deposit(0.1)"
   ]
  },
  {
   "cell_type": "code",
   "execution_count": 5,
   "metadata": {},
   "outputs": [
    {
     "name": "stderr",
     "output_type": "stream",
     "text": [
      "INFO:zeta_py.client.Client:Placed 0.001x SOL-PERP Ask @ $0.1\n",
      "ERROR:zeta_py.client.Client:6002: Failed initial margin requirement\n"
     ]
    },
    {
     "name": "stdout",
     "output_type": "stream",
     "text": [
      "code: 6002\n"
     ]
    },
    {
     "ename": "FailedInitialMarginRequirement",
     "evalue": "6002: Failed initial margin requirement",
     "output_type": "error",
     "traceback": [
      "\u001b[0;31m---------------------------------------------------------------------------\u001b[0m",
      "\u001b[0;31mRPCException\u001b[0m                              Traceback (most recent call last)",
      "File \u001b[0;32m~/Documents/zeta/zeta-py/zeta_py/client.py:356\u001b[0m, in \u001b[0;36mClient._submit_versioned_transaction\u001b[0;34m(self, ixs)\u001b[0m\n\u001b[1;32m    355\u001b[0m \u001b[39mtry\u001b[39;00m:\n\u001b[0;32m--> 356\u001b[0m     signature \u001b[39m=\u001b[39m \u001b[39mawait\u001b[39;00m \u001b[39mself\u001b[39m\u001b[39m.\u001b[39mprovider\u001b[39m.\u001b[39msend(tx)\n\u001b[1;32m    357\u001b[0m \u001b[39mexcept\u001b[39;00m RPCException \u001b[39mas\u001b[39;00m exc:\n\u001b[1;32m    358\u001b[0m     \u001b[39m# This won't work on zDEX errors\u001b[39;00m\n",
      "File \u001b[0;32m~/Documents/zeta/anchorpy/src/anchorpy/provider.py:122\u001b[0m, in \u001b[0;36mProvider.send\u001b[0;34m(self, tx, opts)\u001b[0m\n\u001b[1;32m    121\u001b[0m raw \u001b[39m=\u001b[39m tx\u001b[39m.\u001b[39mserialize() \u001b[39mif\u001b[39;00m \u001b[39misinstance\u001b[39m(tx, Transaction) \u001b[39melse\u001b[39;00m \u001b[39mbytes\u001b[39m(tx)\n\u001b[0;32m--> 122\u001b[0m resp \u001b[39m=\u001b[39m \u001b[39mawait\u001b[39;00m \u001b[39mself\u001b[39m\u001b[39m.\u001b[39mconnection\u001b[39m.\u001b[39msend_raw_transaction(raw, opts\u001b[39m=\u001b[39mopts)\n\u001b[1;32m    123\u001b[0m \u001b[39mreturn\u001b[39;00m resp\u001b[39m.\u001b[39mvalue\n",
      "File \u001b[0;32m~/Documents/zeta/zeta-py/.venv/lib/python3.11/site-packages/solana/rpc/async_api.py:1005\u001b[0m, in \u001b[0;36mAsyncClient.send_raw_transaction\u001b[0;34m(self, txn, opts)\u001b[0m\n\u001b[1;32m   1003\u001b[0m body \u001b[39m=\u001b[39m \u001b[39mself\u001b[39m\u001b[39m.\u001b[39m_send_raw_transaction_body(txn, opts_to_use)\n\u001b[0;32m-> 1005\u001b[0m resp \u001b[39m=\u001b[39m \u001b[39mawait\u001b[39;00m \u001b[39mself\u001b[39m\u001b[39m.\u001b[39m_provider\u001b[39m.\u001b[39mmake_request(body, SendTransactionResp)\n\u001b[1;32m   1006\u001b[0m \u001b[39mif\u001b[39;00m opts_to_use\u001b[39m.\u001b[39mskip_confirmation:\n",
      "File \u001b[0;32m~/Documents/zeta/zeta-py/.venv/lib/python3.11/site-packages/solana/exceptions.py:58\u001b[0m, in \u001b[0;36mhandle_async_exceptions.<locals>.func_decorator.<locals>.argument_decorator\u001b[0;34m(*args, **kwargs)\u001b[0m\n\u001b[1;32m     57\u001b[0m \u001b[39mtry\u001b[39;00m:\n\u001b[0;32m---> 58\u001b[0m     \u001b[39mreturn\u001b[39;00m \u001b[39mawait\u001b[39;00m func(\u001b[39m*\u001b[39margs, \u001b[39m*\u001b[39m\u001b[39m*\u001b[39mkwargs)\n\u001b[1;32m     59\u001b[0m \u001b[39mexcept\u001b[39;00m exception_types_caught \u001b[39mas\u001b[39;00m exc:\n",
      "File \u001b[0;32m~/Documents/zeta/zeta-py/.venv/lib/python3.11/site-packages/solana/rpc/providers/async_http.py:60\u001b[0m, in \u001b[0;36mAsyncHTTPProvider.make_request\u001b[0;34m(self, body, parser)\u001b[0m\n\u001b[1;32m     59\u001b[0m raw \u001b[39m=\u001b[39m \u001b[39mawait\u001b[39;00m \u001b[39mself\u001b[39m\u001b[39m.\u001b[39mmake_request_unparsed(body)\n\u001b[0;32m---> 60\u001b[0m \u001b[39mreturn\u001b[39;00m _parse_raw(raw, parser\u001b[39m=\u001b[39;49mparser)\n",
      "File \u001b[0;32m~/Documents/zeta/zeta-py/.venv/lib/python3.11/site-packages/solana/rpc/providers/core.py:97\u001b[0m, in \u001b[0;36m_parse_raw\u001b[0;34m(raw, parser)\u001b[0m\n\u001b[1;32m     96\u001b[0m \u001b[39mif\u001b[39;00m \u001b[39misinstance\u001b[39m(parsed, RPCError\u001b[39m.\u001b[39m__args__):  \u001b[39m# type: ignore # TODO: drop py37 and use typing.get_args\u001b[39;00m\n\u001b[0;32m---> 97\u001b[0m     \u001b[39mraise\u001b[39;00m RPCException(parsed)\n\u001b[1;32m     98\u001b[0m \u001b[39mreturn\u001b[39;00m parsed\n",
      "\u001b[0;31mRPCException\u001b[0m: SendTransactionPreflightFailureMessage { message: \"Transaction simulation failed: Error processing Instruction 0: custom program error: 0x1772\", data: RpcSimulateTransactionResult(RpcSimulateTransactionResult { err: Some(InstructionError(0, Custom(6002))), logs: Some([\"Program ZETAxsqBRek56DhiGXrn75yj2NHU3aYUnxvHXpkf3aD invoke [1]\", \"Program log: Instruction: PlacePerpOrderV3\", \"Program log: GetOraclePrice Pyth price: price=21549668 age=0\", \"Program log: GetOraclePrice Pyth price: price=21549668 age=0\", \"Program TokenkegQfeZyiNwAJbNbGKPFXCWuBvf9Ss623VQ5DA invoke [2]\", \"Program log: Instruction: MintTo\", \"Program TokenkegQfeZyiNwAJbNbGKPFXCWuBvf9Ss623VQ5DA consumed 4492 of 161615 compute units\", \"Program TokenkegQfeZyiNwAJbNbGKPFXCWuBvf9Ss623VQ5DA success\", \"Program zDEXqXEG7gAyxb1Kg9mK5fPnUdENCGKzWrM21RMdWRq invoke [2]\", \"Program TokenkegQfeZyiNwAJbNbGKPFXCWuBvf9Ss623VQ5DA invoke [3]\", \"Program log: Instruction: Transfer\", \"Program TokenkegQfeZyiNwAJbNbGKPFXCWuBvf9Ss623VQ5DA consumed 4645 of 134476 compute units\", \"Program TokenkegQfeZyiNwAJbNbGKPFXCWuBvf9Ss623VQ5DA success\", \"Program zDEXqXEG7gAyxb1Kg9mK5fPnUdENCGKzWrM21RMdWRq consumed 15753 of 145031 compute units\", \"Program zDEXqXEG7gAyxb1Kg9mK5fPnUdENCGKzWrM21RMdWRq success\", \"Program log: CrossMarginAccount: Pnl = 0, unpaid_funding = 0, margin_requirement = 1077, buffer = -1077, balance = 0, adjustment = 0\", \"Program log: AnchorError thrown in programs/zeta/src/lib.rs:4073. Error Code: FailedInitialMarginRequirement. Error Number: 6002. Error Message: Failed initial margin requirement.\", \"Program ZETAxsqBRek56DhiGXrn75yj2NHU3aYUnxvHXpkf3aD consumed 79413 of 200000 compute units\", \"Program ZETAxsqBRek56DhiGXrn75yj2NHU3aYUnxvHXpkf3aD failed: custom program error: 0x1772\"]), accounts: None, units_consumed: Some(0), return_data: None }) }",
      "\nThe above exception was the direct cause of the following exception:\n",
      "\u001b[0;31mFailedInitialMarginRequirement\u001b[0m            Traceback (most recent call last)",
      "Cell \u001b[0;32mIn[5], line 6\u001b[0m\n\u001b[1;32m      4\u001b[0m expiry_ts \u001b[39m=\u001b[39m \u001b[39mint\u001b[39m((datetime\u001b[39m.\u001b[39mnow()\u001b[39m+\u001b[39mtimedelta(seconds\u001b[39m=\u001b[39m\u001b[39m1000\u001b[39m))\u001b[39m.\u001b[39mtimestamp())\n\u001b[1;32m      5\u001b[0m order_opts \u001b[39m=\u001b[39m OrderOptions(expiry_ts\u001b[39m=\u001b[39mexpiry_ts, order_type\u001b[39m=\u001b[39mOrderType\u001b[39m.\u001b[39mPostOnlySlide, client_order_id\u001b[39m=\u001b[39m\u001b[39m69\u001b[39m)\n\u001b[0;32m----> 6\u001b[0m \u001b[39mawait\u001b[39;00m client\u001b[39m.\u001b[39mplace_order(Asset\u001b[39m.\u001b[39mSOL, \u001b[39m0.1\u001b[39m, \u001b[39m0.001\u001b[39m, Side\u001b[39m.\u001b[39mAsk, order_opts)\n",
      "File \u001b[0;32m~/Documents/zeta/zeta-py/zeta_py/client.py:308\u001b[0m, in \u001b[0;36mClient.place_order\u001b[0;34m(self, asset, price, size, side, order_opts)\u001b[0m\n\u001b[1;32m    260\u001b[0m ixs\u001b[39m.\u001b[39mappend(\n\u001b[1;32m    261\u001b[0m     place_perp_order_v3(\n\u001b[1;32m    262\u001b[0m         {\n\u001b[0;32m   (...)\u001b[0m\n\u001b[1;32m    305\u001b[0m     )\n\u001b[1;32m    306\u001b[0m )\n\u001b[1;32m    307\u001b[0m \u001b[39mself\u001b[39m\u001b[39m.\u001b[39m_logger\u001b[39m.\u001b[39minfo(\u001b[39mf\u001b[39m\u001b[39m\"\u001b[39m\u001b[39mPlaced \u001b[39m\u001b[39m{\u001b[39;00msize\u001b[39m}\u001b[39;00m\u001b[39mx \u001b[39m\u001b[39m{\u001b[39;00masset\u001b[39m}\u001b[39;00m\u001b[39m-PERP \u001b[39m\u001b[39m{\u001b[39;00mside\u001b[39m.\u001b[39mname\u001b[39m}\u001b[39;00m\u001b[39m @ $\u001b[39m\u001b[39m{\u001b[39;00mprice\u001b[39m}\u001b[39;00m\u001b[39m\"\u001b[39m)\n\u001b[0;32m--> 308\u001b[0m \u001b[39mreturn\u001b[39;00m \u001b[39mawait\u001b[39;00m \u001b[39mself\u001b[39m\u001b[39m.\u001b[39m_submit_versioned_transaction(ixs)\n",
      "File \u001b[0;32m~/Documents/zeta/zeta-py/zeta_py/client.py:362\u001b[0m, in \u001b[0;36mClient._submit_versioned_transaction\u001b[0;34m(self, ixs)\u001b[0m\n\u001b[1;32m    360\u001b[0m     \u001b[39mself\u001b[39m\u001b[39m.\u001b[39m_logger\u001b[39m.\u001b[39merror(parsed)\n\u001b[1;32m    361\u001b[0m     \u001b[39mif\u001b[39;00m parsed \u001b[39mis\u001b[39;00m \u001b[39mnot\u001b[39;00m \u001b[39mNone\u001b[39;00m:\n\u001b[0;32m--> 362\u001b[0m         \u001b[39mraise\u001b[39;00m parsed \u001b[39mfrom\u001b[39;00m \u001b[39mexc\u001b[39;00m\n\u001b[1;32m    363\u001b[0m     \u001b[39mraise\u001b[39;00m exc\n\u001b[1;32m    364\u001b[0m \u001b[39mreturn\u001b[39;00m signature\n",
      "\u001b[0;31mFailedInitialMarginRequirement\u001b[0m: 6002: Failed initial margin requirement"
     ]
    },
    {
     "name": "stderr",
     "output_type": "stream",
     "text": [
      "ERROR:zeta_py.accounts.Account:Error subscribing to Clock: \n",
      "ERROR:zeta_py.accounts.Account:Error subscribing to Pricing: \n"
     ]
    }
   ],
   "source": [
    "expiry_ts = int((datetime.now()+timedelta(seconds=1000)).timestamp())\n",
    "order_opts = OrderOptions(expiry_ts=expiry_ts, order_type=OrderType.PostOnlySlide, client_order_id=69)\n",
    "await client.place_order(Asset.SOL, 0.1, 0.001, Side.Ask, order_opts)"
   ]
  },
  {
   "cell_type": "code",
   "execution_count": 10,
   "metadata": {},
   "outputs": [
    {
     "name": "stderr",
     "output_type": "stream",
     "text": [
      "INFO:zeta_py.client.Client:Replacing SOL orders: 0.001x Bid @ $21.559977618500003, 0.001x Ask @ $21.5815483815\n"
     ]
    },
    {
     "name": "stdout",
     "output_type": "stream",
     "text": [
      "SOL mark price: 21.570763\n"
     ]
    },
    {
     "data": {
      "text/plain": [
       "Signature(\n",
       "    4bxZETmnN1AEwo7k4G8aE9TeeRoj45Bwp4eh4oET9GcLuVZxd6gCXwW3yyWKNfSukmQFzYAP4UGx2bZXWDh78oex,\n",
       ")"
      ]
     },
     "execution_count": 10,
     "metadata": {},
     "output_type": "execute_result"
    }
   ],
   "source": [
    "asset = Asset.SOL\n",
    "quote_size = 0.001 # min lots\n",
    "price_fixed = client.exchange.pricing.account.mark_prices[asset.to_index()]\n",
    "print(f\"{asset.name} mark price: {utils.convert_fixed_int_to_decimal(price_fixed)}\")\n",
    "quote_bps = 10\n",
    "bid_price = utils.convert_fixed_int_to_decimal(price_fixed * (1-quote_bps/10000))\n",
    "ask_price = utils.convert_fixed_int_to_decimal(price_fixed * (1+quote_bps/10000))\n",
    "\n",
    "expiry_ts = int((datetime.now()+timedelta(seconds=5)).timestamp())\n",
    "order_opts = OrderOptions(expiry_ts=expiry_ts, order_type=OrderType.Limit, client_order_id=69)\n",
    "await client.replace_quote(Asset.SOL, bid_price, quote_size, ask_price, quote_size, order_opts)"
   ]
  },
  {
   "cell_type": "code",
   "execution_count": 4,
   "metadata": {},
   "outputs": [
    {
     "data": {
      "text/plain": [
       "[]"
      ]
     },
     "execution_count": 4,
     "metadata": {},
     "output_type": "execute_result"
    }
   ],
   "source": [
    "open_orders = await client.fetch_open_orders(Asset.SOL)\n",
    "open_orders"
   ]
  },
  {
   "cell_type": "code",
   "execution_count": 5,
   "metadata": {},
   "outputs": [
    {
     "name": "stderr",
     "output_type": "stream",
     "text": [
      "INFO:zeta_py.client.Client:Cancelling order 1 for SOL\n"
     ]
    },
    {
     "name": "stdout",
     "output_type": "stream",
     "text": [
      "err_info: SendTransactionPreflightFailureMessage { message: \"Transaction simulation failed: Error processing Instruction 0: custom program error: 0x3b\", data: RpcSimulateTransactionResult(RpcSimulateTransactionResult { err: Some(InstructionError(0, Custom(59))), logs: Some([\"Program ZETAxsqBRek56DhiGXrn75yj2NHU3aYUnxvHXpkf3aD invoke [1]\", \"Program log: Instruction: CancelOrder\", \"Program zDEXqXEG7gAyxb1Kg9mK5fPnUdENCGKzWrM21RMdWRq invoke [2]\", \"Program zDEXqXEG7gAyxb1Kg9mK5fPnUdENCGKzWrM21RMdWRq consumed 3525 of 182668 compute units\", \"Program zDEXqXEG7gAyxb1Kg9mK5fPnUdENCGKzWrM21RMdWRq failed: custom program error: 0x3b\", \"Program ZETAxsqBRek56DhiGXrn75yj2NHU3aYUnxvHXpkf3aD consumed 20857 of 200000 compute units\", \"Program ZETAxsqBRek56DhiGXrn75yj2NHU3aYUnxvHXpkf3aD failed: custom program error: 0x3b\"]), accounts: None, units_consumed: Some(0), return_data: None }) }\n",
      "extracted: None\n"
     ]
    },
    {
     "ename": "RPCException",
     "evalue": "SendTransactionPreflightFailureMessage { message: \"Transaction simulation failed: Error processing Instruction 0: custom program error: 0x3b\", data: RpcSimulateTransactionResult(RpcSimulateTransactionResult { err: Some(InstructionError(0, Custom(59))), logs: Some([\"Program ZETAxsqBRek56DhiGXrn75yj2NHU3aYUnxvHXpkf3aD invoke [1]\", \"Program log: Instruction: CancelOrder\", \"Program zDEXqXEG7gAyxb1Kg9mK5fPnUdENCGKzWrM21RMdWRq invoke [2]\", \"Program zDEXqXEG7gAyxb1Kg9mK5fPnUdENCGKzWrM21RMdWRq consumed 3525 of 182668 compute units\", \"Program zDEXqXEG7gAyxb1Kg9mK5fPnUdENCGKzWrM21RMdWRq failed: custom program error: 0x3b\", \"Program ZETAxsqBRek56DhiGXrn75yj2NHU3aYUnxvHXpkf3aD consumed 20857 of 200000 compute units\", \"Program ZETAxsqBRek56DhiGXrn75yj2NHU3aYUnxvHXpkf3aD failed: custom program error: 0x3b\"]), accounts: None, units_consumed: Some(0), return_data: None }) }",
     "output_type": "error",
     "traceback": [
      "\u001b[0;31m---------------------------------------------------------------------------\u001b[0m",
      "\u001b[0;31mRPCException\u001b[0m                              Traceback (most recent call last)",
      "Cell \u001b[0;32mIn[5], line 2\u001b[0m\n\u001b[1;32m      1\u001b[0m oid \u001b[39m=\u001b[39m \u001b[39m1\u001b[39m\u001b[39m#open_orders[0].order_id\u001b[39;00m\n\u001b[0;32m----> 2\u001b[0m \u001b[39mawait\u001b[39;00m client\u001b[39m.\u001b[39mcancel_order(Asset\u001b[39m.\u001b[39mSOL, order_id\u001b[39m=\u001b[39moid, side\u001b[39m=\u001b[39mSide\u001b[39m.\u001b[39mAsk)\n",
      "File \u001b[0;32m~/Documents/zeta/zeta-py/zeta_py/client.py:332\u001b[0m, in \u001b[0;36mClient.cancel_order\u001b[0;34m(self, asset, order_id, side)\u001b[0m\n\u001b[1;32m    312\u001b[0m ixs\u001b[39m.\u001b[39mappend(\n\u001b[1;32m    313\u001b[0m     cancel_order(\n\u001b[1;32m    314\u001b[0m         {\u001b[39m\"\u001b[39m\u001b[39mside\u001b[39m\u001b[39m\"\u001b[39m: side\u001b[39m.\u001b[39mto_program_type(), \u001b[39m\"\u001b[39m\u001b[39morder_id\u001b[39m\u001b[39m\"\u001b[39m: order_id, \u001b[39m\"\u001b[39m\u001b[39masset\u001b[39m\u001b[39m\"\u001b[39m: asset\u001b[39m.\u001b[39mto_program_type()},\n\u001b[0;32m   (...)\u001b[0m\n\u001b[1;32m    329\u001b[0m     )\n\u001b[1;32m    330\u001b[0m )\n\u001b[1;32m    331\u001b[0m \u001b[39mself\u001b[39m\u001b[39m.\u001b[39m_logger\u001b[39m.\u001b[39minfo(\u001b[39mf\u001b[39m\u001b[39m\"\u001b[39m\u001b[39mCancelling order \u001b[39m\u001b[39m{\u001b[39;00morder_id\u001b[39m}\u001b[39;00m\u001b[39m for \u001b[39m\u001b[39m{\u001b[39;00masset\u001b[39m}\u001b[39;00m\u001b[39m\"\u001b[39m)\n\u001b[0;32m--> 332\u001b[0m \u001b[39mreturn\u001b[39;00m \u001b[39mawait\u001b[39;00m \u001b[39mself\u001b[39m\u001b[39m.\u001b[39m_submit_versioned_transaction(ixs)\n",
      "File \u001b[0;32m~/Documents/zeta/zeta-py/zeta_py/client.py:362\u001b[0m, in \u001b[0;36mClient._submit_versioned_transaction\u001b[0;34m(self, ixs)\u001b[0m\n\u001b[1;32m    360\u001b[0m     \u001b[39mif\u001b[39;00m parsed \u001b[39mis\u001b[39;00m \u001b[39mnot\u001b[39;00m \u001b[39mNone\u001b[39;00m:\n\u001b[1;32m    361\u001b[0m         \u001b[39mraise\u001b[39;00m parsed \u001b[39mfrom\u001b[39;00m \u001b[39mexc\u001b[39;00m\n\u001b[0;32m--> 362\u001b[0m     \u001b[39mraise\u001b[39;00m exc\n\u001b[1;32m    363\u001b[0m \u001b[39mreturn\u001b[39;00m signature\n",
      "File \u001b[0;32m~/Documents/zeta/zeta-py/zeta_py/client.py:356\u001b[0m, in \u001b[0;36mClient._submit_versioned_transaction\u001b[0;34m(self, ixs)\u001b[0m\n\u001b[1;32m    354\u001b[0m tx \u001b[39m=\u001b[39m VersionedTransaction(msg, [\u001b[39mself\u001b[39m\u001b[39m.\u001b[39mprovider\u001b[39m.\u001b[39mwallet\u001b[39m.\u001b[39mpayer])\n\u001b[1;32m    355\u001b[0m \u001b[39mtry\u001b[39;00m:\n\u001b[0;32m--> 356\u001b[0m     signature \u001b[39m=\u001b[39m \u001b[39mawait\u001b[39;00m \u001b[39mself\u001b[39m\u001b[39m.\u001b[39mprovider\u001b[39m.\u001b[39msend(tx)\n\u001b[1;32m    357\u001b[0m \u001b[39mexcept\u001b[39;00m RPCException \u001b[39mas\u001b[39;00m exc:\n\u001b[1;32m    358\u001b[0m     \u001b[39m# This won't work on zDEX errors\u001b[39;00m\n\u001b[1;32m    359\u001b[0m     parsed \u001b[39m=\u001b[39m from_tx_error(exc)\n",
      "File \u001b[0;32m~/Documents/zeta/anchorpy/src/anchorpy/provider.py:122\u001b[0m, in \u001b[0;36mProvider.send\u001b[0;34m(self, tx, opts)\u001b[0m\n\u001b[1;32m    120\u001b[0m     opts \u001b[39m=\u001b[39m \u001b[39mself\u001b[39m\u001b[39m.\u001b[39mopts\n\u001b[1;32m    121\u001b[0m raw \u001b[39m=\u001b[39m tx\u001b[39m.\u001b[39mserialize() \u001b[39mif\u001b[39;00m \u001b[39misinstance\u001b[39m(tx, Transaction) \u001b[39melse\u001b[39;00m \u001b[39mbytes\u001b[39m(tx)\n\u001b[0;32m--> 122\u001b[0m resp \u001b[39m=\u001b[39m \u001b[39mawait\u001b[39;00m \u001b[39mself\u001b[39m\u001b[39m.\u001b[39mconnection\u001b[39m.\u001b[39msend_raw_transaction(raw, opts\u001b[39m=\u001b[39mopts)\n\u001b[1;32m    123\u001b[0m \u001b[39mreturn\u001b[39;00m resp\u001b[39m.\u001b[39mvalue\n",
      "File \u001b[0;32m~/Documents/zeta/zeta-py/.venv/lib/python3.11/site-packages/solana/rpc/async_api.py:1005\u001b[0m, in \u001b[0;36mAsyncClient.send_raw_transaction\u001b[0;34m(self, txn, opts)\u001b[0m\n\u001b[1;32m   1002\u001b[0m opts_to_use \u001b[39m=\u001b[39m types\u001b[39m.\u001b[39mTxOpts(preflight_commitment\u001b[39m=\u001b[39m\u001b[39mself\u001b[39m\u001b[39m.\u001b[39m_commitment) \u001b[39mif\u001b[39;00m opts \u001b[39mis\u001b[39;00m \u001b[39mNone\u001b[39;00m \u001b[39melse\u001b[39;00m opts\n\u001b[1;32m   1003\u001b[0m body \u001b[39m=\u001b[39m \u001b[39mself\u001b[39m\u001b[39m.\u001b[39m_send_raw_transaction_body(txn, opts_to_use)\n\u001b[0;32m-> 1005\u001b[0m resp \u001b[39m=\u001b[39m \u001b[39mawait\u001b[39;00m \u001b[39mself\u001b[39m\u001b[39m.\u001b[39m_provider\u001b[39m.\u001b[39mmake_request(body, SendTransactionResp)\n\u001b[1;32m   1006\u001b[0m \u001b[39mif\u001b[39;00m opts_to_use\u001b[39m.\u001b[39mskip_confirmation:\n\u001b[1;32m   1007\u001b[0m     \u001b[39mreturn\u001b[39;00m \u001b[39mself\u001b[39m\u001b[39m.\u001b[39m_post_send(resp)\n",
      "File \u001b[0;32m~/Documents/zeta/zeta-py/.venv/lib/python3.11/site-packages/solana/exceptions.py:58\u001b[0m, in \u001b[0;36mhandle_async_exceptions.<locals>.func_decorator.<locals>.argument_decorator\u001b[0;34m(*args, **kwargs)\u001b[0m\n\u001b[1;32m     56\u001b[0m \u001b[39masync\u001b[39;00m \u001b[39mdef\u001b[39;00m \u001b[39margument_decorator\u001b[39m(\u001b[39m*\u001b[39margs, \u001b[39m*\u001b[39m\u001b[39m*\u001b[39mkwargs):\n\u001b[1;32m     57\u001b[0m     \u001b[39mtry\u001b[39;00m:\n\u001b[0;32m---> 58\u001b[0m         \u001b[39mreturn\u001b[39;00m \u001b[39mawait\u001b[39;00m func(\u001b[39m*\u001b[39margs, \u001b[39m*\u001b[39m\u001b[39m*\u001b[39mkwargs)\n\u001b[1;32m     59\u001b[0m     \u001b[39mexcept\u001b[39;00m exception_types_caught \u001b[39mas\u001b[39;00m exc:\n\u001b[1;32m     60\u001b[0m         \u001b[39mraise\u001b[39;00m internal_exception_cls(exc, func, \u001b[39m*\u001b[39margs, \u001b[39m*\u001b[39m\u001b[39m*\u001b[39mkwargs) \u001b[39mfrom\u001b[39;00m \u001b[39mexc\u001b[39;00m\n",
      "File \u001b[0;32m~/Documents/zeta/zeta-py/.venv/lib/python3.11/site-packages/solana/rpc/providers/async_http.py:60\u001b[0m, in \u001b[0;36mAsyncHTTPProvider.make_request\u001b[0;34m(self, body, parser)\u001b[0m\n\u001b[1;32m     58\u001b[0m \u001b[39m\u001b[39m\u001b[39m\"\"\"Make an async HTTP request to an http rpc endpoint.\"\"\"\u001b[39;00m\n\u001b[1;32m     59\u001b[0m raw \u001b[39m=\u001b[39m \u001b[39mawait\u001b[39;00m \u001b[39mself\u001b[39m\u001b[39m.\u001b[39mmake_request_unparsed(body)\n\u001b[0;32m---> 60\u001b[0m \u001b[39mreturn\u001b[39;00m _parse_raw(raw, parser\u001b[39m=\u001b[39;49mparser)\n",
      "File \u001b[0;32m~/Documents/zeta/zeta-py/.venv/lib/python3.11/site-packages/solana/rpc/providers/core.py:97\u001b[0m, in \u001b[0;36m_parse_raw\u001b[0;34m(raw, parser)\u001b[0m\n\u001b[1;32m     95\u001b[0m parsed \u001b[39m=\u001b[39m parser\u001b[39m.\u001b[39mfrom_json(raw)  \u001b[39m# type: ignore\u001b[39;00m\n\u001b[1;32m     96\u001b[0m \u001b[39mif\u001b[39;00m \u001b[39misinstance\u001b[39m(parsed, RPCError\u001b[39m.\u001b[39m__args__):  \u001b[39m# type: ignore # TODO: drop py37 and use typing.get_args\u001b[39;00m\n\u001b[0;32m---> 97\u001b[0m     \u001b[39mraise\u001b[39;00m RPCException(parsed)\n\u001b[1;32m     98\u001b[0m \u001b[39mreturn\u001b[39;00m parsed\n",
      "\u001b[0;31mRPCException\u001b[0m: SendTransactionPreflightFailureMessage { message: \"Transaction simulation failed: Error processing Instruction 0: custom program error: 0x3b\", data: RpcSimulateTransactionResult(RpcSimulateTransactionResult { err: Some(InstructionError(0, Custom(59))), logs: Some([\"Program ZETAxsqBRek56DhiGXrn75yj2NHU3aYUnxvHXpkf3aD invoke [1]\", \"Program log: Instruction: CancelOrder\", \"Program zDEXqXEG7gAyxb1Kg9mK5fPnUdENCGKzWrM21RMdWRq invoke [2]\", \"Program zDEXqXEG7gAyxb1Kg9mK5fPnUdENCGKzWrM21RMdWRq consumed 3525 of 182668 compute units\", \"Program zDEXqXEG7gAyxb1Kg9mK5fPnUdENCGKzWrM21RMdWRq failed: custom program error: 0x3b\", \"Program ZETAxsqBRek56DhiGXrn75yj2NHU3aYUnxvHXpkf3aD consumed 20857 of 200000 compute units\", \"Program ZETAxsqBRek56DhiGXrn75yj2NHU3aYUnxvHXpkf3aD failed: custom program error: 0x3b\"]), accounts: None, units_consumed: Some(0), return_data: None }) }"
     ]
    },
    {
     "name": "stderr",
     "output_type": "stream",
     "text": [
      "ERROR:zeta_py.accounts.Account:Error subscribing to Clock: \n",
      "ERROR:zeta_py.accounts.Account:Error subscribing to Pricing: \n"
     ]
    }
   ],
   "source": [
    "oid = 1#open_orders[0].order_id\n",
    "await client.cancel_order(Asset.SOL, order_id=oid, side=Side.Ask)"
   ]
  },
  {
   "cell_type": "code",
   "execution_count": 8,
   "metadata": {},
   "outputs": [
    {
     "data": {
      "text/plain": [
       "InvalidParamsMessage {\n",
       "    message: \"invalid transaction: Transaction failed to sanitize accounts offsets correctly\",\n",
       "}"
      ]
     },
     "execution_count": 8,
     "metadata": {},
     "output_type": "execute_result"
    }
   ],
   "source": [
    "from solana.transaction import Transaction\n",
    "from zeta_py import constants, utils\n",
    "from zeta_py.types import OrderOptions\n",
    "from spl.token.constants import ASSOCIATED_TOKEN_PROGRAM_ID, TOKEN_PROGRAM_ID\n",
    "from solders.sysvar import RENT\n",
    "\n",
    "\n",
    "from zeta_py.zeta_client.instructions import (\n",
    "    deposit_v2,\n",
    "    initialize_cross_margin_account,\n",
    "    initialize_cross_margin_account_manager,\n",
    "    place_perp_order_v3,\n",
    ")\n",
    "\n",
    "tx = Transaction()\n",
    "\n",
    "asset = Asset.SOL\n",
    "price = 0.1\n",
    "size=0.001\n",
    "side = Side.Bid\n",
    "order_opts = OrderOptions\n",
    "\n",
    "tx.add(\n",
    "    place_perp_order_v3(\n",
    "                {\n",
    "                    \"price\": utils.convert_decimal_to_fixed_int(price),\n",
    "                    \"size\": utils.convert_decimal_to_fixed_lot(size),\n",
    "                    \"side\": side.to_program_type(),\n",
    "                    \"order_type\": order_opts.order_type.to_program_type(),\n",
    "                    \"client_order_id\": order_opts.client_order_id,\n",
    "                    \"tif_offset\": None,  # TODO: this later `getTIFOffset`\n",
    "                    \"tag\": order_opts.tag,\n",
    "                    \"asset\": asset.to_program_type(),\n",
    "                },\n",
    "                {\n",
    "                    \"state\": client.exchange.state.address,\n",
    "                    \"pricing\": client.exchange.pricing.address,\n",
    "                    \"margin_account\": client.margin_account.address,\n",
    "                    \"authority\": client.provider.wallet.public_key,\n",
    "                    \"dex_program\": constants.DEX_PID[client.network],\n",
    "                    \"token_program\": TOKEN_PROGRAM_ID,\n",
    "                    \"serum_authority\": client.exchange._serum_authority_address,\n",
    "                    \"open_orders\": client._open_orders_addresses[asset],\n",
    "                    \"rent\": RENT,\n",
    "                    \"market_accounts\": {\n",
    "                        \"market\": client.exchange.markets[asset].address,\n",
    "                        \"request_queue\": client.exchange.markets[asset]._serum_market.state.request_queue(),\n",
    "                        \"event_queue\": client.exchange.markets[asset]._serum_market.state.event_queue(),\n",
    "                        \"bids\": client.exchange.markets[asset]._serum_market.state.bids(),\n",
    "                        \"asks\": client.exchange.markets[asset]._serum_market.state.asks(),\n",
    "                        \"order_payer_token_account\": client.exchange.markets[asset]._quote_zeta_vault_address\n",
    "                        if side == Side.Bid\n",
    "                        else client.exchange.markets[asset]._base_zeta_vault_address,\n",
    "                        \"coin_vault\": client.exchange.markets[asset]._serum_market.state.base_vault(),\n",
    "                        \"pc_vault\": client.exchange.markets[asset]._serum_market.state.quote_vault(),\n",
    "                        \"coin_wallet\": client.exchange.markets[asset]._base_zeta_vault_address,\n",
    "                        \"pc_wallet\": client.exchange.markets[asset]._quote_zeta_vault_address,\n",
    "                    },\n",
    "                    \"oracle\": client.exchange.pricing.account.oracles[asset.to_index()],\n",
    "                    \"oracle_backup_feed\": client.exchange.pricing.account.oracle_backup_feeds[asset.to_index()],\n",
    "                    \"oracle_backup_program\": constants.CHAINLINK_PID,\n",
    "                    \"market_mint\": client.exchange.markets[asset]._serum_market.state.quote_mint()\n",
    "                    if side == Side.Bid\n",
    "                    else client.exchange.markets[asset]._serum_market.state.base_mint(),\n",
    "                    \"mint_authority\": client.exchange._mint_authority_address,\n",
    "                    \"perp_sync_queue\": client.exchange.pricing.account.perp_sync_queues[asset.to_index()],\n",
    "                },\n",
    "            )\n",
    ")\n",
    "\n",
    "# TODO: grab recent blockhash??\n",
    "signed_tx = client.provider.wallet.sign_transaction(tx)\n",
    "signed_tx.verify_signatures()\n",
    "\n",
    "await client.provider.simulate(signed_tx)"
   ]
  },
  {
   "cell_type": "code",
   "execution_count": null,
   "metadata": {},
   "outputs": [],
   "source": []
  }
 ],
 "metadata": {
  "kernelspec": {
   "display_name": ".venv",
   "language": "python",
   "name": "python3"
  },
  "language_info": {
   "codemirror_mode": {
    "name": "ipython",
    "version": 3
   },
   "file_extension": ".py",
   "mimetype": "text/x-python",
   "name": "python",
   "nbconvert_exporter": "python",
   "pygments_lexer": "ipython3",
   "version": "3.11.4"
  },
  "orig_nbformat": 4
 },
 "nbformat": 4,
 "nbformat_minor": 2
}
