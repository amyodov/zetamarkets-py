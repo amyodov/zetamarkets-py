{
 "cells": [
  {
   "cell_type": "code",
   "execution_count": 2,
   "metadata": {},
   "outputs": [],
   "source": [
    "from solders.pubkey import Pubkey\n",
    "from zeta_py.pyserum._layouts.open_orders import OPEN_ORDERS_LAYOUT\n",
    "from zeta_py.serum_client.accounts.market_state import MarketState\n",
    "from solana.rpc.async_api import AsyncClient\n",
    "\n",
    "from zeta_py.serum_client.accounts.open_orders import OpenOrders\n",
    "\n",
    "conn = AsyncClient(\"https://api.mainnet-beta.solana.com\")\n",
    "# await OpenOrders.fetch(conn, Pubkey.from_string(\"ciwBQfLdM97vFp8GwYYLczPgYoLfdkTVD6dhHAeGoWj\"))\n",
    "\n",
    "# resp = await conn.get_account_info(Pubkey.from_string(\"ciwBQfLdM97vFp8GwYYLczPgYoLfdkTVD6dhHAeGoWj\"))\n",
    "# _OpenOrdersAccountCore.from_bytes(Pubkey.from_string(\"ciwBQfLdM97vFp8GwYYLczPgYoLfdkTVD6dhHAeGoWj\"), resp.value.data).orders"
   ]
  },
  {
   "cell_type": "code",
   "execution_count": 2,
   "metadata": {},
   "outputs": [],
   "source": [
    "resp = await conn.get_account_info(Pubkey.from_string(\"HcjrQKnbqKJuxHDLNM9LJPyxcQs237waNZXW7RwgvAps\"))"
   ]
  },
  {
   "cell_type": "code",
   "execution_count": 5,
   "metadata": {},
   "outputs": [
    {
     "ename": "ConstError",
     "evalue": "Error in path (parsing) -> header -> account_flags\nparsing expected 0 but parsed 650687545344",
     "output_type": "error",
     "traceback": [
      "\u001b[0;31m---------------------------------------------------------------------------\u001b[0m",
      "\u001b[0;31mConstError\u001b[0m                                Traceback (most recent call last)",
      "Cell \u001b[0;32mIn[5], line 4\u001b[0m\n\u001b[1;32m      1\u001b[0m \u001b[39mfrom\u001b[39;00m \u001b[39mzeta_py\u001b[39;00m\u001b[39m.\u001b[39;00m\u001b[39mserum_client\u001b[39;00m\u001b[39m.\u001b[39;00m\u001b[39maccounts\u001b[39;00m\u001b[39m.\u001b[39;00m\u001b[39mqueue\u001b[39;00m \u001b[39mimport\u001b[39;00m EventQueue\n\u001b[0;32m----> 4\u001b[0m \u001b[39mawait\u001b[39;00m EventQueue\u001b[39m.\u001b[39mfetch(conn, Pubkey\u001b[39m.\u001b[39mfrom_string(\u001b[39m\"\u001b[39m\u001b[39m3rjBffJkFa9zdGr9xmTVxF3y6nL6iL1pASVzym7s5FGr\u001b[39m\u001b[39m\"\u001b[39m))\n",
      "File \u001b[0;32m~/Documents/zeta/zeta-py/zeta_py/serum_client/accounts/queue.py:41\u001b[0m, in \u001b[0;36mEventQueue.fetch\u001b[0;34m(cls, conn, address, commitment, program_id)\u001b[0m\n\u001b[1;32m     39\u001b[0m     \u001b[39mraise\u001b[39;00m \u001b[39mValueError\u001b[39;00m(\u001b[39m\"\u001b[39m\u001b[39mAccount does not belong to this program\u001b[39m\u001b[39m\"\u001b[39m)\n\u001b[1;32m     40\u001b[0m bytes_data \u001b[39m=\u001b[39m info\u001b[39m.\u001b[39mdata\n\u001b[0;32m---> 41\u001b[0m \u001b[39mreturn\u001b[39;00m \u001b[39mcls\u001b[39;49m\u001b[39m.\u001b[39;49mdecode(bytes_data)\n",
      "File \u001b[0;32m~/Documents/zeta/zeta-py/zeta_py/serum_client/accounts/queue.py:66\u001b[0m, in \u001b[0;36mEventQueue.decode\u001b[0;34m(cls, data)\u001b[0m\n\u001b[1;32m     64\u001b[0m \u001b[39mif\u001b[39;00m data[: \u001b[39mlen\u001b[39m(\u001b[39mcls\u001b[39m\u001b[39m.\u001b[39mdiscriminator)] \u001b[39m!=\u001b[39m \u001b[39mcls\u001b[39m\u001b[39m.\u001b[39mdiscriminator:\n\u001b[1;32m     65\u001b[0m     \u001b[39mraise\u001b[39;00m AccountInvalidDiscriminator(\u001b[39m\"\u001b[39m\u001b[39mThe discriminator for this account is invalid\u001b[39m\u001b[39m\"\u001b[39m)\n\u001b[0;32m---> 66\u001b[0m dec \u001b[39m=\u001b[39m EventQueue\u001b[39m.\u001b[39;49mlayout\u001b[39m.\u001b[39;49mparse(data[\u001b[39mlen\u001b[39;49m(\u001b[39mcls\u001b[39;49m\u001b[39m.\u001b[39;49mdiscriminator) :])\n\u001b[1;32m     67\u001b[0m \u001b[39mreturn\u001b[39;00m \u001b[39mcls\u001b[39m(\n\u001b[1;32m     68\u001b[0m     header\u001b[39m=\u001b[39mtypes\u001b[39m.\u001b[39mqueue\u001b[39m.\u001b[39mQueueHeader\u001b[39m.\u001b[39mfrom_decoded(dec\u001b[39m.\u001b[39mheader),\n\u001b[1;32m     69\u001b[0m     nodes\u001b[39m=\u001b[39m\u001b[39mlist\u001b[39m(\n\u001b[0;32m   (...)\u001b[0m\n\u001b[1;32m     74\u001b[0m     ),\n\u001b[1;32m     75\u001b[0m )\n",
      "File \u001b[0;32m~/Documents/zeta/zeta-py/.venv/lib/python3.9/site-packages/construct/core.py:288\u001b[0m, in \u001b[0;36mConstruct.parse\u001b[0;34m(self, data, **contextkw)\u001b[0m\n\u001b[1;32m    274\u001b[0m \u001b[39mdef\u001b[39;00m \u001b[39mparse\u001b[39m(\u001b[39mself\u001b[39m, data, \u001b[39m*\u001b[39m\u001b[39m*\u001b[39mcontextkw):\n\u001b[1;32m    275\u001b[0m \u001b[39m    \u001b[39m\u001b[39mr\u001b[39m\u001b[39m\"\"\"\u001b[39;00m\n\u001b[1;32m    276\u001b[0m \u001b[39m    Parse an in-memory buffer (often bytes object). Strings, buffers, memoryviews, and other complete buffers can be parsed with this method.\u001b[39;00m\n\u001b[1;32m    277\u001b[0m \n\u001b[0;32m   (...)\u001b[0m\n\u001b[1;32m    286\u001b[0m \u001b[39m    :raises ConstructError: raised for any reason\u001b[39;00m\n\u001b[1;32m    287\u001b[0m \u001b[39m    \"\"\"\u001b[39;00m\n\u001b[0;32m--> 288\u001b[0m     \u001b[39mreturn\u001b[39;00m \u001b[39mself\u001b[39;49m\u001b[39m.\u001b[39;49mparse_stream(io\u001b[39m.\u001b[39;49mBytesIO(data), \u001b[39m*\u001b[39;49m\u001b[39m*\u001b[39;49mcontextkw)\n",
      "File \u001b[0;32m~/Documents/zeta/zeta-py/.venv/lib/python3.9/site-packages/construct/core.py:300\u001b[0m, in \u001b[0;36mConstruct.parse_stream\u001b[0;34m(self, stream, **contextkw)\u001b[0m\n\u001b[1;32m    298\u001b[0m context\u001b[39m.\u001b[39m_params \u001b[39m=\u001b[39m context\n\u001b[1;32m    299\u001b[0m \u001b[39mtry\u001b[39;00m:\n\u001b[0;32m--> 300\u001b[0m     \u001b[39mreturn\u001b[39;00m \u001b[39mself\u001b[39;49m\u001b[39m.\u001b[39;49m_parsereport(stream, context, \u001b[39m\"\u001b[39;49m\u001b[39m(parsing)\u001b[39;49m\u001b[39m\"\u001b[39;49m)\n\u001b[1;32m    301\u001b[0m \u001b[39mexcept\u001b[39;00m CancelParsing:\n\u001b[1;32m    302\u001b[0m     \u001b[39mpass\u001b[39;00m\n",
      "File \u001b[0;32m~/Documents/zeta/zeta-py/.venv/lib/python3.9/site-packages/construct/core.py:312\u001b[0m, in \u001b[0;36mConstruct._parsereport\u001b[0;34m(self, stream, context, path)\u001b[0m\n\u001b[1;32m    311\u001b[0m \u001b[39mdef\u001b[39;00m \u001b[39m_parsereport\u001b[39m(\u001b[39mself\u001b[39m, stream, context, path):\n\u001b[0;32m--> 312\u001b[0m     obj \u001b[39m=\u001b[39m \u001b[39mself\u001b[39;49m\u001b[39m.\u001b[39;49m_parse(stream, context, path)\n\u001b[1;32m    313\u001b[0m     \u001b[39mif\u001b[39;00m \u001b[39mself\u001b[39m\u001b[39m.\u001b[39mparsed \u001b[39mis\u001b[39;00m \u001b[39mnot\u001b[39;00m \u001b[39mNone\u001b[39;00m:\n\u001b[1;32m    314\u001b[0m         \u001b[39mself\u001b[39m\u001b[39m.\u001b[39mparsed(obj, context)\n",
      "File \u001b[0;32m~/Documents/zeta/zeta-py/.venv/lib/python3.9/site-packages/construct/core.py:2120\u001b[0m, in \u001b[0;36mStruct._parse\u001b[0;34m(self, stream, context, path)\u001b[0m\n\u001b[1;32m   2118\u001b[0m \u001b[39mfor\u001b[39;00m sc \u001b[39min\u001b[39;00m \u001b[39mself\u001b[39m\u001b[39m.\u001b[39msubcons:\n\u001b[1;32m   2119\u001b[0m     \u001b[39mtry\u001b[39;00m:\n\u001b[0;32m-> 2120\u001b[0m         subobj \u001b[39m=\u001b[39m sc\u001b[39m.\u001b[39;49m_parsereport(stream, context, path)\n\u001b[1;32m   2121\u001b[0m         \u001b[39mif\u001b[39;00m sc\u001b[39m.\u001b[39mname:\n\u001b[1;32m   2122\u001b[0m             obj[sc\u001b[39m.\u001b[39mname] \u001b[39m=\u001b[39m subobj\n",
      "File \u001b[0;32m~/Documents/zeta/zeta-py/.venv/lib/python3.9/site-packages/construct/core.py:312\u001b[0m, in \u001b[0;36mConstruct._parsereport\u001b[0;34m(self, stream, context, path)\u001b[0m\n\u001b[1;32m    311\u001b[0m \u001b[39mdef\u001b[39;00m \u001b[39m_parsereport\u001b[39m(\u001b[39mself\u001b[39m, stream, context, path):\n\u001b[0;32m--> 312\u001b[0m     obj \u001b[39m=\u001b[39m \u001b[39mself\u001b[39;49m\u001b[39m.\u001b[39;49m_parse(stream, context, path)\n\u001b[1;32m    313\u001b[0m     \u001b[39mif\u001b[39;00m \u001b[39mself\u001b[39m\u001b[39m.\u001b[39mparsed \u001b[39mis\u001b[39;00m \u001b[39mnot\u001b[39;00m \u001b[39mNone\u001b[39;00m:\n\u001b[1;32m    314\u001b[0m         \u001b[39mself\u001b[39m\u001b[39m.\u001b[39mparsed(obj, context)\n",
      "File \u001b[0;32m~/Documents/zeta/zeta-py/.venv/lib/python3.9/site-packages/construct/core.py:2653\u001b[0m, in \u001b[0;36mRenamed._parse\u001b[0;34m(self, stream, context, path)\u001b[0m\n\u001b[1;32m   2651\u001b[0m \u001b[39mdef\u001b[39;00m \u001b[39m_parse\u001b[39m(\u001b[39mself\u001b[39m, stream, context, path):\n\u001b[1;32m   2652\u001b[0m     path \u001b[39m+\u001b[39m\u001b[39m=\u001b[39m \u001b[39m\"\u001b[39m\u001b[39m -> \u001b[39m\u001b[39m%s\u001b[39;00m\u001b[39m\"\u001b[39m \u001b[39m%\u001b[39m (\u001b[39mself\u001b[39m\u001b[39m.\u001b[39mname,)\n\u001b[0;32m-> 2653\u001b[0m     \u001b[39mreturn\u001b[39;00m \u001b[39mself\u001b[39;49m\u001b[39m.\u001b[39;49msubcon\u001b[39m.\u001b[39;49m_parsereport(stream, context, path)\n",
      "File \u001b[0;32m~/Documents/zeta/zeta-py/.venv/lib/python3.9/site-packages/construct/core.py:312\u001b[0m, in \u001b[0;36mConstruct._parsereport\u001b[0;34m(self, stream, context, path)\u001b[0m\n\u001b[1;32m    311\u001b[0m \u001b[39mdef\u001b[39;00m \u001b[39m_parsereport\u001b[39m(\u001b[39mself\u001b[39m, stream, context, path):\n\u001b[0;32m--> 312\u001b[0m     obj \u001b[39m=\u001b[39m \u001b[39mself\u001b[39;49m\u001b[39m.\u001b[39;49m_parse(stream, context, path)\n\u001b[1;32m    313\u001b[0m     \u001b[39mif\u001b[39;00m \u001b[39mself\u001b[39m\u001b[39m.\u001b[39mparsed \u001b[39mis\u001b[39;00m \u001b[39mnot\u001b[39;00m \u001b[39mNone\u001b[39;00m:\n\u001b[1;32m    314\u001b[0m         \u001b[39mself\u001b[39m\u001b[39m.\u001b[39mparsed(obj, context)\n",
      "File \u001b[0;32m~/Documents/zeta/zeta-py/.venv/lib/python3.9/site-packages/construct/core.py:2120\u001b[0m, in \u001b[0;36mStruct._parse\u001b[0;34m(self, stream, context, path)\u001b[0m\n\u001b[1;32m   2118\u001b[0m \u001b[39mfor\u001b[39;00m sc \u001b[39min\u001b[39;00m \u001b[39mself\u001b[39m\u001b[39m.\u001b[39msubcons:\n\u001b[1;32m   2119\u001b[0m     \u001b[39mtry\u001b[39;00m:\n\u001b[0;32m-> 2120\u001b[0m         subobj \u001b[39m=\u001b[39m sc\u001b[39m.\u001b[39;49m_parsereport(stream, context, path)\n\u001b[1;32m   2121\u001b[0m         \u001b[39mif\u001b[39;00m sc\u001b[39m.\u001b[39mname:\n\u001b[1;32m   2122\u001b[0m             obj[sc\u001b[39m.\u001b[39mname] \u001b[39m=\u001b[39m subobj\n",
      "File \u001b[0;32m~/Documents/zeta/zeta-py/.venv/lib/python3.9/site-packages/construct/core.py:312\u001b[0m, in \u001b[0;36mConstruct._parsereport\u001b[0;34m(self, stream, context, path)\u001b[0m\n\u001b[1;32m    311\u001b[0m \u001b[39mdef\u001b[39;00m \u001b[39m_parsereport\u001b[39m(\u001b[39mself\u001b[39m, stream, context, path):\n\u001b[0;32m--> 312\u001b[0m     obj \u001b[39m=\u001b[39m \u001b[39mself\u001b[39;49m\u001b[39m.\u001b[39;49m_parse(stream, context, path)\n\u001b[1;32m    313\u001b[0m     \u001b[39mif\u001b[39;00m \u001b[39mself\u001b[39m\u001b[39m.\u001b[39mparsed \u001b[39mis\u001b[39;00m \u001b[39mnot\u001b[39;00m \u001b[39mNone\u001b[39;00m:\n\u001b[1;32m    314\u001b[0m         \u001b[39mself\u001b[39m\u001b[39m.\u001b[39mparsed(obj, context)\n",
      "File \u001b[0;32m~/Documents/zeta/zeta-py/.venv/lib/python3.9/site-packages/construct/core.py:2653\u001b[0m, in \u001b[0;36mRenamed._parse\u001b[0;34m(self, stream, context, path)\u001b[0m\n\u001b[1;32m   2651\u001b[0m \u001b[39mdef\u001b[39;00m \u001b[39m_parse\u001b[39m(\u001b[39mself\u001b[39m, stream, context, path):\n\u001b[1;32m   2652\u001b[0m     path \u001b[39m+\u001b[39m\u001b[39m=\u001b[39m \u001b[39m\"\u001b[39m\u001b[39m -> \u001b[39m\u001b[39m%s\u001b[39;00m\u001b[39m\"\u001b[39m \u001b[39m%\u001b[39m (\u001b[39mself\u001b[39m\u001b[39m.\u001b[39mname,)\n\u001b[0;32m-> 2653\u001b[0m     \u001b[39mreturn\u001b[39;00m \u001b[39mself\u001b[39;49m\u001b[39m.\u001b[39;49msubcon\u001b[39m.\u001b[39;49m_parsereport(stream, context, path)\n",
      "File \u001b[0;32m~/Documents/zeta/zeta-py/.venv/lib/python3.9/site-packages/construct/core.py:312\u001b[0m, in \u001b[0;36mConstruct._parsereport\u001b[0;34m(self, stream, context, path)\u001b[0m\n\u001b[1;32m    311\u001b[0m \u001b[39mdef\u001b[39;00m \u001b[39m_parsereport\u001b[39m(\u001b[39mself\u001b[39m, stream, context, path):\n\u001b[0;32m--> 312\u001b[0m     obj \u001b[39m=\u001b[39m \u001b[39mself\u001b[39;49m\u001b[39m.\u001b[39;49m_parse(stream, context, path)\n\u001b[1;32m    313\u001b[0m     \u001b[39mif\u001b[39;00m \u001b[39mself\u001b[39m\u001b[39m.\u001b[39mparsed \u001b[39mis\u001b[39;00m \u001b[39mnot\u001b[39;00m \u001b[39mNone\u001b[39;00m:\n\u001b[1;32m    314\u001b[0m         \u001b[39mself\u001b[39m\u001b[39m.\u001b[39mparsed(obj, context)\n",
      "File \u001b[0;32m~/Documents/zeta/zeta-py/.venv/lib/python3.9/site-packages/construct/core.py:5107\u001b[0m, in \u001b[0;36mTransformed._parse\u001b[0;34m(self, stream, context, path)\u001b[0m\n\u001b[1;32m   5105\u001b[0m \u001b[39mif\u001b[39;00m \u001b[39mtype\u001b[39m(\u001b[39mself\u001b[39m\u001b[39m.\u001b[39msubcon) \u001b[39mis\u001b[39;00m GreedyString:\n\u001b[1;32m   5106\u001b[0m     \u001b[39mreturn\u001b[39;00m data\u001b[39m.\u001b[39mdecode(\u001b[39mself\u001b[39m\u001b[39m.\u001b[39msubcon\u001b[39m.\u001b[39mencoding)\n\u001b[0;32m-> 5107\u001b[0m \u001b[39mreturn\u001b[39;00m \u001b[39mself\u001b[39;49m\u001b[39m.\u001b[39;49msubcon\u001b[39m.\u001b[39;49m_parsereport(io\u001b[39m.\u001b[39;49mBytesIO(data), context, path)\n",
      "File \u001b[0;32m~/Documents/zeta/zeta-py/.venv/lib/python3.9/site-packages/construct/core.py:312\u001b[0m, in \u001b[0;36mConstruct._parsereport\u001b[0;34m(self, stream, context, path)\u001b[0m\n\u001b[1;32m    311\u001b[0m \u001b[39mdef\u001b[39;00m \u001b[39m_parsereport\u001b[39m(\u001b[39mself\u001b[39m, stream, context, path):\n\u001b[0;32m--> 312\u001b[0m     obj \u001b[39m=\u001b[39m \u001b[39mself\u001b[39;49m\u001b[39m.\u001b[39;49m_parse(stream, context, path)\n\u001b[1;32m    313\u001b[0m     \u001b[39mif\u001b[39;00m \u001b[39mself\u001b[39m\u001b[39m.\u001b[39mparsed \u001b[39mis\u001b[39;00m \u001b[39mnot\u001b[39;00m \u001b[39mNone\u001b[39;00m:\n\u001b[1;32m    314\u001b[0m         \u001b[39mself\u001b[39m\u001b[39m.\u001b[39mparsed(obj, context)\n",
      "File \u001b[0;32m~/Documents/zeta/zeta-py/.venv/lib/python3.9/site-packages/construct/core.py:5107\u001b[0m, in \u001b[0;36mTransformed._parse\u001b[0;34m(self, stream, context, path)\u001b[0m\n\u001b[1;32m   5105\u001b[0m \u001b[39mif\u001b[39;00m \u001b[39mtype\u001b[39m(\u001b[39mself\u001b[39m\u001b[39m.\u001b[39msubcon) \u001b[39mis\u001b[39;00m GreedyString:\n\u001b[1;32m   5106\u001b[0m     \u001b[39mreturn\u001b[39;00m data\u001b[39m.\u001b[39mdecode(\u001b[39mself\u001b[39m\u001b[39m.\u001b[39msubcon\u001b[39m.\u001b[39mencoding)\n\u001b[0;32m-> 5107\u001b[0m \u001b[39mreturn\u001b[39;00m \u001b[39mself\u001b[39;49m\u001b[39m.\u001b[39;49msubcon\u001b[39m.\u001b[39;49m_parsereport(io\u001b[39m.\u001b[39;49mBytesIO(data), context, path)\n",
      "File \u001b[0;32m~/Documents/zeta/zeta-py/.venv/lib/python3.9/site-packages/construct/core.py:312\u001b[0m, in \u001b[0;36mConstruct._parsereport\u001b[0;34m(self, stream, context, path)\u001b[0m\n\u001b[1;32m    311\u001b[0m \u001b[39mdef\u001b[39;00m \u001b[39m_parsereport\u001b[39m(\u001b[39mself\u001b[39m, stream, context, path):\n\u001b[0;32m--> 312\u001b[0m     obj \u001b[39m=\u001b[39m \u001b[39mself\u001b[39;49m\u001b[39m.\u001b[39;49m_parse(stream, context, path)\n\u001b[1;32m    313\u001b[0m     \u001b[39mif\u001b[39;00m \u001b[39mself\u001b[39m\u001b[39m.\u001b[39mparsed \u001b[39mis\u001b[39;00m \u001b[39mnot\u001b[39;00m \u001b[39mNone\u001b[39;00m:\n\u001b[1;32m    314\u001b[0m         \u001b[39mself\u001b[39m\u001b[39m.\u001b[39mparsed(obj, context)\n",
      "File \u001b[0;32m~/Documents/zeta/zeta-py/.venv/lib/python3.9/site-packages/construct/core.py:2120\u001b[0m, in \u001b[0;36mStruct._parse\u001b[0;34m(self, stream, context, path)\u001b[0m\n\u001b[1;32m   2118\u001b[0m \u001b[39mfor\u001b[39;00m sc \u001b[39min\u001b[39;00m \u001b[39mself\u001b[39m\u001b[39m.\u001b[39msubcons:\n\u001b[1;32m   2119\u001b[0m     \u001b[39mtry\u001b[39;00m:\n\u001b[0;32m-> 2120\u001b[0m         subobj \u001b[39m=\u001b[39m sc\u001b[39m.\u001b[39;49m_parsereport(stream, context, path)\n\u001b[1;32m   2121\u001b[0m         \u001b[39mif\u001b[39;00m sc\u001b[39m.\u001b[39mname:\n\u001b[1;32m   2122\u001b[0m             obj[sc\u001b[39m.\u001b[39mname] \u001b[39m=\u001b[39m subobj\n",
      "File \u001b[0;32m~/Documents/zeta/zeta-py/.venv/lib/python3.9/site-packages/construct/core.py:312\u001b[0m, in \u001b[0;36mConstruct._parsereport\u001b[0;34m(self, stream, context, path)\u001b[0m\n\u001b[1;32m    311\u001b[0m \u001b[39mdef\u001b[39;00m \u001b[39m_parsereport\u001b[39m(\u001b[39mself\u001b[39m, stream, context, path):\n\u001b[0;32m--> 312\u001b[0m     obj \u001b[39m=\u001b[39m \u001b[39mself\u001b[39;49m\u001b[39m.\u001b[39;49m_parse(stream, context, path)\n\u001b[1;32m    313\u001b[0m     \u001b[39mif\u001b[39;00m \u001b[39mself\u001b[39m\u001b[39m.\u001b[39mparsed \u001b[39mis\u001b[39;00m \u001b[39mnot\u001b[39;00m \u001b[39mNone\u001b[39;00m:\n\u001b[1;32m    314\u001b[0m         \u001b[39mself\u001b[39m\u001b[39m.\u001b[39mparsed(obj, context)\n",
      "File \u001b[0;32m~/Documents/zeta/zeta-py/.venv/lib/python3.9/site-packages/construct/core.py:2728\u001b[0m, in \u001b[0;36mConst._parse\u001b[0;34m(self, stream, context, path)\u001b[0m\n\u001b[1;32m   2726\u001b[0m obj \u001b[39m=\u001b[39m \u001b[39mself\u001b[39m\u001b[39m.\u001b[39msubcon\u001b[39m.\u001b[39m_parsereport(stream, context, path)\n\u001b[1;32m   2727\u001b[0m \u001b[39mif\u001b[39;00m \u001b[39mnot\u001b[39;00m obj \u001b[39m==\u001b[39m \u001b[39mself\u001b[39m\u001b[39m.\u001b[39mvalue:\n\u001b[0;32m-> 2728\u001b[0m     \u001b[39mraise\u001b[39;00m ConstError(\u001b[39mf\u001b[39m\u001b[39m\"\u001b[39m\u001b[39mparsing expected \u001b[39m\u001b[39m{\u001b[39;00m\u001b[39mrepr\u001b[39m(\u001b[39mself\u001b[39m\u001b[39m.\u001b[39mvalue)\u001b[39m}\u001b[39;00m\u001b[39m but parsed \u001b[39m\u001b[39m{\u001b[39;00m\u001b[39mrepr\u001b[39m(obj)\u001b[39m}\u001b[39;00m\u001b[39m\"\u001b[39m, path\u001b[39m=\u001b[39mpath)\n\u001b[1;32m   2729\u001b[0m \u001b[39mreturn\u001b[39;00m obj\n",
      "\u001b[0;31mConstError\u001b[0m: Error in path (parsing) -> header -> account_flags\nparsing expected 0 but parsed 650687545344"
     ]
    }
   ],
   "source": [
    "from zeta_py.serum_client.accounts.queue import EventQueue\n",
    "\n",
    "\n",
    "await EventQueue.fetch(conn, Pubkey.from_string(\"3rjBffJkFa9zdGr9xmTVxF3y6nL6iL1pASVzym7s5FGr\"))"
   ]
  },
  {
   "cell_type": "code",
   "execution_count": null,
   "metadata": {},
   "outputs": [],
   "source": []
  }
 ],
 "metadata": {
  "kernelspec": {
   "display_name": ".venv",
   "language": "python",
   "name": "python3"
  },
  "language_info": {
   "codemirror_mode": {
    "name": "ipython",
    "version": 3
   },
   "file_extension": ".py",
   "mimetype": "text/x-python",
   "name": "python",
   "nbconvert_exporter": "python",
   "pygments_lexer": "ipython3",
   "version": "3.9.7"
  },
  "orig_nbformat": 4
 },
 "nbformat": 4,
 "nbformat_minor": 2
}
