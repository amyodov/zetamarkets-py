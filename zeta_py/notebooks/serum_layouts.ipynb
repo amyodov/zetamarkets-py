{
 "cells": [
  {
   "cell_type": "code",
   "execution_count": 1,
   "metadata": {},
   "outputs": [],
   "source": [
    "from solders.pubkey import Pubkey\n",
    "from zeta_py.pyserum._layouts.open_orders import OPEN_ORDERS_LAYOUT\n",
    "from zeta_py.serum_client.accounts.market_state import MarketState\n",
    "from solana.rpc.async_api import AsyncClient\n",
    "\n",
    "from zeta_py.serum_client.accounts.open_orders import OpenOrders\n",
    "\n",
    "conn = AsyncClient(\"https://api.mainnet-beta.solana.com\")\n",
    "# await OpenOrders.fetch(conn, Pubkey.from_string(\"ciwBQfLdM97vFp8GwYYLczPgYoLfdkTVD6dhHAeGoWj\"))\n",
    "\n",
    "# resp = await conn.get_account_info(Pubkey.from_string(\"ciwBQfLdM97vFp8GwYYLczPgYoLfdkTVD6dhHAeGoWj\"))\n",
    "# _OpenOrdersAccountCore.from_bytes(Pubkey.from_string(\"ciwBQfLdM97vFp8GwYYLczPgYoLfdkTVD6dhHAeGoWj\"), resp.value.data).orders"
   ]
  },
  {
   "cell_type": "code",
   "execution_count": 8,
   "metadata": {},
   "outputs": [
    {
     "data": {
      "text/plain": [
       "EventQueue(header=QueueHeader(account_flags=AccountFlags(initialized=True, market=False, open_orders=False, request_queue=False, event_queue=True, bids=False, asks=False, disabled=False, closed=False, permissioned=False, crank_authority_required=False), head=1737, count=0, next_seq_num=172137347), nodes=[])"
      ]
     },
     "execution_count": 8,
     "metadata": {},
     "output_type": "execute_result"
    }
   ],
   "source": [
    "from zeta_py.serum_client.accounts.queue import EventQueue\n",
    "\n",
    "\n",
    "EventQueue.decode(resp.value.data)"
   ]
  },
  {
   "cell_type": "code",
   "execution_count": null,
   "metadata": {},
   "outputs": [],
   "source": []
  }
 ],
 "metadata": {
  "kernelspec": {
   "display_name": ".venv",
   "language": "python",
   "name": "python3"
  },
  "language_info": {
   "codemirror_mode": {
    "name": "ipython",
    "version": 3
   },
   "file_extension": ".py",
   "mimetype": "text/x-python",
   "name": "python",
   "nbconvert_exporter": "python",
   "pygments_lexer": "ipython3",
   "version": "3.9.7"
  },
  "orig_nbformat": 4
 },
 "nbformat": 4,
 "nbformat_minor": 2
}
