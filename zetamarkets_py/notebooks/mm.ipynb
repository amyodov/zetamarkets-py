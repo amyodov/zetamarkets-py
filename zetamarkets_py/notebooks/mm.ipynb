{
 "cells": [
  {
   "cell_type": "code",
   "execution_count": 1,
   "metadata": {},
   "outputs": [
    {
     "name": "stdout",
     "output_type": "stream",
     "text": [
      "https://api.mainnet-beta.solana\n"
     ]
    }
   ],
   "source": [
    "from zetamarkets_py.types import Asset, Side, OrderOptions, OrderType\n",
    "from zetamarkets_py.client import Client\n",
    "import anchorpy\n",
    "import os\n",
    "from datetime import datetime, timedelta\n",
    "from solana.rpc.commitment import Confirmed, Processed\n",
    "\n",
    "endpoint = os.getenv(\"ENDPOINT\", \"https://api.mainnet-beta.solana.com\")\n",
    "print(endpoint.split(\".com\")[0])\n",
    "\n",
    "wallet = anchorpy.Wallet.local()  # get local filesystem keypair wallet"
   ]
  },
  {
   "cell_type": "code",
   "execution_count": 2,
   "metadata": {},
   "outputs": [],
   "source": [
    "asset = Asset.SOL\n",
    "client = await Client.load(endpoint=endpoint, commitment=Processed, wallet=wallet, assets=[asset])"
   ]
  },
  {
   "cell_type": "code",
   "execution_count": 3,
   "metadata": {},
   "outputs": [],
   "source": [
    "import websockets\n",
    "import json"
   ]
  },
  {
   "cell_type": "code",
   "execution_count": 6,
   "metadata": {},
   "outputs": [],
   "source": [
    "import asyncio\n",
    "import time\n",
    "from typing import List\n",
    "from zetamarkets_py.orderbook import Orderbook\n",
    "\n",
    "from zetamarkets_py.types import Order\n",
    "\n",
    "\n",
    "class MarketMaker:\n",
    "    def __init__(self, client: Client, asset: Asset, current_open_orders: List[Order]) -> None:\n",
    "        self.client = client\n",
    "        self.asset = asset\n",
    "        self._is_quoting = False\n",
    "        self.fair_price = None\n",
    "        self.offset_bps = 5\n",
    "        self.edge_bps = 5\n",
    "        self.quote_size = 0.001\n",
    "\n",
    "        # get the best bid in the open orders\n",
    "        self.bid_price = max([o.info.price for o in current_open_orders if o.side == Side.Bid], default=None)\n",
    "        self.ask_price = min([o.info.price for o in current_open_orders if o.side == Side.Ask], default=None)\n",
    "\n",
    "        self.EDGE_REQUOTE_THRESHOLD = 0.25\n",
    "        self.TIF_DURATION = 120\n",
    "\n",
    "    @classmethod\n",
    "    async def load(cls, endpoint, wallet, asset, commitment=Confirmed):\n",
    "        client = await Client.load(endpoint=endpoint, commitment=commitment, wallet=wallet, assets=[asset])\n",
    "        oo = await client.fetch_open_orders(asset)\n",
    "        return cls(client, asset, oo)\n",
    "\n",
    "    async def subscribe_fair_price(self):\n",
    "        async with websockets.connect(\"wss://fstream.binance.com/ws/solusdt@bookTicker\") as ws:\n",
    "            await ws.send(\n",
    "                json.dumps({\"method\": \"SUBSCRIBE\", \"params\": [\"solusdt@bookTicker\"], \"id\": int(time.time() * 1000)})\n",
    "            )\n",
    "            first_resp = await ws.recv()\n",
    "            async for msg in ws:\n",
    "                try:\n",
    "                    ticker = json.loads(msg)\n",
    "                    if ticker[\"e\"] == \"bookTicker\":\n",
    "                        vwap = (float(ticker[\"b\"]) * int(ticker[\"B\"]) + float(ticker[\"a\"]) * int(ticker[\"A\"])) / (\n",
    "                            int(ticker[\"B\"]) + int(ticker[\"A\"])\n",
    "                        )\n",
    "                        self.fair_price = vwap\n",
    "                        await self.update_quotes()\n",
    "                except ValueError as e:\n",
    "                    print(e)\n",
    "                except Exception as e:\n",
    "                    print(e)\n",
    "\n",
    "    async def subscribe_zeta_price(self):\n",
    "        async def on_bid_update(orderbook: Orderbook):\n",
    "            print(f\"Best bid: {orderbook._get_l2(1)}\")\n",
    "\n",
    "        async def on_ask_update(orderbook: Orderbook):\n",
    "            print(f\"Best ask: {orderbook._get_l2(1)}\")\n",
    "\n",
    "        await asyncio.gather(\n",
    "            self.client.subscribe_orderbook(self.asset, Side.Bid, on_bid_update),\n",
    "            self.client.subscribe_orderbook(self.asset, Side.Ask, on_ask_update),\n",
    "        )\n",
    "\n",
    "    async def update_quotes(self):\n",
    "        if self._is_quoting:\n",
    "            return\n",
    "        if self.fair_price is None:\n",
    "            print(\"Missing fair price\")\n",
    "            return\n",
    "        # Skip requote if the fair price is within the edge\n",
    "        fair_price = self.fair_price * (1 + self.offset_bps / 10000)\n",
    "        if self.bid_price is not None and self.ask_price is not None:\n",
    "            # Get the latest mark price and calculate bid/ask prices\n",
    "            current_mid_price = (self.bid_price + self.ask_price) / 2\n",
    "            edge = current_mid_price * (self.edge_bps / 10000)\n",
    "\n",
    "            # If the fair price is within the edge, don't update the quotes\n",
    "            # print(f\"Edge ratio: {abs(fair_price - current_mid_price) / edge}\")\n",
    "            if abs(fair_price - current_mid_price) < edge * self.EDGE_REQUOTE_THRESHOLD:\n",
    "                # print(f\"Skipping quote since fair price is within edge: {abs(fair_price - current_mid_price)} vs {edge}\")\n",
    "                return\n",
    "\n",
    "        print(f\"NBBO price: {self.fair_price}\")\n",
    "        print(f\"Internal price: {fair_price}\")\n",
    "\n",
    "        # Requote\n",
    "        bid_price = fair_price * (1 - self.edge_bps / 10000)\n",
    "        ask_price = fair_price * (1 + self.edge_bps / 10000)\n",
    "\n",
    "        # Set order options\n",
    "        expiry_ts = int((datetime.now() + timedelta(seconds=self.TIF_DURATION)).timestamp())\n",
    "        order_opts = OrderOptions(\n",
    "            expiry_ts=expiry_ts, order_type=OrderType.PostOnly, client_order_id=69\n",
    "        )  # TODO: postOnly\n",
    "\n",
    "        # Execute quote!\n",
    "        self._is_quoting = True\n",
    "        try:\n",
    "            print(f\"Requoting: {bid_price} @ {ask_price}\")\n",
    "            await client.replace_quote(asset, bid_price, self.quote_size, ask_price, self.quote_size, order_opts)\n",
    "            self.bid_price = bid_price\n",
    "            self.ask_price = ask_price\n",
    "        except Exception as e:\n",
    "            raise e\n",
    "        finally:\n",
    "            self._is_quoting = False\n",
    "\n",
    "    async def run(self):\n",
    "        try:\n",
    "            await asyncio.gather(await self.subscribe_fair_price(), await self.subscribe_zeta_price())\n",
    "        finally:\n",
    "            await client.cancel_orders_for_market(self.asset)"
   ]
  },
  {
   "cell_type": "code",
   "execution_count": 7,
   "metadata": {},
   "outputs": [
    {
     "name": "stderr",
     "output_type": "stream",
     "text": [
      "INFO:zetamarkets_py.client.Client:Replacing SOL orders: 0.001x Bid @ $19.062630807463634, 0.001x Ask @ $19.081702974354542\n",
      "INFO:solanaweb3.rpc.httprpc.HTTPClient:Transaction sent to https://api.mainnet-beta.solana.com. Signature hE8SMHTqLPFb1TpnhL9gUcYsVH12y5fhkURcX96SYDPeg4GLbQMBfFrBB2X1ZpjxCjWMxE2iLzGECEixjzpDwut: \n"
     ]
    },
    {
     "name": "stdout",
     "output_type": "stream",
     "text": [
      "NBBO price: 19.062635573122527\n",
      "Internal price: 19.072166890909088\n",
      "Requoting: 19.062630807463634 @ 19.081702974354542\n"
     ]
    },
    {
     "name": "stderr",
     "output_type": "stream",
     "text": [
      "INFO:zetamarkets_py.client.Client:Replacing SOL orders: 0.001x Bid @ $19.059708989718402, 0.001x Ask @ $19.07877823332992\n"
     ]
    },
    {
     "name": "stdout",
     "output_type": "stream",
     "text": [
      "NBBO price: 19.05971375464684\n",
      "Internal price: 19.06924361152416\n",
      "Requoting: 19.059708989718402 @ 19.07877823332992\n"
     ]
    },
    {
     "name": "stderr",
     "output_type": "stream",
     "text": [
      "INFO:solanaweb3.rpc.httprpc.HTTPClient:Transaction sent to https://api.mainnet-beta.solana.com. Signature 2MYCgYUWc7cPVUk1ESaBu6sB8LVBnM9ydMahEBTfinuX9hA1ftGeT9NzjSN2CEcbSDif9576otf42uRTt53HFL7F: \n",
      "INFO:zetamarkets_py.client.Client:Replacing SOL orders: 0.001x Bid @ $19.05610376310465, 0.001x Ask @ $19.075169399686047\n",
      "INFO:solanaweb3.rpc.httprpc.HTTPClient:Transaction sent to https://api.mainnet-beta.solana.com. Signature 62tdypSewzZtkCAuwGLkmmRt62RkXe1bajhw7kR6imMv2r9wDuadwzL3dC62d7NkMygkujRWBj9MkXLkMH8kBQKQ: \n"
     ]
    },
    {
     "name": "stdout",
     "output_type": "stream",
     "text": [
      "NBBO price: 19.056108527131784\n",
      "Internal price: 19.06563658139535\n",
      "Requoting: 19.05610376310465 @ 19.075169399686047\n"
     ]
    },
    {
     "name": "stderr",
     "output_type": "stream",
     "text": [
      "INFO:zetamarkets_py.client.Client:Replacing SOL orders: 0.001x Bid @ $19.058559774365957, 0.001x Ask @ $19.077627868187232\n"
     ]
    },
    {
     "name": "stdout",
     "output_type": "stream",
     "text": [
      "NBBO price: 19.058564539007094\n",
      "Internal price: 19.068093821276594\n",
      "Requoting: 19.058559774365957 @ 19.077627868187232\n"
     ]
    },
    {
     "name": "stderr",
     "output_type": "stream",
     "text": [
      "INFO:solanaweb3.rpc.httprpc.HTTPClient:Transaction sent to https://api.mainnet-beta.solana.com. Signature 4R5R87LBpxXSMGeFeHYadXM8GA7Yk4z9uoGtg5phAbtQ8xZ1Wu2ZDkkrMBFbZgiXL1aBgkbooMBbPrP6NCzezfM9: \n",
      "INFO:zetamarkets_py.client.Client:Replacing SOL orders: 0.001x Bid @ $19.061803360958805, 0.001x Ask @ $19.08087469998928\n"
     ]
    },
    {
     "name": "stdout",
     "output_type": "stream",
     "text": [
      "NBBO price: 19.06180812641084\n",
      "Internal price: 19.071339030474043\n",
      "Requoting: 19.061803360958805 @ 19.08087469998928\n"
     ]
    },
    {
     "name": "stderr",
     "output_type": "stream",
     "text": [
      "INFO:solanaweb3.rpc.httprpc.HTTPClient:Transaction sent to https://api.mainnet-beta.solana.com. Signature 4Y66gDr9YW9bBS6MqUpGWBxuChCJWsoX1r6EwFrCysKqSi9TuKdhT6C3myjVPpLSwk1VUK1s4aeAFdRaFUrDhuwZ: \n",
      "INFO:zetamarkets_py.client.Client:Replacing SOL orders: 0.001x Bid @ $19.064829335173965, 0.001x Ask @ $19.083903701692396\n"
     ]
    },
    {
     "name": "stdout",
     "output_type": "stream",
     "text": [
      "NBBO price: 19.06483410138249\n",
      "Internal price: 19.07436651843318\n",
      "Requoting: 19.064829335173965 @ 19.083903701692396\n"
     ]
    },
    {
     "name": "stderr",
     "output_type": "stream",
     "text": [
      "INFO:solanaweb3.rpc.httprpc.HTTPClient:Transaction sent to https://api.mainnet-beta.solana.com. Signature 3XwKAK4oTp7NvHq5hzXgFyxTzwM6g5wyLn5u5RPoZrhYTFUHt96w8dASBvq9g7u73todjDnjvVxwX2XLJey25sRf: \n",
      "INFO:zetamarkets_py.client.Client:Replacing SOL orders: 0.001x Bid @ $19.062436340158953, 0.001x Ask @ $19.081508312485276\n"
     ]
    },
    {
     "name": "stdout",
     "output_type": "stream",
     "text": [
      "NBBO price: 19.06244110576923\n",
      "Internal price: 19.071972326322115\n",
      "Requoting: 19.062436340158953 @ 19.081508312485276\n"
     ]
    },
    {
     "name": "stderr",
     "output_type": "stream",
     "text": [
      "INFO:solanaweb3.rpc.httprpc.HTTPClient:Transaction sent to https://api.mainnet-beta.solana.com. Signature yhYT8zMtbxJJtehGdP6SyGxesRHensDkJ8RVjSN3yFBRs6LEzBcouybTFeovdX3crYTSYQNPx9p7HniEc1HGZ57: \n",
      "INFO:zetamarkets_py.client.Client:Replacing SOL orders: 0.001x Bid @ $19.064970843512192, 0.001x Ask @ $19.084045351609753\n"
     ]
    },
    {
     "name": "stdout",
     "output_type": "stream",
     "text": [
      "NBBO price: 19.064975609756097\n",
      "Internal price: 19.074508097560972\n",
      "Requoting: 19.064970843512192 @ 19.084045351609753\n"
     ]
    },
    {
     "name": "stderr",
     "output_type": "stream",
     "text": [
      "INFO:solanaweb3.rpc.httprpc.HTTPClient:Transaction sent to https://api.mainnet-beta.solana.com. Signature 282PYtNvaB6yfs6zJdECvNZFk392iwAXWSZqzjkkziRSJSYstBxXduo7DQYgpoDPVH41o69xFtXhostkHWtKukRh: \n",
      "INFO:zetamarkets_py.client.Client:Replacing SOL orders: 0.001x Bid @ $19.067442041648935, 0.001x Ask @ $19.08651902218085\n"
     ]
    },
    {
     "name": "stdout",
     "output_type": "stream",
     "text": [
      "NBBO price: 19.06744680851064\n",
      "Internal price: 19.07698053191489\n",
      "Requoting: 19.067442041648935 @ 19.08651902218085\n"
     ]
    },
    {
     "name": "stderr",
     "output_type": "stream",
     "text": [
      "INFO:solanaweb3.rpc.httprpc.HTTPClient:Transaction sent to https://api.mainnet-beta.solana.com. Signature 4yT3MxVo5mqW3PHLiRYx2evwyTeF2yMMC4fHeTKrmMCWdk5t3zqAAixPYMCgXK9c4y7RJD5BrLWCNVexjtz4QpwB: \n",
      "INFO:zetamarkets_py.client.Client:Replacing SOL orders: 0.001x Bid @ $19.069939432220266, 0.001x Ask @ $19.089018911392067\n",
      "INFO:solanaweb3.rpc.httprpc.HTTPClient:Transaction sent to https://api.mainnet-beta.solana.com. Signature 2aaPpChmvEu11rXAKJVTNzNU2bcSkoyGo6Lc8fdcUWFamrjM6J1JD2HnFnjX5nYmDzmuTSLe9zgfnbefwYg6bqVs: \n"
     ]
    },
    {
     "name": "stdout",
     "output_type": "stream",
     "text": [
      "NBBO price: 19.069944199706313\n",
      "Internal price: 19.079479171806167\n",
      "Requoting: 19.069939432220266 @ 19.089018911392067\n"
     ]
    },
    {
     "name": "stderr",
     "output_type": "stream",
     "text": [
      "INFO:zetamarkets_py.client.Client:Replacing SOL orders: 0.001x Bid @ $19.072586472728098, 0.001x Ask @ $19.09166860026459\n"
     ]
    },
    {
     "name": "stdout",
     "output_type": "stream",
     "text": [
      "NBBO price: 19.07259124087591\n",
      "Internal price: 19.082127536496344\n",
      "Requoting: 19.072586472728098 @ 19.09166860026459\n"
     ]
    },
    {
     "name": "stderr",
     "output_type": "stream",
     "text": [
      "INFO:solanaweb3.rpc.httprpc.HTTPClient:Transaction sent to https://api.mainnet-beta.solana.com. Signature 41m3FRHxhChnvAdbAAjEweVtpPxJEuMvsGKJL9vkzSdLs8zdYpmSQsbo4umAJZxRGx6Yxe597JfgNrSUkF3x3J8C: \n",
      "INFO:zetamarkets_py.client.Client:Replacing SOL orders: 0.001x Bid @ $19.075533815045347, 0.001x Ask @ $19.094618891398568\n",
      "INFO:solanaweb3.rpc.httprpc.HTTPClient:Transaction sent to https://api.mainnet-beta.solana.com. Signature 2CuBLT6KngWA89kbAosL9MhFcxX3kq3XcBvmjYXEu3BaQAkfrJ8ZW9YKYBpYdCkPDbfPoXMMWwSCCYrdTqqkjdtg: \n"
     ]
    },
    {
     "name": "stdout",
     "output_type": "stream",
     "text": [
      "NBBO price: 19.075538583929994\n",
      "Internal price: 19.085076353221957\n",
      "Requoting: 19.075533815045347 @ 19.094618891398568\n"
     ]
    },
    {
     "name": "stderr",
     "output_type": "stream",
     "text": [
      "INFO:zetamarkets_py.client.Client:Replacing SOL orders: 0.001x Bid @ $19.079237335452632, 0.001x Ask @ $19.098326117178942\n"
     ]
    },
    {
     "name": "stdout",
     "output_type": "stream",
     "text": [
      "NBBO price: 19.079242105263155\n",
      "Internal price: 19.088781726315787\n",
      "Requoting: 19.079237335452632 @ 19.098326117178942\n"
     ]
    },
    {
     "name": "stderr",
     "output_type": "stream",
     "text": [
      "INFO:solanaweb3.rpc.httprpc.HTTPClient:Transaction sent to https://api.mainnet-beta.solana.com. Signature 2wppjk8ZVpr2q5r8URL8eeU3p78Zy5bSjFmsXJGGbuyw5bkQkgXsp9aoHwgMkCDvL2RxubexMhKCY2KYpH9iC86Z: \n",
      "INFO:zetamarkets_py.client.Client:Replacing SOL orders: 0.001x Bid @ $19.081943853366056, 0.001x Ask @ $19.101035342964217\n"
     ]
    },
    {
     "name": "stdout",
     "output_type": "stream",
     "text": [
      "NBBO price: 19.08194862385321\n",
      "Internal price: 19.091489598165136\n",
      "Requoting: 19.081943853366056 @ 19.101035342964217\n"
     ]
    },
    {
     "name": "stderr",
     "output_type": "stream",
     "text": [
      "INFO:solanaweb3.rpc.httprpc.HTTPClient:Transaction sent to https://api.mainnet-beta.solana.com. Signature 2LyefFHATesTv3tn3znqMxU4HVRkA1qqb4apBTooL7GEb9x8LLvazpAaTNHufUVgjffJkhuuUhNvvR3bRkDcUMxY: \n",
      "INFO:zetamarkets_py.client.Client:Replacing SOL orders: 0.001x Bid @ $19.084665683377846, 0.001x Ask @ $19.103759896167613\n",
      "INFO:solanaweb3.rpc.httprpc.HTTPClient:Transaction sent to https://api.mainnet-beta.solana.com. Signature 3EY9TuxWQ2Q3rsE1MqqbK4UBzoGxEHR2hGjo7g6Lfm7KXqFz14o7JNFVW5nLkXFFPu9YqsnimkgeW5H34NivsFRe: \n"
     ]
    },
    {
     "name": "stdout",
     "output_type": "stream",
     "text": [
      "NBBO price: 19.084670454545456\n",
      "Internal price: 19.09421278977273\n",
      "Requoting: 19.084665683377846 @ 19.103759896167613\n"
     ]
    },
    {
     "name": "stderr",
     "output_type": "stream",
     "text": [
      "INFO:zetamarkets_py.client.Client:Replacing SOL orders: 0.001x Bid @ $19.08217479294717, 0.001x Ask @ $19.101266513600443\n",
      "INFO:solanaweb3.rpc.httprpc.HTTPClient:Transaction sent to https://api.mainnet-beta.solana.com. Signature 3WAgqiwcZA2nsdsF8aCKjY8WSmX1rsWCg8BZGAxK3V7YCU98SHszYW7sDyKLM5wXzrHigkrWkN3T3jbyDVCGSZbZ: \n"
     ]
    },
    {
     "name": "stdout",
     "output_type": "stream",
     "text": [
      "NBBO price: 19.082179563492062\n",
      "Internal price: 19.091720653273807\n",
      "Requoting: 19.08217479294717 @ 19.101266513600443\n"
     ]
    },
    {
     "name": "stderr",
     "output_type": "stream",
     "text": [
      "INFO:zetamarkets_py.client.Client:Replacing SOL orders: 0.001x Bid @ $19.079729407281643, 0.001x Ask @ $19.098818681325948\n"
     ]
    },
    {
     "name": "stdout",
     "output_type": "stream",
     "text": [
      "NBBO price: 19.07973417721519\n",
      "Internal price: 19.089274044303796\n",
      "Requoting: 19.079729407281643 @ 19.098818681325948\n"
     ]
    },
    {
     "name": "stderr",
     "output_type": "stream",
     "text": [
      "INFO:solanaweb3.rpc.httprpc.HTTPClient:Transaction sent to https://api.mainnet-beta.solana.com. Signature 3hu2z8hmuwNoFnGgAk7q7v54qu4Rh4uUWxcCoYNKDNVRtafMwEox8iFRg9SEMh15KbTNuCKzoJ7swMzqgt9skxKT: \n",
      "INFO:zetamarkets_py.client.Client:Replacing SOL orders: 0.001x Bid @ $19.082638086482145, 0.001x Ask @ $19.101730270660713\n"
     ]
    },
    {
     "name": "stdout",
     "output_type": "stream",
     "text": [
      "NBBO price: 19.082642857142858\n",
      "Internal price: 19.09218417857143\n",
      "Requoting: 19.082638086482145 @ 19.101730270660713\n"
     ]
    },
    {
     "name": "stderr",
     "output_type": "stream",
     "text": [
      "INFO:solanaweb3.rpc.httprpc.HTTPClient:Transaction sent to https://api.mainnet-beta.solana.com. Signature 2qMykEXH1dyCq8D69BTvFdXVd6ycQiZTpCZUipgApWhRxHUeweR8bVXxvTrsM9VL8a8r1k4cye66wFEjC9hw85Lw: \n",
      "INFO:zetamarkets_py.client.Client:Replacing SOL orders: 0.001x Bid @ $19.080199609510952, 0.001x Ask @ $19.0992893539927\n",
      "INFO:solanaweb3.rpc.httprpc.HTTPClient:Transaction sent to https://api.mainnet-beta.solana.com. Signature 5mp8qKBoW58LwNUVYwqmfWVuoY5yjqU5Djt3F4fW8pTt1o7DtL1E8nn5KEys7mDn99kGgSTY2aFScXxtzZ89DU9k: \n"
     ]
    },
    {
     "name": "stdout",
     "output_type": "stream",
     "text": [
      "NBBO price: 19.080204379562044\n",
      "Internal price: 19.089744481751826\n",
      "Requoting: 19.080199609510952 @ 19.0992893539927\n"
     ]
    },
    {
     "name": "stderr",
     "output_type": "stream",
     "text": [
      "INFO:zetamarkets_py.client.Client:Replacing SOL orders: 0.001x Bid @ $19.085672084475984, 0.001x Ask @ $19.104767304170306\n"
     ]
    },
    {
     "name": "stdout",
     "output_type": "stream",
     "text": [
      "NBBO price: 19.085676855895198\n",
      "Internal price: 19.095219694323145\n",
      "Requoting: 19.085672084475984 @ 19.104767304170306\n"
     ]
    },
    {
     "name": "stderr",
     "output_type": "stream",
     "text": [
      "INFO:solanaweb3.rpc.httprpc.HTTPClient:Transaction sent to https://api.mainnet-beta.solana.com. Signature 2hAJp6oh5DzBD5AiVNGWx1SnXKmoYgBo8dnbLHScFE8YngjeyAEq9BqWMfQgRnLySqpENjFn7oNVzPYKhC3QNSpY: \n",
      "INFO:zetamarkets_py.client.Client:Replacing SOL orders: 0.001x Bid @ $19.089903086601627, 0.001x Ask @ $19.109002539414636\n",
      "INFO:solanaweb3.rpc.httprpc.HTTPClient:Transaction sent to https://api.mainnet-beta.solana.com. Signature 53tmPYRRNyHALvV5usZwoXWH4gx4gBzRBxFUShnzrpmZAoH56zjWi3yrx2nFNKPicHDtQ3b882dZxyQUkcTFtgAp: \n"
     ]
    },
    {
     "name": "stdout",
     "output_type": "stream",
     "text": [
      "NBBO price: 19.089907859078593\n",
      "Internal price: 19.09945281300813\n",
      "Requoting: 19.089903086601627 @ 19.109002539414636\n"
     ]
    },
    {
     "name": "stderr",
     "output_type": "stream",
     "text": [
      "INFO:zetamarkets_py.client.Client:Replacing SOL orders: 0.001x Bid @ $19.092442576711488, 0.001x Ask @ $19.11154457028498\n"
     ]
    },
    {
     "name": "stdout",
     "output_type": "stream",
     "text": [
      "NBBO price: 19.092447349823324\n",
      "Internal price: 19.101993573498234\n",
      "Requoting: 19.092442576711488 @ 19.11154457028498\n"
     ]
    },
    {
     "name": "stderr",
     "output_type": "stream",
     "text": [
      "INFO:solanaweb3.rpc.httprpc.HTTPClient:Transaction sent to https://api.mainnet-beta.solana.com. Signature 4YzaNWbPbPpBQX493bbLvQn1iVe5yqEQfNESsoe2gPsXaqU3WsNeiouKhMj7xtxksrMHPK2GYZMFqrmrQ9tRtNvw: \n",
      "INFO:zetamarkets_py.client.Client:Replacing SOL orders: 0.001x Bid @ $19.089121473565612, 0.001x Ask @ $19.108220144374577\n",
      "INFO:solanaweb3.rpc.httprpc.HTTPClient:Transaction sent to https://api.mainnet-beta.solana.com. Signature xa8uTXkJfsUBuALTKkzsN1DDHQL1UC2EPpkiA4XSMtKaeXjMPnLsk8AEy31e1ug5JuapT1YLAj83kc9FxAq3oJ2: \n"
     ]
    },
    {
     "name": "stdout",
     "output_type": "stream",
     "text": [
      "NBBO price: 19.089126245847172\n",
      "Internal price: 19.098670808970095\n",
      "Requoting: 19.089121473565612 @ 19.108220144374577\n"
     ]
    },
    {
     "name": "stderr",
     "output_type": "stream",
     "text": [
      "INFO:zetamarkets_py.client.Client:Replacing SOL orders: 0.001x Bid @ $19.086345752887894, 0.001x Ask @ $19.10544164658763\n"
     ]
    },
    {
     "name": "stdout",
     "output_type": "stream",
     "text": [
      "NBBO price: 19.086350524475524\n",
      "Internal price: 19.09589369973776\n",
      "Requoting: 19.086345752887894 @ 19.10544164658763\n"
     ]
    },
    {
     "name": "stderr",
     "output_type": "stream",
     "text": [
      "INFO:solanaweb3.rpc.httprpc.HTTPClient:Transaction sent to https://api.mainnet-beta.solana.com. Signature 1jS6C7ZcHEmo8yBiC4uWgbkQNvnobeeEyfEeSNXxTYLZ2eJQR3ZYsTSWM9HixZ8ecPGBMSBmNBtPvpC9TvZM6xX: \n",
      "INFO:zetamarkets_py.client.Client:Replacing SOL orders: 0.001x Bid @ $19.083551490453946, 0.001x Ask @ $19.102644588493416\n",
      "INFO:solanaweb3.rpc.httprpc.HTTPClient:Transaction sent to https://api.mainnet-beta.solana.com. Signature 5cJBUZuxo36N85bBQXkgM6rPY759MWUqosta7fEiijBXhZvjFtd8sDvF8fjcv2BjbLtCQnxymAmpe82CvgvMZkQk: \n"
     ]
    },
    {
     "name": "stdout",
     "output_type": "stream",
     "text": [
      "NBBO price: 19.08355626134301\n",
      "Internal price: 19.09309803947368\n",
      "Requoting: 19.083551490453946 @ 19.102644588493416\n"
     ]
    },
    {
     "name": "stderr",
     "output_type": "stream",
     "text": [
      "INFO:zetamarkets_py.client.Client:Replacing SOL orders: 0.001x Bid @ $19.08596206969502, 0.001x Ask @ $19.105057579519624\n"
     ]
    },
    {
     "name": "stdout",
     "output_type": "stream",
     "text": [
      "NBBO price: 19.085966841186732\n",
      "Internal price: 19.095509824607323\n",
      "Requoting: 19.08596206969502 @ 19.105057579519624\n"
     ]
    },
    {
     "name": "stderr",
     "output_type": "stream",
     "text": [
      "INFO:solanaweb3.rpc.httprpc.HTTPClient:Transaction sent to https://api.mainnet-beta.solana.com. Signature 3ZzUXPa2sQAcGc2RRkd9tRBhbCdP4rWKjkC13CatPyCmMBjWszRMRKCe82s55cyqoqs6nLvF56Qp9ELZiSpMwUZg: \n",
      "INFO:zetamarkets_py.client.Client:Replacing SOL orders: 0.001x Bid @ $19.088403049127095, 0.001x Ask @ $19.10750100115223\n"
     ]
    },
    {
     "name": "stdout",
     "output_type": "stream",
     "text": [
      "NBBO price: 19.088407821229048\n",
      "Internal price: 19.097952025139662\n",
      "Requoting: 19.088403049127095 @ 19.10750100115223\n"
     ]
    },
    {
     "name": "stderr",
     "output_type": "stream",
     "text": [
      "INFO:solanaweb3.rpc.httprpc.HTTPClient:Transaction sent to https://api.mainnet-beta.solana.com. Signature 24bRdBWUm2muHpgD977j5pRZLSDy7bprbAew8dqELWrsY2MLUTZVgUgmxFy7EAtYvecQDtQTDyP8VE8gJShaiPpF: \n",
      "INFO:zetamarkets_py.client.Client:Replacing SOL orders: 0.001x Bid @ $19.091058480246236, 0.001x Ask @ $19.11015908903087\n",
      "INFO:solanaweb3.rpc.httprpc.HTTPClient:Transaction sent to https://api.mainnet-beta.solana.com. Signature 4fg3ZUgBySef5JaWKfMsh6AuZCKK8uWdoj7nNkdTDnt5WH7hz8hG7AWtorX5V7MQRNawmYzfjXW1XuPzXXSLoibG: \n"
     ]
    },
    {
     "name": "stdout",
     "output_type": "stream",
     "text": [
      "NBBO price: 19.09106325301205\n",
      "Internal price: 19.100608784638553\n",
      "Requoting: 19.091058480246236 @ 19.11015908903087\n"
     ]
    },
    {
     "name": "stderr",
     "output_type": "stream",
     "text": [
      "INFO:zetamarkets_py.client.Client:Replacing SOL orders: 0.001x Bid @ $19.087290030348527, 0.001x Ask @ $19.106386868798097\n",
      "INFO:solanaweb3.rpc.httprpc.HTTPClient:Transaction sent to https://api.mainnet-beta.solana.com. Signature u5e2fcJ8tVpEqWMyQMKhnuupVi2xR7SHZtakWQrgTYCW57WxtfDCVFX92cnxhcaCrcP2kj1kCnxJ9MeNSRPy1Po: \n"
     ]
    },
    {
     "name": "stdout",
     "output_type": "stream",
     "text": [
      "NBBO price: 19.087294802172227\n",
      "Internal price: 19.096838449573312\n",
      "Requoting: 19.087290030348527 @ 19.106386868798097\n"
     ]
    },
    {
     "name": "stderr",
     "output_type": "stream",
     "text": [
      "INFO:zetamarkets_py.client.Client:Replacing SOL orders: 0.001x Bid @ $19.08316976719404, 0.001x Ask @ $19.102262483319297\n"
     ]
    },
    {
     "name": "stdout",
     "output_type": "stream",
     "text": [
      "NBBO price: 19.083174537987677\n",
      "Internal price: 19.09271612525667\n",
      "Requoting: 19.08316976719404 @ 19.102262483319297\n"
     ]
    },
    {
     "name": "stderr",
     "output_type": "stream",
     "text": [
      "INFO:solanaweb3.rpc.httprpc.HTTPClient:Transaction sent to https://api.mainnet-beta.solana.com. Signature 2XYFgCcfgK3Eeri18aDQ7eQDGSMm64z17Rvuym8phSYuXQFyo19zCdWYDwT3z9nMa8vDXMJQqQD832JVUGnJnyjj: \n",
      "INFO:zetamarkets_py.client.Client:Replacing SOL orders: 0.001x Bid @ $19.080423027726987, 0.001x Ask @ $19.09951299573872\n",
      "INFO:solanaweb3.rpc.httprpc.HTTPClient:Transaction sent to https://api.mainnet-beta.solana.com. Signature 5hAk4pP7CBxRSBCaUYULYubiroZr9MbeRqkfLYst47ZUpcixKN5xnqULCDUYcKFkLfQ3EUcFUz76vNhSUvoXHP1H: \n"
     ]
    },
    {
     "name": "stdout",
     "output_type": "stream",
     "text": [
      "NBBO price: 19.080427797833938\n",
      "Internal price: 19.089968011732854\n",
      "Requoting: 19.080423027726987 @ 19.09951299573872\n"
     ]
    },
    {
     "name": "stderr",
     "output_type": "stream",
     "text": [
      "INFO:zetamarkets_py.client.Client:Replacing SOL orders: 0.001x Bid @ $19.082846791787112, 0.001x Ask @ $19.10193918477539\n"
     ]
    },
    {
     "name": "stdout",
     "output_type": "stream",
     "text": [
      "NBBO price: 19.0828515625\n",
      "Internal price: 19.09239298828125\n",
      "Requoting: 19.082846791787112 @ 19.10193918477539\n"
     ]
    },
    {
     "name": "stderr",
     "output_type": "stream",
     "text": [
      "INFO:solanaweb3.rpc.httprpc.HTTPClient:Transaction sent to https://api.mainnet-beta.solana.com. Signature 3qmhTpqmFozauRQNLBvju75DfNritXfvJxuJYVHZm6Q2WnviDcrtdqefQsYprrQpEjuMXhsbBGKFDS9fuY6vmWkd: \n",
      "INFO:zetamarkets_py.client.Client:Replacing SOL orders: 0.001x Bid @ $19.080079755336474, 0.001x Ask @ $19.099169379904094\n"
     ]
    },
    {
     "name": "stdout",
     "output_type": "stream",
     "text": [
      "NBBO price: 19.080084525357606\n",
      "Internal price: 19.089624567620284\n",
      "Requoting: 19.080079755336474 @ 19.099169379904094\n"
     ]
    },
    {
     "name": "stderr",
     "output_type": "stream",
     "text": [
      "INFO:solanaweb3.rpc.httprpc.HTTPClient:Transaction sent to https://api.mainnet-beta.solana.com. Signature 4JhdyjwhHo7kZsmL6Pbwoxgs7Dp6bFVWwHNXn3VfB2JBFUtwuyFQuL2UbsbH7i2JTG5iobGP8wYneGSwjWJqq2oY: \n",
      "INFO:zetamarkets_py.client.Client:Replacing SOL orders: 0.001x Bid @ $19.07644102261466, 0.001x Ask @ $19.095527006629283\n",
      "INFO:solanaweb3.rpc.httprpc.HTTPClient:Transaction sent to https://api.mainnet-beta.solana.com. Signature 23aUTa8koXMRtJV5jrYk1Bi5BLEGTfprFoJTFxPR34aP6ztqCLoLPzFSAFnikVXRXCVdhg3ZEkeZeM8tR4podtYo: \n"
     ]
    },
    {
     "name": "stdout",
     "output_type": "stream",
     "text": [
      "NBBO price: 19.07644579172611\n",
      "Internal price: 19.08598401462197\n",
      "Requoting: 19.07644102261466 @ 19.095527006629283\n"
     ]
    },
    {
     "name": "stderr",
     "output_type": "stream",
     "text": [
      "INFO:zetamarkets_py.client.Client:Replacing SOL orders: 0.001x Bid @ $19.07402007621429, 0.001x Ask @ $19.093103638071433\n"
     ]
    },
    {
     "name": "stdout",
     "output_type": "stream",
     "text": [
      "NBBO price: 19.0740248447205\n",
      "Internal price: 19.08356185714286\n",
      "Requoting: 19.07402007621429 @ 19.093103638071433\n"
     ]
    },
    {
     "name": "stderr",
     "output_type": "stream",
     "text": [
      "INFO:solanaweb3.rpc.httprpc.HTTPClient:Transaction sent to https://api.mainnet-beta.solana.com. Signature 5vjKp3ZVAkHKxrWnZhvWoGnHbybJRPsZ5fiPoHKcGF8W1psXUfJxXughe2gtrS2z3Ji3JjXrpVTLEARKauxkrMv3: \n",
      "INFO:zetamarkets_py.client.Client:Replacing SOL orders: 0.001x Bid @ $19.069929472879252, 0.001x Ask @ $19.089008942086735\n",
      "INFO:solanaweb3.rpc.httprpc.HTTPClient:Transaction sent to https://api.mainnet-beta.solana.com. Signature 4YRaKmXqtpcCevmzxKa4e5B6oxfYoj5RjqZA1MRasfWWzbHuHkCfg6E8nwQiEcxQnJEEcKYWdqmCf5bCwS9nmeT2: \n"
     ]
    },
    {
     "name": "stdout",
     "output_type": "stream",
     "text": [
      "NBBO price: 19.069934240362812\n",
      "Internal price: 19.079469207482994\n",
      "Requoting: 19.069929472879252 @ 19.089008942086735\n"
     ]
    },
    {
     "name": "stderr",
     "output_type": "stream",
     "text": [
      "INFO:zetamarkets_py.client.Client:Replacing SOL orders: 0.001x Bid @ $19.073057731734377, 0.001x Ask @ $19.092140330765627\n"
     ]
    },
    {
     "name": "stdout",
     "output_type": "stream",
     "text": [
      "NBBO price: 19.073062500000002\n",
      "Internal price: 19.082599031250002\n",
      "Requoting: 19.073057731734377 @ 19.092140330765627\n"
     ]
    },
    {
     "name": "stderr",
     "output_type": "stream",
     "text": [
      "INFO:solanaweb3.rpc.httprpc.HTTPClient:Transaction sent to https://api.mainnet-beta.solana.com. Signature 3BTwTzCtkuzank68TNxE8L6M8dBwVh1EiF8TfMrjJWdJpCxAcgToYdsffQw6WLuQZe7nfvMs3Kde6wQgY5tVTCB1: \n",
      "INFO:zetamarkets_py.client.Client:Replacing SOL orders: 0.001x Bid @ $19.075456308979042, 0.001x Ask @ $19.094541307787424\n",
      "INFO:solanaweb3.rpc.httprpc.HTTPClient:Transaction sent to https://api.mainnet-beta.solana.com. Signature 5GEsYpDxPJ3KvHVuhx3J9ZcJa1bjBzBVAGJF6xV9zYLqDkHGaoR5P5oAHN5mKdrGB1fgwnZAR7QkKQvEW51Fukwy: \n"
     ]
    },
    {
     "name": "stdout",
     "output_type": "stream",
     "text": [
      "NBBO price: 19.075461077844313\n",
      "Internal price: 19.084998808383233\n",
      "Requoting: 19.075456308979042 @ 19.094541307787424\n"
     ]
    },
    {
     "name": "stderr",
     "output_type": "stream",
     "text": [
      "INFO:zetamarkets_py.client.Client:Replacing SOL orders: 0.001x Bid @ $19.078114050938638, 0.001x Ask @ $19.097201708818517\n",
      "INFO:solanaweb3.rpc.httprpc.HTTPClient:Transaction sent to https://api.mainnet-beta.solana.com. Signature 3RYV4NV673wsePs4P8gcjTWqgcfRoHopgkcGjfBey3hsyvewD6s5vEcYdL56xVsqYbM5oqcf5chxhj5ryUsNLAsa: \n"
     ]
    },
    {
     "name": "stdout",
     "output_type": "stream",
     "text": [
      "NBBO price: 19.078118820468344\n",
      "Internal price: 19.087657879878577\n",
      "Requoting: 19.078114050938638 @ 19.097201708818517\n"
     ]
    },
    {
     "name": "stderr",
     "output_type": "stream",
     "text": [
      "INFO:zetamarkets_py.client.Client:Replacing SOL orders: 0.001x Bid @ $19.080745655706774, 0.001x Ask @ $19.099835946507877\n",
      "INFO:solanaweb3.rpc.httprpc.HTTPClient:Transaction sent to https://api.mainnet-beta.solana.com. Signature 2YAvGks4WaBpJTeHqCC5FK86EizZ5PV4XUxrNvebjPFSKnq3UAv5MPrzUxdzsVPM49L98UhChhZcatdEQYVfNdGf: \n"
     ]
    },
    {
     "name": "stdout",
     "output_type": "stream",
     "text": [
      "NBBO price: 19.08075042589438\n",
      "Internal price: 19.090290801107326\n",
      "Requoting: 19.080745655706774 @ 19.099835946507877\n"
     ]
    },
    {
     "name": "stderr",
     "output_type": "stream",
     "text": [
      "INFO:zetamarkets_py.client.Client:Replacing SOL orders: 0.001x Bid @ $19.08367766693023, 0.001x Ask @ $19.1027708912093\n"
     ]
    },
    {
     "name": "stdout",
     "output_type": "stream",
     "text": [
      "NBBO price: 19.08368243785084\n",
      "Internal price: 19.093224279069766\n",
      "Requoting: 19.08367766693023 @ 19.1027708912093\n"
     ]
    },
    {
     "name": "stderr",
     "output_type": "stream",
     "text": [
      "INFO:solanaweb3.rpc.httprpc.HTTPClient:Transaction sent to https://api.mainnet-beta.solana.com. Signature qFxDWPCnSdmTmQ2ZG1CfzKiRa6Fq8YaAjRMNBCzdL8jL6RF7baXdtceCkWAKexYze7X4DMuNvL8SFAj9Sz9bJuq: \n",
      "INFO:zetamarkets_py.client.Client:Replacing SOL orders: 0.001x Bid @ $19.081193811260636, 0.001x Ask @ $19.100284550441483\n",
      "INFO:solanaweb3.rpc.httprpc.HTTPClient:Transaction sent to https://api.mainnet-beta.solana.com. Signature 66EZZnmcFvMGGQ1sLw5PmZAhxdAFHAdQ5Lw6giLapwEUdG4zUjiewfCgTAKYcWhzRc6WTE6PBaFRFABETFEMX6Wz: \n"
     ]
    },
    {
     "name": "stdout",
     "output_type": "stream",
     "text": [
      "NBBO price: 19.08119858156028\n",
      "Internal price: 19.09073918085106\n",
      "Requoting: 19.081193811260636 @ 19.100284550441483\n"
     ]
    },
    {
     "name": "stderr",
     "output_type": "stream",
     "text": [
      "INFO:zetamarkets_py.client.Client:Replacing SOL orders: 0.001x Bid @ $19.077305653633122, 0.001x Ask @ $19.096392502711293\n"
     ]
    },
    {
     "name": "stdout",
     "output_type": "stream",
     "text": [
      "NBBO price: 19.07731042296073\n",
      "Internal price: 19.086849078172207\n",
      "Requoting: 19.077305653633122 @ 19.096392502711293\n"
     ]
    },
    {
     "name": "stderr",
     "output_type": "stream",
     "text": [
      "INFO:solanaweb3.rpc.httprpc.HTTPClient:Transaction sent to https://api.mainnet-beta.solana.com. Signature 5fFzF7VkZAVCQv2kTRuYfaUytZgcpai7iwsPA1wVv9CHBefJpKwv7GbZ8TGZPXGQJfa68YfBzp8VFLpjCTeo7To4: \n",
      "INFO:zetamarkets_py.client.Client:Replacing SOL orders: 0.001x Bid @ $19.08088105655019, 0.001x Ask @ $19.099971482819875\n"
     ]
    },
    {
     "name": "stdout",
     "output_type": "stream",
     "text": [
      "NBBO price: 19.08088582677165\n",
      "Internal price: 19.090426269685032\n",
      "Requoting: 19.08088105655019 @ 19.099971482819875\n"
     ]
    },
    {
     "name": "stderr",
     "output_type": "stream",
     "text": [
      "INFO:solanaweb3.rpc.httprpc.HTTPClient:Transaction sent to https://api.mainnet-beta.solana.com. Signature 4nEvyY5PMJ6w9oB6tjCP4aYPcPinub4pbdXtkG5UYNH8Ht92HpY6xsNRrP5KEYXAwAXYKyyb2zJUYoxAEWLvFCiF: \n",
      "INFO:zetamarkets_py.client.Client:Replacing SOL orders: 0.001x Bid @ $19.083565891003577, 0.001x Ask @ $19.1026590034508\n",
      "INFO:solanaweb3.rpc.httprpc.HTTPClient:Transaction sent to https://api.mainnet-beta.solana.com. Signature 37ZEMUoSMrDgykhtzmuAHkhuBriH1XmhVBigWwzjLYgf8h7HnkRjnK61nVAVPUvGBNon4WXnMy5E7YEPv2CaR1W7: \n"
     ]
    },
    {
     "name": "stdout",
     "output_type": "stream",
     "text": [
      "NBBO price: 19.083570661896243\n",
      "Internal price: 19.09311244722719\n",
      "Requoting: 19.083565891003577 @ 19.1026590034508\n"
     ]
    },
    {
     "name": "stderr",
     "output_type": "stream",
     "text": [
      "INFO:zetamarkets_py.client.Client:Replacing SOL orders: 0.001x Bid @ $19.081082186249997, 0.001x Ask @ $19.100172813749996\n",
      "INFO:solanaweb3.rpc.httprpc.HTTPClient:Transaction sent to https://api.mainnet-beta.solana.com. Signature 5rxDyDFw83tWZzRyhYM4QrtasnRi16ezPf4iDK7uiWTB1Y4XP2acvvq46DGxnuTFHmLcM8DfGD5yBJAScHLSGKnA: \n"
     ]
    },
    {
     "name": "stdout",
     "output_type": "stream",
     "text": [
      "NBBO price: 19.081086956521737\n",
      "Internal price: 19.090627499999997\n",
      "Requoting: 19.081082186249997 @ 19.100172813749996\n"
     ]
    },
    {
     "name": "stderr",
     "output_type": "stream",
     "text": [
      "INFO:zetamarkets_py.client.Client:Replacing SOL orders: 0.001x Bid @ $19.078446843290322, 0.001x Ask @ $19.09753483412903\n"
     ]
    },
    {
     "name": "stdout",
     "output_type": "stream",
     "text": [
      "NBBO price: 19.078451612903226\n",
      "Internal price: 19.087990838709676\n",
      "Requoting: 19.078446843290322 @ 19.09753483412903\n"
     ]
    },
    {
     "name": "stderr",
     "output_type": "stream",
     "text": [
      "INFO:solanaweb3.rpc.httprpc.HTTPClient:Transaction sent to https://api.mainnet-beta.solana.com. Signature 5GZSF31Tp75QU5Ub5p81CjRZmkwQV6Yma5MtQyax6d9MxWfXPozKAEs93LLx1XogozFbURG7sepbvSe1hqdZu96e: \n",
      "INFO:zetamarkets_py.client.Client:Replacing SOL orders: 0.001x Bid @ $19.08183514491379, 0.001x Ask @ $19.100926525749117\n",
      "INFO:solanaweb3.rpc.httprpc.HTTPClient:Transaction sent to https://api.mainnet-beta.solana.com. Signature 3LjCoRiE9jELmuVjFwcF2gjk5K2SvxzRogPN9yhYFVnDbuWPGirLXCgtfkbxausso7QfMhW1uou92h9ZjA7ruPfb: \n"
     ]
    },
    {
     "name": "stdout",
     "output_type": "stream",
     "text": [
      "NBBO price: 19.081839915373767\n",
      "Internal price: 19.091380835331453\n",
      "Requoting: 19.08183514491379 @ 19.100926525749117\n"
     ]
    },
    {
     "name": "stderr",
     "output_type": "stream",
     "text": [
      "INFO:zetamarkets_py.client.Client:Replacing SOL orders: 0.001x Bid @ $19.078117554628438, 0.001x Ask @ $19.09720521601376\n",
      "INFO:solanaweb3.rpc.httprpc.HTTPClient:Transaction sent to https://api.mainnet-beta.solana.com. Signature 55sTbrYwt54HsazYT2bLXT9nMz2KCqDo1xitm9QzEWBaXp3ssQg4xtFz18YY4fUyudVA3QjDFhMJMBAbMAN9ThR6: \n"
     ]
    },
    {
     "name": "stdout",
     "output_type": "stream",
     "text": [
      "NBBO price: 19.07812232415902\n",
      "Internal price: 19.0876613853211\n",
      "Requoting: 19.078117554628438 @ 19.09720521601376\n"
     ]
    },
    {
     "name": "stderr",
     "output_type": "stream",
     "text": [
      "INFO:zetamarkets_py.client.Client:Replacing SOL orders: 0.001x Bid @ $19.0753791392, 0.001x Ask @ $19.094464060799996\n",
      "INFO:solanaweb3.rpc.httprpc.HTTPClient:Transaction sent to https://api.mainnet-beta.solana.com. Signature 4i7EqBgrcqzTwm1u6hfW118nhagDGRLVLeUKkpCfBkAEMw98zskYN3SBXGCynTciZ5JMbcqXeu34MoH1H1zPtCaE: \n"
     ]
    },
    {
     "name": "stdout",
     "output_type": "stream",
     "text": [
      "NBBO price: 19.075383908045975\n",
      "Internal price: 19.084921599999998\n",
      "Requoting: 19.0753791392 @ 19.094464060799996\n"
     ]
    },
    {
     "name": "stderr",
     "output_type": "stream",
     "text": [
      "INFO:zetamarkets_py.client.Client:Replacing SOL orders: 0.001x Bid @ $19.07122978275316, 0.001x Ask @ $19.090310552920993\n",
      "INFO:solanaweb3.rpc.httprpc.HTTPClient:Transaction sent to https://api.mainnet-beta.solana.com. Signature wgpwrWfYxPeovi4tanopXkDfTLrhZE2vGV8c7oGaDqZvrMErvbB8oyjNxqT2sAPXteSf3ZGbq4U13ejKGQjRvzj: \n"
     ]
    },
    {
     "name": "stdout",
     "output_type": "stream",
     "text": [
      "NBBO price: 19.071234550561798\n",
      "Internal price: 19.080770167837077\n",
      "Requoting: 19.07122978275316 @ 19.090310552920993\n"
     ]
    },
    {
     "name": "stderr",
     "output_type": "stream",
     "text": [
      "INFO:zetamarkets_py.client.Client:Replacing SOL orders: 0.001x Bid @ $19.074217453666666, 0.001x Ask @ $19.093301213\n"
     ]
    },
    {
     "name": "stdout",
     "output_type": "stream",
     "text": [
      "NBBO price: 19.07422222222222\n",
      "Internal price: 19.083759333333333\n",
      "Requoting: 19.074217453666666 @ 19.093301213\n"
     ]
    },
    {
     "name": "stderr",
     "output_type": "stream",
     "text": [
      "INFO:solanaweb3.rpc.httprpc.HTTPClient:Transaction sent to https://api.mainnet-beta.solana.com. Signature 2BpBD1XmBA38uqcdpfJ4uugzVjZNpQ2S28wY8Nz5wGWex4PW88D6atpXzdVfAF4hU1wJNTUf3qmsDSmDi4C2XVQ6: \n",
      "INFO:zetamarkets_py.client.Client:Replacing SOL orders: 0.001x Bid @ $19.076947120796397, 0.001x Ask @ $19.096033611162376\n"
     ]
    },
    {
     "name": "stdout",
     "output_type": "stream",
     "text": [
      "NBBO price: 19.07695189003437\n",
      "Internal price: 19.086490365979387\n",
      "Requoting: 19.076947120796397 @ 19.096033611162376\n"
     ]
    },
    {
     "name": "stderr",
     "output_type": "stream",
     "text": [
      "INFO:solanaweb3.rpc.httprpc.HTTPClient:Transaction sent to https://api.mainnet-beta.solana.com. Signature 3xRY77VduGa99LkA9v5Uabo6ceXQS8WNtoE6vEiYmqnRjXrY4ERspxtn96ZRkV7BLU5xRByHWu1BuSgmSbd7gkEH: \n",
      "INFO:zetamarkets_py.client.Client:Replacing SOL orders: 0.001x Bid @ $19.07995519921709, 0.001x Ask @ $19.099044699166278\n",
      "INFO:solanaweb3.rpc.httprpc.HTTPClient:Transaction sent to https://api.mainnet-beta.solana.com. Signature 5rJpmi5mQKAsbJaW79Y91XUVBFUkEPZxveDCqFQef4mNQdPeCpPWtQNY1L7HDAiTgoqkfCqYZCsZzvSd2pWRtrZC: \n"
     ]
    },
    {
     "name": "stdout",
     "output_type": "stream",
     "text": [
      "NBBO price: 19.07995996920708\n",
      "Internal price: 19.089499949191683\n",
      "Requoting: 19.07995519921709 @ 19.099044699166278\n"
     ]
    },
    {
     "name": "stderr",
     "output_type": "stream",
     "text": [
      "INFO:zetamarkets_py.client.Client:Replacing SOL orders: 0.001x Bid @ $19.083534840475334, 0.001x Ask @ $19.1026279218565\n"
     ]
    },
    {
     "name": "stdout",
     "output_type": "stream",
     "text": [
      "NBBO price: 19.083539611360237\n",
      "Internal price: 19.093081381165916\n",
      "Requoting: 19.083534840475334 @ 19.1026279218565\n"
     ]
    },
    {
     "name": "stderr",
     "output_type": "stream",
     "text": [
      "INFO:solanaweb3.rpc.httprpc.HTTPClient:Transaction sent to https://api.mainnet-beta.solana.com. Signature dKgWxpiwJibFLxb6HytX4QfijUVdi4r612TwhNvEHWPU9KcfQhZtrpRqgkcq9qtm47RoVXPzi3f42oKT2birL8M: \n",
      "INFO:zetamarkets_py.client.Client:Replacing SOL orders: 0.001x Bid @ $19.080500272542476, 0.001x Ask @ $19.099590317837663\n",
      "INFO:solanaweb3.rpc.httprpc.HTTPClient:Transaction sent to https://api.mainnet-beta.solana.com. Signature 2dZSrWdSMKYNYyQB1EZaw9foR2dAjxqjfKs8eiwkrYYKtvA2NJY32WbWRfxunq6KbnDzEepLMfEhz9zQxRVtCmkw: \n"
     ]
    },
    {
     "name": "stdout",
     "output_type": "stream",
     "text": [
      "NBBO price: 19.080505042668737\n",
      "Internal price: 19.09004529519007\n",
      "Requoting: 19.080500272542476 @ 19.099590317837663\n"
     ]
    },
    {
     "name": "stderr",
     "output_type": "stream",
     "text": [
      "INFO:zetamarkets_py.client.Client:Replacing SOL orders: 0.001x Bid @ $19.084505709760172, 0.001x Ask @ $19.1035997624963\n"
     ]
    },
    {
     "name": "stdout",
     "output_type": "stream",
     "text": [
      "NBBO price: 19.084510480887793\n",
      "Internal price: 19.094052736128237\n",
      "Requoting: 19.084505709760172 @ 19.1035997624963\n"
     ]
    },
    {
     "name": "stderr",
     "output_type": "stream",
     "text": [
      "INFO:solanaweb3.rpc.httprpc.HTTPClient:Transaction sent to https://api.mainnet-beta.solana.com. Signature ioHLhFbdRAJ2MzsZ1faochVQgPyXRfPVZ7ecNrhi6igrKv4cT4BjpokgaUwUT3Epw1LYHnAXwgemMj7XrqXuUv2: \n",
      "INFO:zetamarkets_py.client.Client:Replacing SOL orders: 0.001x Bid @ $19.082106956888868, 0.001x Ask @ $19.10119860967215\n",
      "INFO:solanaweb3.rpc.httprpc.HTTPClient:Transaction sent to https://api.mainnet-beta.solana.com. Signature 584CPkKjmS6eiqNy51MWZtLmykVbQYCY6TDSXbHy6AKsat3uPNgBZ32q6BabcFZBM8r9oCRYhMKfYh5orYnzyU7w: \n"
     ]
    },
    {
     "name": "stdout",
     "output_type": "stream",
     "text": [
      "NBBO price: 19.0821117274168\n",
      "Internal price: 19.09165278328051\n",
      "Requoting: 19.082106956888868 @ 19.10119860967215\n"
     ]
    },
    {
     "name": "stderr",
     "output_type": "stream",
     "text": [
      "INFO:zetamarkets_py.client.Client:Replacing SOL orders: 0.001x Bid @ $19.084953442016932, 0.001x Ask @ $19.104047942709293\n",
      "INFO:solanaweb3.rpc.httprpc.HTTPClient:Transaction sent to https://api.mainnet-beta.solana.com. Signature 4nedfF5jmnp56gb9mCQFv9HCPHPu9ncVUhRHizAD5nC2aWhVUBPgHbjf7utMxss3T2fH28QinviFN2S1qnn5bW5a: \n"
     ]
    },
    {
     "name": "stdout",
     "output_type": "stream",
     "text": [
      "NBBO price: 19.084958213256485\n",
      "Internal price: 19.094500692363113\n",
      "Requoting: 19.084953442016932 @ 19.104047942709293\n"
     ]
    },
    {
     "name": "stderr",
     "output_type": "stream",
     "text": [
      "INFO:zetamarkets_py.client.Client:Replacing SOL orders: 0.001x Bid @ $19.080164061126627, 0.001x Ask @ $19.099253770042207\n"
     ]
    },
    {
     "name": "stdout",
     "output_type": "stream",
     "text": [
      "NBBO price: 19.080168831168834\n",
      "Internal price: 19.089708915584417\n",
      "Requoting: 19.080164061126627 @ 19.099253770042207\n"
     ]
    },
    {
     "name": "stderr",
     "output_type": "stream",
     "text": [
      "INFO:solanaweb3.rpc.httprpc.HTTPClient:Transaction sent to https://api.mainnet-beta.solana.com. Signature 3qJguUpVCidGxrCxcCCmp1fZ6om9ha6j9sVtj91ey48AeKUp3DCEEKmpKrAtJtHcUrGSmLysMYDEDEnEg7hjxZro: \n",
      "INFO:zetamarkets_py.client.Client:Replacing SOL orders: 0.001x Bid @ $19.077081437625004, 0.001x Ask @ $19.096168062375\n"
     ]
    },
    {
     "name": "stdout",
     "output_type": "stream",
     "text": [
      "NBBO price: 19.077086206896556\n",
      "Internal price: 19.086624750000002\n",
      "Requoting: 19.077081437625004 @ 19.096168062375\n"
     ]
    },
    {
     "name": "stderr",
     "output_type": "stream",
     "text": [
      "INFO:solanaweb3.rpc.httprpc.HTTPClient:Transaction sent to https://api.mainnet-beta.solana.com. Signature 4mZYDqrfx21ShmuMVshBcefjfTXkQ8Wem6scYSXL5v4wdMy482fhqkzaEmpnwpe2svxchf8x9SZMexv2gn9zuAiB: \n",
      "INFO:zetamarkets_py.client.Client:Replacing SOL orders: 0.001x Bid @ $19.074532711429423, 0.001x Ask @ $19.093616786178227\n",
      "INFO:solanaweb3.rpc.httprpc.HTTPClient:Transaction sent to https://api.mainnet-beta.solana.com. Signature 8MttdCVDNsezCnE94YxN3QBJyKtycKYnJgYYQkTRkFmsom9KB8VLq1kRkoCaQbywxyznQABYabgNrZuRpqgJYNK: \n"
     ]
    },
    {
     "name": "stdout",
     "output_type": "stream",
     "text": [
      "NBBO price: 19.074537480063796\n",
      "Internal price: 19.084074748803825\n",
      "Requoting: 19.074532711429423 @ 19.093616786178227\n"
     ]
    },
    {
     "name": "stderr",
     "output_type": "stream",
     "text": [
      "INFO:zetamarkets_py.client.Client:Replacing SOL orders: 0.001x Bid @ $19.076949776215912, 0.001x Ask @ $19.09603626923864\n"
     ]
    },
    {
     "name": "stdout",
     "output_type": "stream",
     "text": [
      "NBBO price: 19.076954545454548\n",
      "Internal price: 19.086493022727275\n",
      "Requoting: 19.076949776215912 @ 19.09603626923864\n"
     ]
    },
    {
     "name": "stderr",
     "output_type": "stream",
     "text": [
      "INFO:solanaweb3.rpc.httprpc.HTTPClient:Transaction sent to https://api.mainnet-beta.solana.com. Signature 5U4N83BskdjW4M7pfxTPdoMhQcT7K5y1U7p7BgrPQFFPuCquoyssWSzpMAXdwtMTp2sM2Mt1XMEoJEsf6WrsSK5o: \n",
      "INFO:zetamarkets_py.client.Client:Replacing SOL orders: 0.001x Bid @ $19.079798249459735, 0.001x Ask @ $19.098887592380656\n"
     ]
    },
    {
     "name": "stdout",
     "output_type": "stream",
     "text": [
      "NBBO price: 19.07980301941049\n",
      "Internal price: 19.089342920920195\n",
      "Requoting: 19.079798249459735 @ 19.098887592380656\n"
     ]
    },
    {
     "name": "stderr",
     "output_type": "stream",
     "text": [
      "INFO:solanaweb3.rpc.httprpc.HTTPClient:Transaction sent to https://api.mainnet-beta.solana.com. Signature 5rZzxAjc73nFWjyuZiiss9v9iHx5aSeYRtJSL4PmkyiSWbV3ioKgMNRPfAXCUkmaYZuPp1Tn3HKXSNy4xJb5xE6z: \n",
      "INFO:zetamarkets_py.client.Client:Replacing SOL orders: 0.001x Bid @ $19.077364196174997, 0.001x Ask @ $19.096451103824997\n"
     ]
    },
    {
     "name": "stdout",
     "output_type": "stream",
     "text": [
      "NBBO price: 19.07736896551724\n",
      "Internal price: 19.086907649999997\n",
      "Requoting: 19.077364196174997 @ 19.096451103824997\n"
     ]
    },
    {
     "name": "stderr",
     "output_type": "stream",
     "text": [
      "INFO:solanaweb3.rpc.httprpc.HTTPClient:Transaction sent to https://api.mainnet-beta.solana.com. Signature 638nmYEzeAS1nQy9RdpaJf1o56qewunLmoheCJav2jzQqtsfCRYAzwjok1z936iA12S3XhqEwhHojEmGbQ3egKmU: \n",
      "INFO:zetamarkets_py.client.Client:Replacing SOL orders: 0.001x Bid @ $19.074044097107333, 0.001x Ask @ $19.093127682997384\n"
     ]
    },
    {
     "name": "stdout",
     "output_type": "stream",
     "text": [
      "NBBO price: 19.07404886561955\n",
      "Internal price: 19.08358589005236\n",
      "Requoting: 19.074044097107333 @ 19.093127682997384\n"
     ]
    },
    {
     "name": "stderr",
     "output_type": "stream",
     "text": [
      "INFO:solanaweb3.rpc.httprpc.HTTPClient:Transaction sent to https://api.mainnet-beta.solana.com. Signature 4Ce8vduSdrYghUARQ5ASLyoT37xypVxH2dBedeebUKm2NqH5Q3UdUEmVWP2Ha8QCz9KhE7AzjF4N6Ehk4WHgkJSR: \n",
      "INFO:zetamarkets_py.client.Client:Replacing SOL orders: 0.001x Bid @ $19.070155232460003, 0.001x Ask @ $19.089234927539998\n",
      "INFO:solanaweb3.rpc.httprpc.HTTPClient:Transaction sent to https://api.mainnet-beta.solana.com. Signature 49P7s7zVdByhEAs1vvW4CmV5iCpXi2oXcQ8gdQyoRAqGGdgkYfSd3NcSquRb1JJnkg3X5C9kfy4TxiiCYdhDFsRd: \n"
     ]
    },
    {
     "name": "stdout",
     "output_type": "stream",
     "text": [
      "NBBO price: 19.07016\n",
      "Internal price: 19.07969508\n",
      "Requoting: 19.070155232460003 @ 19.089234927539998\n"
     ]
    },
    {
     "name": "stderr",
     "output_type": "stream",
     "text": [
      "INFO:zetamarkets_py.client.Client:Replacing SOL orders: 0.001x Bid @ $19.067760923435145, 0.001x Ask @ $19.086838223008364\n",
      "INFO:solanaweb3.rpc.httprpc.HTTPClient:Transaction sent to https://api.mainnet-beta.solana.com. Signature 5BvAt6qCskFuia7E1pdmvybeagEt2wNeCRP9Cv9B6a1yqrZ4mkuTgxy6DV5EVwXAiGgJcLfDxUcTYNoBJ5ojfXgj: \n"
     ]
    },
    {
     "name": "stdout",
     "output_type": "stream",
     "text": [
      "NBBO price: 19.067765690376568\n",
      "Internal price: 19.077299573221755\n",
      "Requoting: 19.067760923435145 @ 19.086838223008364\n"
     ]
    },
    {
     "name": "stderr",
     "output_type": "stream",
     "text": [
      "INFO:zetamarkets_py.client.Client:Replacing SOL orders: 0.001x Bid @ $19.065364603027028, 0.001x Ask @ $19.08443950508108\n",
      "INFO:solanaweb3.rpc.httprpc.HTTPClient:Transaction sent to https://api.mainnet-beta.solana.com. Signature LZq62zbmYhbsDdu2cYqiVqNkRUg3uCYcr28ruZsY9hEEsXn7sFagFyFpedmfY3Vgn4TsA31P1itYRdY91udYTyJ: \n"
     ]
    },
    {
     "name": "stdout",
     "output_type": "stream",
     "text": [
      "NBBO price: 19.06536936936937\n",
      "Internal price: 19.074902054054053\n",
      "Requoting: 19.065364603027028 @ 19.08443950508108\n"
     ]
    },
    {
     "name": "stderr",
     "output_type": "stream",
     "text": [
      "INFO:zetamarkets_py.client.Client:Replacing SOL orders: 0.001x Bid @ $19.06776472458305, 0.001x Ask @ $19.08684202795932\n"
     ]
    },
    {
     "name": "stdout",
     "output_type": "stream",
     "text": [
      "NBBO price: 19.067769491525425\n",
      "Internal price: 19.077303376271185\n",
      "Requoting: 19.06776472458305 @ 19.08684202795932\n"
     ]
    },
    {
     "name": "stderr",
     "output_type": "stream",
     "text": [
      "INFO:solanaweb3.rpc.httprpc.HTTPClient:Transaction sent to https://api.mainnet-beta.solana.com. Signature 5HEWtfLCZbydJQQYgMSUBQtJWbZDDNNUYMBp9BkuzmzXXDS6SuDo96na8tcAMxs7e6LgXmyzqhXgTEy8oqQ6xcpp: \n",
      "INFO:zetamarkets_py.client.Client:Replacing SOL orders: 0.001x Bid @ $19.062678082225727, 0.001x Ask @ $19.08175029641505\n",
      "INFO:solanaweb3.rpc.httprpc.HTTPClient:Transaction sent to https://api.mainnet-beta.solana.com. Signature 21S1vou76X7do53dBV5gKf2JoPVEJTZ6dbNVbPdYG8MRiZmgJ2SctLAST8eeuqYQv44MNEHmCg12nBQA6MLrvc7E: \n"
     ]
    },
    {
     "name": "stdout",
     "output_type": "stream",
     "text": [
      "NBBO price: 19.06268284789644\n",
      "Internal price: 19.072214189320388\n",
      "Requoting: 19.062678082225727 @ 19.08175029641505\n"
     ]
    },
    {
     "name": "stderr",
     "output_type": "stream",
     "text": [
      "INFO:zetamarkets_py.client.Client:Replacing SOL orders: 0.001x Bid @ $19.05977938139543, 0.001x Ask @ $19.07884869543384\n",
      "INFO:solanaweb3.rpc.httprpc.HTTPClient:Transaction sent to https://api.mainnet-beta.solana.com. Signature 45siaZv5iWEoX2ceAFTTD92HJd3QhdXqAttGX4Cp5KhmF23PA9qMUWFsLr6G86Nu62xnwSPcvmv4bYLhbgdhcJR3: \n"
     ]
    },
    {
     "name": "stdout",
     "output_type": "stream",
     "text": [
      "NBBO price: 19.059784146341464\n",
      "Internal price: 19.069314038414635\n",
      "Requoting: 19.05977938139543 @ 19.07884869543384\n"
     ]
    },
    {
     "name": "stderr",
     "output_type": "stream",
     "text": [
      "INFO:zetamarkets_py.client.Client:Replacing SOL orders: 0.001x Bid @ $19.057131038185187, 0.001x Ask @ $19.076197702555557\n"
     ]
    },
    {
     "name": "stdout",
     "output_type": "stream",
     "text": [
      "NBBO price: 19.057135802469137\n",
      "Internal price: 19.066664370370372\n",
      "Requoting: 19.057131038185187 @ 19.076197702555557\n"
     ]
    },
    {
     "name": "stderr",
     "output_type": "stream",
     "text": [
      "INFO:solanaweb3.rpc.httprpc.HTTPClient:Transaction sent to https://api.mainnet-beta.solana.com. Signature 8KViMd6tnqg3jCVzMeY8bWaR8sX39SeKypiSAskrhcNJrBCabDvmoZJ9K331vDQ4jfPs6Cn81f5rbyckqtghXyB: \n",
      "INFO:zetamarkets_py.client.Client:Replacing SOL orders: 0.001x Bid @ $19.05446928967742, 0.001x Ask @ $19.073533290967738\n",
      "INFO:solanaweb3.rpc.httprpc.HTTPClient:Transaction sent to https://api.mainnet-beta.solana.com. Signature 3bvdjteCDFfzrrUz2H5ePjKDkrWNXXZBdxzhgqsMr5JeU9eroN7RhEqMxgy4x8vJrfhTom8ZREkEBWLH4bus9jnD: \n"
     ]
    },
    {
     "name": "stdout",
     "output_type": "stream",
     "text": [
      "NBBO price: 19.054474053295934\n",
      "Internal price: 19.06400129032258\n",
      "Requoting: 19.05446928967742 @ 19.073533290967738\n"
     ]
    },
    {
     "name": "stderr",
     "output_type": "stream",
     "text": [
      "INFO:zetamarkets_py.client.Client:Replacing SOL orders: 0.001x Bid @ $19.050846209209503, 0.001x Ask @ $19.06990658560691\n",
      "INFO:solanaweb3.rpc.httprpc.HTTPClient:Transaction sent to https://api.mainnet-beta.solana.com. Signature 5vL1FcW7UJbAs5hJVk51vh2TX2BctwfU22nWdky8BiqL1EdJsAkvbbHYS3PeLC9mbhpHmZXnxCnk5ZEKkEGLGm6E: \n"
     ]
    },
    {
     "name": "stdout",
     "output_type": "stream",
     "text": [
      "NBBO price: 19.050850971922245\n",
      "Internal price: 19.060376397408206\n",
      "Requoting: 19.050846209209503 @ 19.06990658560691\n"
     ]
    },
    {
     "name": "stderr",
     "output_type": "stream",
     "text": [
      "INFO:zetamarkets_py.client.Client:Replacing SOL orders: 0.001x Bid @ $19.048338723531725, 0.001x Ask @ $19.067396591189084\n",
      "INFO:solanaweb3.rpc.httprpc.HTTPClient:Transaction sent to https://api.mainnet-beta.solana.com. Signature 4KEavvcPG3mZctXany7UNPs5Na5csxSX7redZkZPYPu2a366MBPnH9VDCr5Bdvm5Rg2N6u2rhcxCy9XMJJTGRtPj: \n"
     ]
    },
    {
     "name": "stdout",
     "output_type": "stream",
     "text": [
      "NBBO price: 19.048343485617597\n",
      "Internal price: 19.057867657360404\n",
      "Requoting: 19.048338723531725 @ 19.067396591189084\n"
     ]
    },
    {
     "name": "stderr",
     "output_type": "stream",
     "text": [
      "INFO:zetamarkets_py.client.Client:Replacing SOL orders: 0.001x Bid @ $19.051881955778324, 0.001x Ask @ $19.070943368440428\n",
      "INFO:solanaweb3.rpc.httprpc.HTTPClient:Transaction sent to https://api.mainnet-beta.solana.com. Signature 3rNgNJMhyXivxQABFoZB4R7aHJJGTpcpaLgZv5DHjrJR1SD5jrxrBgcrXHcAhS18HZ5X6XCGDv88fEYkYM1pB6dt: \n"
     ]
    },
    {
     "name": "stdout",
     "output_type": "stream",
     "text": [
      "NBBO price: 19.05188671875\n",
      "Internal price: 19.061412662109376\n",
      "Requoting: 19.051881955778324 @ 19.070943368440428\n"
     ]
    },
    {
     "name": "stderr",
     "output_type": "stream",
     "text": [
      "INFO:zetamarkets_py.client.Client:Replacing SOL orders: 0.001x Bid @ $19.0547052363225, 0.001x Ask @ $19.073769473677498\n"
     ]
    },
    {
     "name": "stdout",
     "output_type": "stream",
     "text": [
      "NBBO price: 19.05471\n",
      "Internal price: 19.064237355\n",
      "Requoting: 19.0547052363225 @ 19.073769473677498\n"
     ]
    },
    {
     "name": "stderr",
     "output_type": "stream",
     "text": [
      "INFO:solanaweb3.rpc.httprpc.HTTPClient:Transaction sent to https://api.mainnet-beta.solana.com. Signature 2CnBZh6NSS6YRzgLDVTEyRERKtdbeazuYd5jz3G9YqWYDqvrPcNy4tR75B6DUi2re9xMcUv9tFkGotovK7SDYpjp: \n",
      "INFO:zetamarkets_py.client.Client:Replacing SOL orders: 0.001x Bid @ $19.058639106985535, 0.001x Ask @ $19.077707280179116\n"
     ]
    },
    {
     "name": "stdout",
     "output_type": "stream",
     "text": [
      "NBBO price: 19.058643871646503\n",
      "Internal price: 19.068173193582325\n",
      "Requoting: 19.058639106985535 @ 19.077707280179116\n"
     ]
    },
    {
     "name": "stderr",
     "output_type": "stream",
     "text": [
      "INFO:solanaweb3.rpc.httprpc.HTTPClient:Transaction sent to https://api.mainnet-beta.solana.com. Signature 2K9d9y2hHyAub8CeqebXGortr9Ur2Qsc6Ez9iMGu5CF5HdFvYLWvh8Z1NTnoVJmK5Nhk32kMVEEHQQbSvQ7MmhUc: \n",
      "INFO:zetamarkets_py.client.Client:Replacing SOL orders: 0.001x Bid @ $19.063764051262098, 0.001x Ask @ $19.08283735196371\n"
     ]
    },
    {
     "name": "stdout",
     "output_type": "stream",
     "text": [
      "NBBO price: 19.063768817204302\n",
      "Internal price: 19.073300701612904\n",
      "Requoting: 19.063764051262098 @ 19.08283735196371\n"
     ]
    },
    {
     "name": "stderr",
     "output_type": "stream",
     "text": [
      "INFO:solanaweb3.rpc.httprpc.HTTPClient:Transaction sent to https://api.mainnet-beta.solana.com. Signature 3kyfp2Zcwj8RPfxoXqwg1rMpnAyYEsoZ1NXfP1RphJRqUXD1vD1H9FrKQ8T2krBR8VtyeGkfMWWQ2Dx7iY85WAL7: \n",
      "INFO:zetamarkets_py.client.Client:Replacing SOL orders: 0.001x Bid @ $19.060562377715357, 0.001x Ask @ $19.079632475141786\n"
     ]
    },
    {
     "name": "stdout",
     "output_type": "stream",
     "text": [
      "NBBO price: 19.060567142857142\n",
      "Internal price: 19.07009742642857\n",
      "Requoting: 19.060562377715357 @ 19.079632475141786\n"
     ]
    },
    {
     "name": "stderr",
     "output_type": "stream",
     "text": [
      "INFO:solanaweb3.rpc.httprpc.HTTPClient:Transaction sent to https://api.mainnet-beta.solana.com. Signature 62ZPTgnrk9bgSyTPfQSYigChN8bp4eXWLM5M7v8Sk39Ab6NsJZte6V8x6ZMnxT4w49GUCwRSmCufGxm9pb3jwNu4: \n",
      "INFO:zetamarkets_py.client.Client:Replacing SOL orders: 0.001x Bid @ $19.058069404279408, 0.001x Ask @ $19.07713700748529\n",
      "INFO:solanaweb3.rpc.httprpc.HTTPClient:Transaction sent to https://api.mainnet-beta.solana.com. Signature 2EiN5zHUE6UNYiNbzLeG6GXgrgiwuFSevMoiHtWx451QUk3bANqnnKKJB29XUxcaZtxs8aSaShga2V3rBU9Fhfx: \n"
     ]
    },
    {
     "name": "stdout",
     "output_type": "stream",
     "text": [
      "NBBO price: 19.05807416879795\n",
      "Internal price: 19.06760320588235\n",
      "Requoting: 19.058069404279408 @ 19.07713700748529\n"
     ]
    },
    {
     "name": "stderr",
     "output_type": "stream",
     "text": [
      "INFO:zetamarkets_py.client.Client:Replacing SOL orders: 0.001x Bid @ $19.060824646557354, 0.001x Ask @ $19.079895006383826\n"
     ]
    },
    {
     "name": "stdout",
     "output_type": "stream",
     "text": [
      "NBBO price: 19.060829411764708\n",
      "Internal price: 19.07035982647059\n",
      "Requoting: 19.060824646557354 @ 19.079895006383826\n"
     ]
    },
    {
     "name": "stderr",
     "output_type": "stream",
     "text": [
      "INFO:solanaweb3.rpc.httprpc.HTTPClient:Transaction sent to https://api.mainnet-beta.solana.com. Signature 3XpfH3dBTHv8VAXwzWWTfzfyFPRE5MAZAkN4c1rXnsH6nEzep1F7xYhotG6RJbRbMW1mLHMAoijuKNkgg1tLwz9m: \n",
      "INFO:zetamarkets_py.client.Client:Replacing SOL orders: 0.001x Bid @ $19.063395531768972, 0.001x Ask @ $19.08246846376674\n"
     ]
    },
    {
     "name": "stdout",
     "output_type": "stream",
     "text": [
      "NBBO price: 19.063400297619047\n",
      "Internal price: 19.072931997767856\n",
      "Requoting: 19.063395531768972 @ 19.08246846376674\n"
     ]
    },
    {
     "name": "stderr",
     "output_type": "stream",
     "text": [
      "INFO:solanaweb3.rpc.httprpc.HTTPClient:Transaction sent to https://api.mainnet-beta.solana.com. Signature 2hxjgeEQ3wCb217jyizAZaoFKELnpozNzqonBZcd891ircfZqAHDmdNwzyVnZMFWEVgKU7dfy4DxCAZHPaFvzP8e: \n",
      "INFO:zetamarkets_py.client.Client:Replacing SOL orders: 0.001x Bid @ $19.065987628939162, 0.001x Ask @ $19.085063154330797\n"
     ]
    },
    {
     "name": "stdout",
     "output_type": "stream",
     "text": [
      "NBBO price: 19.065992395437263\n",
      "Internal price: 19.07552539163498\n",
      "Requoting: 19.065987628939162 @ 19.085063154330797\n"
     ]
    },
    {
     "name": "stderr",
     "output_type": "stream",
     "text": [
      "INFO:solanaweb3.rpc.httprpc.HTTPClient:Transaction sent to https://api.mainnet-beta.solana.com. Signature 3EvUuoJ87qEnFAhGN61gRZGwDPT6UYEFu6NysboiWCWS6gJHh4zap6kEnossG2jNfPRGSvNT2crTWYCYwq2P5sVG: \n",
      "INFO:zetamarkets_py.client.Client:Replacing SOL orders: 0.001x Bid @ $19.069971995326323, 0.001x Ask @ $19.089051507077524\n",
      "INFO:solanaweb3.rpc.httprpc.HTTPClient:Transaction sent to https://api.mainnet-beta.solana.com. Signature 31gZZJXSgaSFCX5CMNbFxyBALrBReP9m84m2BezaJ5qYVCW7Hz4h1eSnGcUP6WfEMDWjQXbLEkFDNc7qfvU6bQTj: \n"
     ]
    },
    {
     "name": "stdout",
     "output_type": "stream",
     "text": [
      "NBBO price: 19.069976762820513\n",
      "Internal price: 19.079511751201924\n",
      "Requoting: 19.069971995326323 @ 19.089051507077524\n"
     ]
    },
    {
     "name": "stderr",
     "output_type": "stream",
     "text": [
      "INFO:zetamarkets_py.client.Client:Replacing SOL orders: 0.001x Bid @ $19.07301453676448, 0.001x Ask @ $19.09209709257915\n"
     ]
    },
    {
     "name": "stdout",
     "output_type": "stream",
     "text": [
      "NBBO price: 19.073019305019304\n",
      "Internal price: 19.082555814671814\n",
      "Requoting: 19.07301453676448 @ 19.09209709257915\n"
     ]
    },
    {
     "name": "stderr",
     "output_type": "stream",
     "text": [
      "INFO:solanaweb3.rpc.httprpc.HTTPClient:Transaction sent to https://api.mainnet-beta.solana.com. Signature ysZcgrG8tP9HsuZnYFjABB6CmMieBa1N8N4bduETRqFgSpZX5Yx88s1TWSpuwdC1gfWhm1AjUJhS3rtCiuiCXdf: \n",
      "INFO:zetamarkets_py.client.Client:Replacing SOL orders: 0.001x Bid @ $19.0759497025561, 0.001x Ask @ $19.09503519500488\n"
     ]
    },
    {
     "name": "stdout",
     "output_type": "stream",
     "text": [
      "NBBO price: 19.07595447154472\n",
      "Internal price: 19.08549244878049\n",
      "Requoting: 19.0759497025561 @ 19.09503519500488\n"
     ]
    },
    {
     "name": "stderr",
     "output_type": "stream",
     "text": [
      "INFO:solanaweb3.rpc.httprpc.HTTPClient:Transaction sent to https://api.mainnet-beta.solana.com. Signature 4PgDhZyVyYR43LPYFfTKFHkfysbXpx9iJrcxAU6apFhigVu96KBaN9z5ZQyJm4hHpYNF2LuaGCHiXsFgc2tRtmfb: \n",
      "INFO:zetamarkets_py.client.Client:Replacing SOL orders: 0.001x Bid @ $19.072234037910448, 0.001x Ask @ $19.091315812835816\n"
     ]
    },
    {
     "name": "stdout",
     "output_type": "stream",
     "text": [
      "NBBO price: 19.072238805970148\n",
      "Internal price: 19.081774925373132\n",
      "Requoting: 19.072234037910448 @ 19.091315812835816\n"
     ]
    },
    {
     "name": "stderr",
     "output_type": "stream",
     "text": [
      "INFO:solanaweb3.rpc.httprpc.HTTPClient:Transaction sent to https://api.mainnet-beta.solana.com. Signature 25ryUCcFx4pa55SvfVVeAm8ugAb7YV3FgpuB33JhhxVEK6hyiLQdrefnkj3iseKUsGGbPhknSRxNi8JK143dXgxe: \n",
      "INFO:zetamarkets_py.client.Client:Replacing SOL orders: 0.001x Bid @ $19.075839701084966, 0.001x Ask @ $19.094925083477243\n",
      "INFO:solanaweb3.rpc.httprpc.HTTPClient:Transaction sent to https://api.mainnet-beta.solana.com. Signature 5dtAmrpnX45yVgMcrEaMzKafRcgSqQjuy5ah9QYSwFLarjRoUhyf1fPef3wRHHsF2aAjuoJKduxSzBHda4r4qYYV: \n"
     ]
    },
    {
     "name": "stdout",
     "output_type": "stream",
     "text": [
      "NBBO price: 19.075844470046082\n",
      "Internal price: 19.085382392281105\n",
      "Requoting: 19.075839701084966 @ 19.094925083477243\n"
     ]
    },
    {
     "name": "stderr",
     "output_type": "stream",
     "text": [
      "INFO:zetamarkets_py.client.Client:Replacing SOL orders: 0.001x Bid @ $19.07337688845932, 0.001x Ask @ $19.09245980680695\n"
     ]
    },
    {
     "name": "stdout",
     "output_type": "stream",
     "text": [
      "NBBO price: 19.073381656804735\n",
      "Internal price: 19.082918347633136\n",
      "Requoting: 19.07337688845932 @ 19.09245980680695\n"
     ]
    },
    {
     "name": "stderr",
     "output_type": "stream",
     "text": [
      "INFO:solanaweb3.rpc.httprpc.HTTPClient:Transaction sent to https://api.mainnet-beta.solana.com. Signature 25ZaD7e5Tu39LWEHrz7cJf5Zq1cEzFa9RUD7KV5GxcCDALeVnSPqmgoN5smRrGPMpMwE7Q2H3q3hLK6e8Xyy6Sn5: \n",
      "INFO:zetamarkets_py.client.Client:Replacing SOL orders: 0.001x Bid @ $19.070961898925006, 0.001x Ask @ $19.090042401075003\n",
      "INFO:solanaweb3.rpc.httprpc.HTTPClient:Transaction sent to https://api.mainnet-beta.solana.com. Signature 66ahWyEU9xqxjn7eM92LgGbZixVn8gDUqDri77onZn4ZLN2VRm22EMcBTwe2gSjyaPeWMynPSxrWxNnwNdGK4rA: \n"
     ]
    },
    {
     "name": "stdout",
     "output_type": "stream",
     "text": [
      "NBBO price: 19.07096666666667\n",
      "Internal price: 19.080502150000004\n",
      "Requoting: 19.070961898925006 @ 19.090042401075003\n"
     ]
    },
    {
     "name": "stderr",
     "output_type": "stream",
     "text": [
      "INFO:zetamarkets_py.client.Client:Replacing SOL orders: 0.001x Bid @ $19.06777901683784, 0.001x Ask @ $19.086856334513513\n"
     ]
    },
    {
     "name": "stdout",
     "output_type": "stream",
     "text": [
      "NBBO price: 19.067783783783785\n",
      "Internal price: 19.077317675675676\n",
      "Requoting: 19.06777901683784 @ 19.086856334513513\n"
     ]
    },
    {
     "name": "stderr",
     "output_type": "stream",
     "text": [
      "INFO:solanaweb3.rpc.httprpc.HTTPClient:Transaction sent to https://api.mainnet-beta.solana.com. Signature 2iF4KELEGk7hSG4fq77i9mNKuYWtP6PEqcxnE98zu44npXnnXuXnPFq4oy77zoN2arscpkQPaPp52ti59157vdpb: \n",
      "INFO:zetamarkets_py.client.Client:Replacing SOL orders: 0.001x Bid @ $19.06428236264109, 0.001x Ask @ $19.083356181913363\n",
      "INFO:solanaweb3.rpc.httprpc.HTTPClient:Transaction sent to https://api.mainnet-beta.solana.com. Signature 5Ffzp8wS8uWj786QKUeEZi5XvzXPdcFXevnytRZmcdLkFzdBHDh6ZuZ3crx8ZS2p6FqpAi19HzQs38L7GcPnVGk3: \n"
     ]
    },
    {
     "name": "stdout",
     "output_type": "stream",
     "text": [
      "NBBO price: 19.06428712871287\n",
      "Internal price: 19.073819272277227\n",
      "Requoting: 19.06428236264109 @ 19.083356181913363\n"
     ]
    },
    {
     "name": "stderr",
     "output_type": "stream",
     "text": [
      "INFO:zetamarkets_py.client.Client:Replacing SOL orders: 0.001x Bid @ $19.06158964019581, 0.001x Ask @ $19.0806607653986\n",
      "INFO:solanaweb3.rpc.httprpc.HTTPClient:Transaction sent to https://api.mainnet-beta.solana.com. Signature 4mDYqNTPQED7vdRj7M1zcW53Ec8ELpMBskTfvcHhqS4FBfwiL6TSj4MZA4QQFNW8wGjryqp42wBoqTSX39cfi45L: \n"
     ]
    },
    {
     "name": "stdout",
     "output_type": "stream",
     "text": [
      "NBBO price: 19.06159440559441\n",
      "Internal price: 19.071125202797205\n",
      "Requoting: 19.06158964019581 @ 19.0806607653986\n"
     ]
    },
    {
     "name": "stderr",
     "output_type": "stream",
     "text": [
      "INFO:zetamarkets_py.client.Client:Replacing SOL orders: 0.001x Bid @ $19.058353941404615, 0.001x Ask @ $19.077421829289957\n"
     ]
    },
    {
     "name": "stdout",
     "output_type": "stream",
     "text": [
      "NBBO price: 19.05835870599429\n",
      "Internal price: 19.067887885347286\n",
      "Requoting: 19.058353941404615 @ 19.077421829289957\n"
     ]
    },
    {
     "name": "stderr",
     "output_type": "stream",
     "text": [
      "INFO:solanaweb3.rpc.httprpc.HTTPClient:Transaction sent to https://api.mainnet-beta.solana.com. Signature 4BwWTFcvUyWxWCVopARZJpLmUVdsoj1a9sKp8dSowKQSbC745ST5PQWPcSUESqNwMRjctLEEb4es65RsFdSepjuH: \n",
      "INFO:zetamarkets_py.client.Client:Replacing SOL orders: 0.001x Bid @ $19.061934496988076, 0.001x Ask @ $19.081005967220175\n"
     ]
    },
    {
     "name": "stdout",
     "output_type": "stream",
     "text": [
      "NBBO price: 19.06193926247289\n",
      "Internal price: 19.071470232104126\n",
      "Requoting: 19.061934496988076 @ 19.081005967220175\n"
     ]
    },
    {
     "name": "stderr",
     "output_type": "stream",
     "text": [
      "INFO:solanaweb3.rpc.httprpc.HTTPClient:Transaction sent to https://api.mainnet-beta.solana.com. Signature 2aynjjRwABZrRSkGdgaYvGBKZUCU57DVxVixfg5E7s6BPyK5LnEbMKWgGtEFsAzn7tVoyy7UfLiSp4s3og3pUbci: \n",
      "INFO:zetamarkets_py.client.Client:Replacing SOL orders: 0.001x Bid @ $19.058870423251125, 0.001x Ask @ $19.07793882787669\n",
      "INFO:solanaweb3.rpc.httprpc.HTTPClient:Transaction sent to https://api.mainnet-beta.solana.com. Signature 2Sz9CNjswdEqGcXaBYARwtDKzP48zWFX2BuCp7rVVJ4EWpdkx6y3GpnKXfsqdLhwNw4ncDthyaB6STCYXXbg3QKs: \n"
     ]
    },
    {
     "name": "stdout",
     "output_type": "stream",
     "text": [
      "NBBO price: 19.058875187969925\n",
      "Internal price: 19.068404625563907\n",
      "Requoting: 19.058870423251125 @ 19.07793882787669\n"
     ]
    },
    {
     "name": "stderr",
     "output_type": "stream",
     "text": [
      "INFO:zetamarkets_py.client.Client:Replacing SOL orders: 0.001x Bid @ $19.06175472823101, 0.001x Ask @ $19.080826018604427\n"
     ]
    },
    {
     "name": "stdout",
     "output_type": "stream",
     "text": [
      "NBBO price: 19.061759493670884\n",
      "Internal price: 19.071290373417717\n",
      "Requoting: 19.06175472823101 @ 19.080826018604427\n"
     ]
    },
    {
     "name": "stderr",
     "output_type": "stream",
     "text": [
      "INFO:solanaweb3.rpc.httprpc.HTTPClient:Transaction sent to https://api.mainnet-beta.solana.com. Signature 2WtnXeczgQW9taEr3jmKje23JMEGNU1SGcUrSthvVy2s3xnr3XpkYMg8LGpBb1LS2hxG9HRyb6MDKUY2aUkjzpu3: \n",
      "INFO:zetamarkets_py.client.Client:Replacing SOL orders: 0.001x Bid @ $19.059232043427606, 0.001x Ask @ $19.078300809854248\n"
     ]
    },
    {
     "name": "stdout",
     "output_type": "stream",
     "text": [
      "NBBO price: 19.05923680823681\n",
      "Internal price: 19.068766426640927\n",
      "Requoting: 19.059232043427606 @ 19.078300809854248\n"
     ]
    },
    {
     "name": "stderr",
     "output_type": "stream",
     "text": [
      "INFO:solanaweb3.rpc.httprpc.HTTPClient:Transaction sent to https://api.mainnet-beta.solana.com. Signature winHpEHjNmkcJ4pfiCmGoFMR966GkQM1TZJMDEuWL4wah8oqADWKHh1waQq6zwfnTfXM3AEY9va8UF9HGho8MLp: \n",
      "INFO:zetamarkets_py.client.Client:Replacing SOL orders: 0.001x Bid @ $19.061962429078335, 0.001x Ask @ $19.0810339272565\n",
      "INFO:solanaweb3.rpc.httprpc.HTTPClient:Transaction sent to https://api.mainnet-beta.solana.com. Signature 3GacyBZGSuLuKHFCJLDGXpZtqTy8CXwU1TUQAqcSNtG443XZeg1QaQ3wBR7QGhBPsFmanurZcX8GhEJaozuHn5WZ: \n"
     ]
    },
    {
     "name": "stdout",
     "output_type": "stream",
     "text": [
      "NBBO price: 19.061967194570133\n",
      "Internal price: 19.071498178167417\n",
      "Requoting: 19.061962429078335 @ 19.0810339272565\n"
     ]
    },
    {
     "name": "stderr",
     "output_type": "stream",
     "text": [
      "INFO:zetamarkets_py.client.Client:Replacing SOL orders: 0.001x Bid @ $19.058070170881788, 0.001x Ask @ $19.077137774854652\n",
      "INFO:solanaweb3.rpc.httprpc.HTTPClient:Transaction sent to https://api.mainnet-beta.solana.com. Signature 52hQvcqUe2SEpMHZAwhkm9YRaH8aNKF5GydixywDbRK1jWDUkkBwXpbb9BRvQ4hRfkqaZeHC68kK97SnUwxyrNLx: \n"
     ]
    },
    {
     "name": "stdout",
     "output_type": "stream",
     "text": [
      "NBBO price: 19.05807493540052\n",
      "Internal price: 19.06760397286822\n",
      "Requoting: 19.058070170881788 @ 19.077137774854652\n"
     ]
    },
    {
     "name": "stderr",
     "output_type": "stream",
     "text": [
      "INFO:zetamarkets_py.client.Client:Replacing SOL orders: 0.001x Bid @ $19.06197600373558, 0.001x Ask @ $19.081047515495193\n"
     ]
    },
    {
     "name": "stdout",
     "output_type": "stream",
     "text": [
      "NBBO price: 19.06198076923077\n",
      "Internal price: 19.071511759615387\n",
      "Requoting: 19.06197600373558 @ 19.081047515495193\n"
     ]
    },
    {
     "name": "stderr",
     "output_type": "stream",
     "text": [
      "INFO:solanaweb3.rpc.httprpc.HTTPClient:Transaction sent to https://api.mainnet-beta.solana.com. Signature 5726thbYRuzznCQpcDciFqRN5y9aU1HqArb3ZXz1kz8TDyA6dzyouodRvbGJpCzAuz2Ta5rxRRiVEkz2FYenMCWU: \n",
      "INFO:zetamarkets_py.client.Client:Replacing SOL orders: 0.001x Bid @ $19.055560809879097, 0.001x Ask @ $19.07462590323565\n",
      "INFO:solanaweb3.rpc.httprpc.HTTPClient:Transaction sent to https://api.mainnet-beta.solana.com. Signature 5iQpjNXFtbNb3vDJMycCtk1LyLGAqtaf9KuLu9r1VKmjxgqNXMx7VgLFvqieD6H5mUfwL6sq4psSs8U2b29mjZzB: \n"
     ]
    },
    {
     "name": "stdout",
     "output_type": "stream",
     "text": [
      "NBBO price: 19.05556557377049\n",
      "Internal price: 19.065093356557373\n",
      "Requoting: 19.055560809879097 @ 19.07462590323565\n"
     ]
    },
    {
     "name": "stderr",
     "output_type": "stream",
     "text": [
      "INFO:zetamarkets_py.client.Client:Replacing SOL orders: 0.001x Bid @ $19.057987273718553, 0.001x Ask @ $19.077054794752783\n",
      "INFO:solanaweb3.rpc.httprpc.HTTPClient:Transaction sent to https://api.mainnet-beta.solana.com. Signature 4wHZ5JdFexxPArXvkG5GnpakCWStwKSE2XMCT37rXXBuaucWcEKzBnFGACaagwvxL7sKXg6FLmce7kTWEZoXY7hb: \n"
     ]
    },
    {
     "name": "stdout",
     "output_type": "stream",
     "text": [
      "NBBO price: 19.05799203821656\n",
      "Internal price: 19.067521034235668\n",
      "Requoting: 19.057987273718553 @ 19.077054794752783\n"
     ]
    },
    {
     "name": "stderr",
     "output_type": "stream",
     "text": [
      "INFO:zetamarkets_py.client.Client:Replacing SOL orders: 0.001x Bid @ $19.055602805819227, 0.001x Ask @ $19.07466794119273\n",
      "INFO:solanaweb3.rpc.httprpc.HTTPClient:Transaction sent to https://api.mainnet-beta.solana.com. Signature 5qn98Q9mw6vv1QR3uT8bNtvvf3msnCvyASF7BvztxcEBQX4oitdFsvt5JptkyKA1rAMCMPftgSvPSkRr8jBv5A3f: \n"
     ]
    },
    {
     "name": "stdout",
     "output_type": "stream",
     "text": [
      "NBBO price: 19.05560756972112\n",
      "Internal price: 19.065135373505978\n",
      "Requoting: 19.055602805819227 @ 19.07466794119273\n"
     ]
    },
    {
     "name": "stderr",
     "output_type": "stream",
     "text": [
      "INFO:zetamarkets_py.client.Client:Replacing SOL orders: 0.001x Bid @ $19.058028568825, 0.001x Ask @ $19.077096131174997\n"
     ]
    },
    {
     "name": "stdout",
     "output_type": "stream",
     "text": [
      "NBBO price: 19.058033333333334\n",
      "Internal price: 19.06756235\n",
      "Requoting: 19.058028568825 @ 19.077096131174997\n"
     ]
    },
    {
     "name": "stderr",
     "output_type": "stream",
     "text": [
      "INFO:solanaweb3.rpc.httprpc.HTTPClient:Transaction sent to https://api.mainnet-beta.solana.com. Signature 5p5dQFnh7XKCWrT4YExYtgnkifRno5cxBs8v4RcPKBAymZ34ATq9ej8WzpGKFaHq2U5Tsn9XmyFkzWJqWX1BGgMJ: \n",
      "INFO:zetamarkets_py.client.Client:Replacing SOL orders: 0.001x Bid @ $19.061637039377764, 0.001x Ask @ $19.08070821200345\n"
     ]
    },
    {
     "name": "stdout",
     "output_type": "stream",
     "text": [
      "NBBO price: 19.061641804788213\n",
      "Internal price: 19.071172625690608\n",
      "Requoting: 19.061637039377764 @ 19.08070821200345\n"
     ]
    },
    {
     "name": "stderr",
     "output_type": "stream",
     "text": [
      "INFO:solanaweb3.rpc.httprpc.HTTPClient:Transaction sent to https://api.mainnet-beta.solana.com. Signature 5sFrcDQttgozkqJCnd1sxpDeeXcZWmSGMZtHVgqcvBRoMXr8PruKvJiGsgbqrGuH85NxTcqcSKo4nzko95WhXL1L: \n",
      "INFO:zetamarkets_py.client.Client:Replacing SOL orders: 0.001x Bid @ $19.06461930516642, 0.001x Ask @ $19.083693461549775\n",
      "INFO:solanaweb3.rpc.httprpc.HTTPClient:Transaction sent to https://api.mainnet-beta.solana.com. Signature 4qECYkwrqjMkPY8TX8uzS2nzPeUAyC7xd1qQuL55nq6sfhwgtMQd8ZkdktHMh9Gmy7mEDTTKmRHpLZPu4nNMqm1v: \n"
     ]
    },
    {
     "name": "stdout",
     "output_type": "stream",
     "text": [
      "NBBO price: 19.064624071322438\n",
      "Internal price: 19.074156383358098\n",
      "Requoting: 19.06461930516642 @ 19.083693461549775\n"
     ]
    },
    {
     "name": "stderr",
     "output_type": "stream",
     "text": [
      "INFO:zetamarkets_py.client.Client:Replacing SOL orders: 0.001x Bid @ $19.067009939128678, 0.001x Ask @ $19.086086487341912\n"
     ]
    },
    {
     "name": "stdout",
     "output_type": "stream",
     "text": [
      "NBBO price: 19.067014705882354\n",
      "Internal price: 19.076548213235295\n",
      "Requoting: 19.067009939128678 @ 19.086086487341912\n"
     ]
    },
    {
     "name": "stderr",
     "output_type": "stream",
     "text": [
      "INFO:solanaweb3.rpc.httprpc.HTTPClient:Transaction sent to https://api.mainnet-beta.solana.com. Signature 25LtVHZCeECFC2az6rwUd5UZeMmuHHyhZKTbzjjbeBYLp5Srnt8nM4TzGWDBWfJ74d5FqvYBA7SfXtV1ZXZvR6Wj: \n",
      "INFO:zetamarkets_py.client.Client:Replacing SOL orders: 0.001x Bid @ $19.07002087351923, 0.001x Ask @ $19.089100434173073\n",
      "INFO:solanaweb3.rpc.httprpc.HTTPClient:Transaction sent to https://api.mainnet-beta.solana.com. Signature 2mTSxVdK9spm2RgeEtpqdgieSB7j2k79jTCrrm2sPYbTQiZWCJ5rwsnnn6XqkuRvdkYF5Epz6SnZwad4VUYYic89: \n"
     ]
    },
    {
     "name": "stdout",
     "output_type": "stream",
     "text": [
      "NBBO price: 19.07002564102564\n",
      "Internal price: 19.07956065384615\n",
      "Requoting: 19.07002087351923 @ 19.089100434173073\n"
     ]
    },
    {
     "name": "stderr",
     "output_type": "stream",
     "text": [
      "INFO:zetamarkets_py.client.Client:Replacing SOL orders: 0.001x Bid @ $19.072783110590912, 0.001x Ask @ $19.091865434863635\n",
      "INFO:solanaweb3.rpc.httprpc.HTTPClient:Transaction sent to https://api.mainnet-beta.solana.com. Signature 2n6WZSc3xVDtbjt8n7Cr4hiPcm5H4wr18zM4XQkebXMZwa1MUGEdfNrAEhUodJKrWTgRjTRjEetfkbLd3vVtTEAp: \n"
     ]
    },
    {
     "name": "stdout",
     "output_type": "stream",
     "text": [
      "NBBO price: 19.07278787878788\n",
      "Internal price: 19.082324272727273\n",
      "Requoting: 19.072783110590912 @ 19.091865434863635\n"
     ]
    },
    {
     "name": "stderr",
     "output_type": "stream",
     "text": [
      "INFO:zetamarkets_py.client.Client:Replacing SOL orders: 0.001x Bid @ $19.076319335153503, 0.001x Ask @ $19.09540519741979\n",
      "INFO:solanaweb3.rpc.httprpc.HTTPClient:Transaction sent to https://api.mainnet-beta.solana.com. Signature 2ZxFw5GoLpn6hD5vP73WfY55abuMtJ52ykQj1ao16yFzEYaJgrVhnYYr6t9UVm8rPhZ371UHZbd5QH3fZacaAMxj: \n"
     ]
    },
    {
     "name": "stdout",
     "output_type": "stream",
     "text": [
      "NBBO price: 19.07632410423453\n",
      "Internal price: 19.085862266286647\n",
      "Requoting: 19.076319335153503 @ 19.09540519741979\n"
     ]
    },
    {
     "name": "stderr",
     "output_type": "stream",
     "text": [
      "INFO:zetamarkets_py.client.Client:Replacing SOL orders: 0.001x Bid @ $19.07993812637666, 0.001x Ask @ $19.099027609244466\n",
      "INFO:solanaweb3.rpc.httprpc.HTTPClient:Transaction sent to https://api.mainnet-beta.solana.com. Signature 4afNz9GFUw1gFaGtimnEi6dX8SeNoWbvgGZa9Lh4k9EjeJ97GNoWsMK5Hau8fmya8kZqvmgQ7pAzNQQxbNXyqHWw: \n"
     ]
    },
    {
     "name": "stdout",
     "output_type": "stream",
     "text": [
      "NBBO price: 19.079942896362382\n",
      "Internal price: 19.089482867810563\n",
      "Requoting: 19.07993812637666 @ 19.099027609244466\n"
     ]
    },
    {
     "name": "stderr",
     "output_type": "stream",
     "text": [
      "INFO:zetamarkets_py.client.Client:Replacing SOL orders: 0.001x Bid @ $19.08247737223661, 0.001x Ask @ $19.101569395620537\n",
      "INFO:zetamarkets_py.client.Client:Replacing SOL orders: 0.001x Bid @ $19.082447932089526, 0.001x Ask @ $19.101539926018578\n"
     ]
    },
    {
     "name": "stdout",
     "output_type": "stream",
     "text": [
      "NBBO price: 19.082482142857145\n",
      "Internal price: 19.092023383928574\n",
      "Requoting: 19.08247737223661 @ 19.101569395620537\n",
      "\n",
      "NBBO price: 19.082452702702703\n",
      "Internal price: 19.091993929054052\n",
      "Requoting: 19.082447932089526 @ 19.101539926018578\n"
     ]
    },
    {
     "name": "stderr",
     "output_type": "stream",
     "text": [
      "INFO:zetamarkets_py.client.Client:Replacing SOL orders: 0.001x Bid @ $19.083621735117468, 0.001x Ask @ $19.10271490343674\n"
     ]
    },
    {
     "name": "stdout",
     "output_type": "stream",
     "text": [
      "\n",
      "NBBO price: 19.083626506024093\n",
      "Internal price: 19.093168319277105\n",
      "Requoting: 19.083621735117468 @ 19.10271490343674\n"
     ]
    },
    {
     "name": "stderr",
     "output_type": "stream",
     "text": [
      "INFO:zetamarkets_py.client.Client:Replacing SOL orders: 0.001x Bid @ $19.083615199288747, 0.001x Ask @ $19.102708361068924\n"
     ]
    },
    {
     "name": "stdout",
     "output_type": "stream",
     "text": [
      "\n",
      "NBBO price: 19.08361997019374\n",
      "Internal price: 19.093161780178836\n",
      "Requoting: 19.083615199288747 @ 19.102708361068924\n"
     ]
    },
    {
     "name": "stderr",
     "output_type": "stream",
     "text": [
      "INFO:zetamarkets_py.client.Client:Replacing SOL orders: 0.001x Bid @ $19.08361061371154, 0.001x Ask @ $19.102703770903847\n"
     ]
    },
    {
     "name": "stdout",
     "output_type": "stream",
     "text": [
      "\n",
      "NBBO price: 19.083615384615385\n",
      "Internal price: 19.093157192307693\n",
      "Requoting: 19.08361061371154 @ 19.102703770903847\n"
     ]
    },
    {
     "name": "stderr",
     "output_type": "stream",
     "text": [
      "INFO:zetamarkets_py.client.Client:Replacing SOL orders: 0.001x Bid @ $19.08356665767857, 0.001x Ask @ $19.102659770892853\n"
     ]
    },
    {
     "name": "stdout",
     "output_type": "stream",
     "text": [
      "\n",
      "NBBO price: 19.083571428571428\n",
      "Internal price: 19.09311321428571\n",
      "Requoting: 19.08356665767857 @ 19.102659770892853\n"
     ]
    },
    {
     "name": "stderr",
     "output_type": "stream",
     "text": [
      "INFO:zetamarkets_py.client.Client:Replacing SOL orders: 0.001x Bid @ $19.08354476676123, 0.001x Ask @ $19.102637858073642\n"
     ]
    },
    {
     "name": "stdout",
     "output_type": "stream",
     "text": [
      "\n",
      "NBBO price: 19.08354953764861\n",
      "Internal price: 19.093091312417435\n",
      "Requoting: 19.08354476676123 @ 19.102637858073642\n"
     ]
    },
    {
     "name": "stderr",
     "output_type": "stream",
     "text": [
      "INFO:zetamarkets_py.client.Client:Replacing SOL orders: 0.001x Bid @ $19.083524491204194, 0.001x Ask @ $19.10261756223091\n"
     ]
    },
    {
     "name": "stdout",
     "output_type": "stream",
     "text": [
      "\n",
      "NBBO price: 19.08352926208651\n",
      "Internal price: 19.093071026717553\n",
      "Requoting: 19.083524491204194 @ 19.10261756223091\n"
     ]
    },
    {
     "name": "stderr",
     "output_type": "stream",
     "text": [
      "INFO:zetamarkets_py.client.Client:Replacing SOL orders: 0.001x Bid @ $19.08350628563329, 0.001x Ask @ $19.10259933844533\n"
     ]
    },
    {
     "name": "stdout",
     "output_type": "stream",
     "text": [
      "\n",
      "NBBO price: 19.083511056511057\n",
      "Internal price: 19.09305281203931\n",
      "Requoting: 19.08350628563329 @ 19.10259933844533\n"
     ]
    },
    {
     "name": "stderr",
     "output_type": "stream",
     "text": [
      "INFO:zetamarkets_py.client.Client:Replacing SOL orders: 0.001x Bid @ $19.08348349203873, 0.001x Ask @ $19.102576522045773\n"
     ]
    },
    {
     "name": "stdout",
     "output_type": "stream",
     "text": [
      "\n",
      "NBBO price: 19.083488262910798\n",
      "Internal price: 19.093030007042252\n",
      "Requoting: 19.08348349203873 @ 19.102576522045773\n"
     ]
    },
    {
     "name": "stderr",
     "output_type": "stream",
     "text": [
      "INFO:zetamarkets_py.client.Client:Replacing SOL orders: 0.001x Bid @ $19.083649317136793, 0.001x Ask @ $19.102742513051883\n"
     ]
    },
    {
     "name": "stdout",
     "output_type": "stream",
     "text": [
      "\n",
      "NBBO price: 19.083654088050313\n",
      "Internal price: 19.093195915094338\n",
      "Requoting: 19.083649317136793 @ 19.102742513051883\n"
     ]
    },
    {
     "name": "stderr",
     "output_type": "stream",
     "text": [
      "INFO:zetamarkets_py.client.Client:Replacing SOL orders: 0.001x Bid @ $19.083612439778193, 0.001x Ask @ $19.102705598797478\n"
     ]
    },
    {
     "name": "stdout",
     "output_type": "stream",
     "text": [
      "\n",
      "NBBO price: 19.083617210682494\n",
      "Internal price: 19.093159019287835\n",
      "Requoting: 19.083612439778193 @ 19.102705598797478\n"
     ]
    },
    {
     "name": "stderr",
     "output_type": "stream",
     "text": [
      "INFO:zetamarkets_py.client.Client:Replacing SOL orders: 0.001x Bid @ $19.083587821694444, 0.001x Ask @ $19.102680956083333\n"
     ]
    },
    {
     "name": "stdout",
     "output_type": "stream",
     "text": [
      "\n",
      "NBBO price: 19.08359259259259\n",
      "Internal price: 19.09313438888889\n",
      "Requoting: 19.083587821694444 @ 19.102680956083333\n"
     ]
    },
    {
     "name": "stderr",
     "output_type": "stream",
     "text": [
      "INFO:zetamarkets_py.client.Client:Replacing SOL orders: 0.001x Bid @ $19.083613356881497, 0.001x Ask @ $19.102706516818348\n"
     ]
    },
    {
     "name": "stdout",
     "output_type": "stream",
     "text": [
      "\n",
      "NBBO price: 19.08361812778603\n",
      "Internal price: 19.093159936849922\n",
      "Requoting: 19.083613356881497 @ 19.102706516818348\n"
     ]
    },
    {
     "name": "stderr",
     "output_type": "stream",
     "text": [
      "INFO:zetamarkets_py.client.Client:Replacing SOL orders: 0.001x Bid @ $19.083641191821425, 0.001x Ask @ $19.10273437960714\n"
     ]
    },
    {
     "name": "stdout",
     "output_type": "stream",
     "text": [
      "\n",
      "NBBO price: 19.083645962732916\n",
      "Internal price: 19.09318778571428\n",
      "Requoting: 19.083641191821425 @ 19.10273437960714\n"
     ]
    },
    {
     "name": "stderr",
     "output_type": "stream",
     "text": [
      "INFO:zetamarkets_py.client.Client:Replacing SOL orders: 0.001x Bid @ $19.083670442756414, 0.001x Ask @ $19.102763659807692\n"
     ]
    },
    {
     "name": "stdout",
     "output_type": "stream",
     "text": [
      "\n",
      "NBBO price: 19.083675213675217\n",
      "Internal price: 19.093217051282053\n",
      "Requoting: 19.083670442756414 @ 19.102763659807692\n"
     ]
    },
    {
     "name": "stderr",
     "output_type": "stream",
     "text": [
      "INFO:zetamarkets_py.client.Client:Replacing SOL orders: 0.001x Bid @ $19.083695229074998, 0.001x Ask @ $19.102788470925\n"
     ]
    },
    {
     "name": "stdout",
     "output_type": "stream",
     "text": [
      "\n",
      "NBBO price: 19.0837\n",
      "Internal price: 19.09324185\n",
      "Requoting: 19.083695229074998 @ 19.102788470925\n"
     ]
    },
    {
     "name": "stderr",
     "output_type": "stream",
     "text": [
      "INFO:zetamarkets_py.client.Client:Replacing SOL orders: 0.001x Bid @ $19.082625963287267, 0.001x Ask @ $19.10171813533658\n"
     ]
    },
    {
     "name": "stdout",
     "output_type": "stream",
     "text": [
      "\n",
      "NBBO price: 19.082630733944953\n",
      "Internal price: 19.092172049311923\n",
      "Requoting: 19.082625963287267 @ 19.10171813533658\n"
     ]
    },
    {
     "name": "stderr",
     "output_type": "stream",
     "text": [
      "INFO:zetamarkets_py.client.Client:Replacing SOL orders: 0.001x Bid @ $19.082756356906156, 0.001x Ask @ $19.101848659414312\n"
     ]
    },
    {
     "name": "stdout",
     "output_type": "stream",
     "text": [
      "\n",
      "NBBO price: 19.082761127596438\n",
      "Internal price: 19.092302508160234\n",
      "Requoting: 19.082756356906156 @ 19.101848659414312\n"
     ]
    },
    {
     "name": "stderr",
     "output_type": "stream",
     "text": [
      "INFO:zetamarkets_py.client.Client:Replacing SOL orders: 0.001x Bid @ $19.082775283949793, 0.001x Ask @ $19.10186760539446\n"
     ]
    },
    {
     "name": "stdout",
     "output_type": "stream",
     "text": [
      "\n",
      "NBBO price: 19.082780054644804\n",
      "Internal price: 19.092321444672127\n",
      "Requoting: 19.082775283949793 @ 19.10186760539446\n"
     ]
    },
    {
     "name": "stderr",
     "output_type": "stream",
     "text": [
      "INFO:zetamarkets_py.client.Client:Replacing SOL orders: 0.001x Bid @ $19.082829420846547, 0.001x Ask @ $19.101921796455198\n"
     ]
    },
    {
     "name": "stdout",
     "output_type": "stream",
     "text": [
      "\n",
      "NBBO price: 19.082834191555097\n",
      "Internal price: 19.092375608650872\n",
      "Requoting: 19.082829420846547 @ 19.101921796455198\n"
     ]
    },
    {
     "name": "stderr",
     "output_type": "stream",
     "text": [
      "INFO:zetamarkets_py.client.Client:Replacing SOL orders: 0.001x Bid @ $19.08286206137593, 0.001x Ask @ $19.101954469641438\n"
     ]
    },
    {
     "name": "stdout",
     "output_type": "stream",
     "text": [
      "\n",
      "NBBO price: 19.082866832092638\n",
      "Internal price: 19.092408265508684\n",
      "Requoting: 19.08286206137593 @ 19.101954469641438\n"
     ]
    },
    {
     "name": "stderr",
     "output_type": "stream",
     "text": [
      "INFO:zetamarkets_py.client.Client:Replacing SOL orders: 0.001x Bid @ $19.082878393285014, 0.001x Ask @ $19.101970817890603\n"
     ]
    },
    {
     "name": "stdout",
     "output_type": "stream",
     "text": [
      "\n",
      "NBBO price: 19.082883164005807\n",
      "Internal price: 19.09242460558781\n",
      "Requoting: 19.082878393285014 @ 19.101970817890603\n"
     ]
    },
    {
     "name": "stderr",
     "output_type": "stream",
     "text": [
      "INFO:zetamarkets_py.client.Client:Replacing SOL orders: 0.001x Bid @ $19.075729569813515, 0.001x Ask @ $19.094814842019428\n"
     ]
    },
    {
     "name": "stdout",
     "output_type": "stream",
     "text": [
      "\n",
      "NBBO price: 19.0757343387471\n",
      "Internal price: 19.08527220591647\n",
      "Requoting: 19.075729569813515 @ 19.094814842019428\n"
     ]
    },
    {
     "name": "stderr",
     "output_type": "stream",
     "text": [
      "INFO:zetamarkets_py.client.Client:Replacing SOL orders: 0.001x Bid @ $19.074690072160536, 0.001x Ask @ $19.09377430434879\n"
     ]
    },
    {
     "name": "stdout",
     "output_type": "stream",
     "text": [
      "\n",
      "NBBO price: 19.074694840834248\n",
      "Internal price: 19.084232188254663\n",
      "Requoting: 19.074690072160536 @ 19.09377430434879\n"
     ]
    },
    {
     "name": "stderr",
     "output_type": "stream",
     "text": [
      "INFO:zetamarkets_py.client.Client:Replacing SOL orders: 0.001x Bid @ $19.07451361143271, 0.001x Ask @ $19.093597667071958\n"
     ]
    },
    {
     "name": "stdout",
     "output_type": "stream",
     "text": [
      "\n",
      "NBBO price: 19.074518380062305\n",
      "Internal price: 19.084055639252334\n",
      "Requoting: 19.07451361143271 @ 19.093597667071958\n"
     ]
    },
    {
     "name": "stderr",
     "output_type": "stream",
     "text": [
      "INFO:zetamarkets_py.client.Client:Replacing SOL orders: 0.001x Bid @ $19.07428320838985, 0.001x Ask @ $19.093367033510802\n"
     ]
    },
    {
     "name": "stdout",
     "output_type": "stream",
     "text": [
      "\n",
      "NBBO price: 19.074287976961845\n",
      "Internal price: 19.083825120950326\n",
      "Requoting: 19.07428320838985 @ 19.093367033510802\n"
     ]
    },
    {
     "name": "stderr",
     "output_type": "stream",
     "text": [
      "INFO:zetamarkets_py.client.Client:Replacing SOL orders: 0.001x Bid @ $19.074319403371035, 0.001x Ask @ $19.093403264705074\n"
     ]
    },
    {
     "name": "stdout",
     "output_type": "stream",
     "text": [
      "\n",
      "NBBO price: 19.074324171952078\n",
      "Internal price: 19.083861334038055\n",
      "Requoting: 19.074319403371035 @ 19.093403264705074\n"
     ]
    },
    {
     "name": "stderr",
     "output_type": "stream",
     "text": [
      "INFO:zetamarkets_py.client.Client:Replacing SOL orders: 0.001x Bid @ $19.07401984183019, 0.001x Ask @ $19.093103403452826\n"
     ]
    },
    {
     "name": "stdout",
     "output_type": "stream",
     "text": [
      "\n",
      "NBBO price: 19.07402461033634\n",
      "Internal price: 19.083561622641508\n",
      "Requoting: 19.07401984183019 @ 19.093103403452826\n"
     ]
    },
    {
     "name": "stderr",
     "output_type": "stream",
     "text": [
      "INFO:zetamarkets_py.client.Client:Replacing SOL orders: 0.001x Bid @ $19.074042507129207, 0.001x Ask @ $19.09312609142848\n"
     ]
    },
    {
     "name": "stdout",
     "output_type": "stream",
     "text": [
      "\n",
      "NBBO price: 19.074047275641025\n",
      "Internal price: 19.083584299278844\n",
      "Requoting: 19.074042507129207 @ 19.09312609142848\n"
     ]
    },
    {
     "name": "stderr",
     "output_type": "stream",
     "text": [
      "INFO:zetamarkets_py.client.Client:Replacing SOL orders: 0.001x Bid @ $19.07405827324941, 0.001x Ask @ $19.093141873322697\n"
     ]
    },
    {
     "name": "stdout",
     "output_type": "stream",
     "text": [
      "\n",
      "NBBO price: 19.07406304176517\n",
      "Internal price: 19.083600073286053\n",
      "Requoting: 19.07405827324941 @ 19.093141873322697\n"
     ]
    },
    {
     "name": "stderr",
     "output_type": "stream",
     "text": [
      "INFO:zetamarkets_py.client.Client:Replacing SOL orders: 0.001x Bid @ $19.074079206825697, 0.001x Ask @ $19.093162827843027\n"
     ]
    },
    {
     "name": "stdout",
     "output_type": "stream",
     "text": [
      "\n",
      "NBBO price: 19.07408397534669\n",
      "Internal price: 19.083621017334362\n",
      "Requoting: 19.074079206825697 @ 19.093162827843027\n"
     ]
    },
    {
     "name": "stderr",
     "output_type": "stream",
     "text": [
      "INFO:zetamarkets_py.client.Client:Replacing SOL orders: 0.001x Bid @ $19.07409854972455, 0.001x Ask @ $19.093182190094456\n"
     ]
    },
    {
     "name": "stdout",
     "output_type": "stream",
     "text": [
      "\n",
      "NBBO price: 19.07410331825038\n",
      "Internal price: 19.083640369909503\n",
      "Requoting: 19.07409854972455 @ 19.093182190094456\n"
     ]
    },
    {
     "name": "stderr",
     "output_type": "stream",
     "text": [
      "INFO:zetamarkets_py.client.Client:Replacing SOL orders: 0.001x Bid @ $19.07407850056168, 0.001x Ask @ $19.093162120872396\n"
     ]
    },
    {
     "name": "stdout",
     "output_type": "stream",
     "text": [
      "\n",
      "NBBO price: 19.074083269082497\n",
      "Internal price: 19.083620310717038\n",
      "Requoting: 19.07407850056168 @ 19.093162120872396\n"
     ]
    },
    {
     "name": "stderr",
     "output_type": "stream",
     "text": [
      "INFO:zetamarkets_py.client.Client:Replacing SOL orders: 0.001x Bid @ $19.074079912002308, 0.001x Ask @ $19.09316353372517\n"
     ]
    },
    {
     "name": "stdout",
     "output_type": "stream",
     "text": [
      "\n",
      "NBBO price: 19.07408468052348\n",
      "Internal price: 19.08362172286374\n",
      "Requoting: 19.074079912002308 @ 19.09316353372517\n"
     ]
    },
    {
     "name": "stderr",
     "output_type": "stream",
     "text": [
      "INFO:zetamarkets_py.client.Client:Replacing SOL orders: 0.001x Bid @ $19.07410592705946, 0.001x Ask @ $19.093189574810392\n"
     ]
    },
    {
     "name": "stdout",
     "output_type": "stream",
     "text": [
      "\n",
      "NBBO price: 19.074110695587134\n",
      "Internal price: 19.083647750934926\n",
      "Requoting: 19.07410592705946 @ 19.093189574810392\n"
     ]
    },
    {
     "name": "stderr",
     "output_type": "stream",
     "text": [
      "INFO:zetamarkets_py.client.Client:Replacing SOL orders: 0.001x Bid @ $19.074130504193455, 0.001x Ask @ $19.09321417653382\n"
     ]
    },
    {
     "name": "stdout",
     "output_type": "stream",
     "text": [
      "\n",
      "NBBO price: 19.074135272727275\n",
      "Internal price: 19.083672340363638\n",
      "Requoting: 19.074130504193455 @ 19.09321417653382\n"
     ]
    },
    {
     "name": "stderr",
     "output_type": "stream",
     "text": [
      "INFO:zetamarkets_py.client.Client:Replacing SOL orders: 0.001x Bid @ $19.074147761754098, 0.001x Ask @ $19.09323145136065\n"
     ]
    },
    {
     "name": "stdout",
     "output_type": "stream",
     "text": [
      "\n",
      "NBBO price: 19.07415253029223\n",
      "Internal price: 19.083689606557375\n",
      "Requoting: 19.074147761754098 @ 19.09323145136065\n"
     ]
    },
    {
     "name": "stderr",
     "output_type": "stream",
     "text": [
      "INFO:zetamarkets_py.client.Client:Replacing SOL orders: 0.001x Bid @ $19.07414896811637, 0.001x Ask @ $19.093232658929892\n"
     ]
    },
    {
     "name": "stdout",
     "output_type": "stream",
     "text": [
      "\n",
      "NBBO price: 19.074153736654804\n",
      "Internal price: 19.08369081352313\n",
      "Requoting: 19.07414896811637 @ 19.093232658929892\n"
     ]
    },
    {
     "name": "stderr",
     "output_type": "stream",
     "text": [
      "INFO:zetamarkets_py.client.Client:Replacing SOL orders: 0.001x Bid @ $19.074124805552792, 0.001x Ask @ $19.093208472191662\n"
     ]
    },
    {
     "name": "stdout",
     "output_type": "stream",
     "text": [
      "\n",
      "NBBO price: 19.074129574085184\n",
      "Internal price: 19.083666638872227\n",
      "Requoting: 19.074124805552792 @ 19.093208472191662\n"
     ]
    },
    {
     "name": "stderr",
     "output_type": "stream",
     "text": [
      "INFO:zetamarkets_py.client.Client:Replacing SOL orders: 0.001x Bid @ $19.074109395085625, 0.001x Ask @ $19.09319304630632\n"
     ]
    },
    {
     "name": "stdout",
     "output_type": "stream",
     "text": [
      "\n",
      "NBBO price: 19.074114163614166\n",
      "Internal price: 19.083651220695973\n",
      "Requoting: 19.074109395085625 @ 19.09319304630632\n"
     ]
    },
    {
     "name": "stderr",
     "output_type": "stream",
     "text": [
      "INFO:zetamarkets_py.client.Client:Replacing SOL orders: 0.001x Bid @ $19.074093989239287, 0.001x Ask @ $19.09317762504643\n"
     ]
    },
    {
     "name": "stdout",
     "output_type": "stream",
     "text": [
      "\n",
      "NBBO price: 19.074098757763977\n",
      "Internal price: 19.08363580714286\n",
      "Requoting: 19.074093989239287 @ 19.09317762504643\n"
     ]
    },
    {
     "name": "stderr",
     "output_type": "stream",
     "text": [
      "INFO:zetamarkets_py.client.Client:Replacing SOL orders: 0.001x Bid @ $19.074080167376206, 0.001x Ask @ $19.093163789354566\n"
     ]
    },
    {
     "name": "stdout",
     "output_type": "stream",
     "text": [
      "\n",
      "NBBO price: 19.07408493589744\n",
      "Internal price: 19.083621978365386\n",
      "Requoting: 19.074080167376206 @ 19.093163789354566\n"
     ]
    },
    {
     "name": "stderr",
     "output_type": "stream",
     "text": [
      "INFO:zetamarkets_py.client.Client:Replacing SOL orders: 0.001x Bid @ $19.074080212772184, 0.001x Ask @ $19.093163834795963\n"
     ]
    },
    {
     "name": "stdout",
     "output_type": "stream",
     "text": [
      "\n",
      "NBBO price: 19.074084981293428\n",
      "Internal price: 19.083622023784073\n",
      "Requoting: 19.074080212772184 @ 19.093163834795963\n"
     ]
    },
    {
     "name": "stderr",
     "output_type": "stream",
     "text": [
      "INFO:zetamarkets_py.client.Client:Replacing SOL orders: 0.001x Bid @ $19.074066311243485, 0.001x Ask @ $19.093149919358787\n"
     ]
    },
    {
     "name": "stdout",
     "output_type": "stream",
     "text": [
      "\n",
      "NBBO price: 19.074071079761257\n",
      "Internal price: 19.083608115301136\n",
      "Requoting: 19.074066311243485 @ 19.093149919358787\n"
     ]
    },
    {
     "name": "stderr",
     "output_type": "stream",
     "text": [
      "INFO:zetamarkets_py.client.Client:Replacing SOL orders: 0.001x Bid @ $19.074046755032825, 0.001x Ask @ $19.093130343582132\n"
     ]
    },
    {
     "name": "stdout",
     "output_type": "stream",
     "text": [
      "\n",
      "NBBO price: 19.074051523545705\n",
      "Internal price: 19.08358854930748\n",
      "Requoting: 19.074046755032825 @ 19.093130343582132\n"
     ]
    },
    {
     "name": "stderr",
     "output_type": "stream",
     "text": [
      "INFO:zetamarkets_py.client.Client:Replacing SOL orders: 0.001x Bid @ $19.074026357694823, 0.001x Ask @ $19.09310992583659\n"
     ]
    },
    {
     "name": "stdout",
     "output_type": "stream",
     "text": [
      "\n",
      "NBBO price: 19.074031126202605\n",
      "Internal price: 19.083568141765706\n",
      "Requoting: 19.074026357694823 @ 19.09310992583659\n"
     ]
    },
    {
     "name": "stderr",
     "output_type": "stream",
     "text": [
      "INFO:zetamarkets_py.client.Client:Replacing SOL orders: 0.001x Bid @ $19.074025451272664, 0.001x Ask @ $19.09310901850755\n"
     ]
    },
    {
     "name": "stdout",
     "output_type": "stream",
     "text": [
      "\n",
      "NBBO price: 19.07403021978022\n",
      "Internal price: 19.083567234890108\n",
      "Requoting: 19.074025451272664 @ 19.09310901850755\n"
     ]
    },
    {
     "name": "stderr",
     "output_type": "stream",
     "text": [
      "INFO:zetamarkets_py.client.Client:Replacing SOL orders: 0.001x Bid @ $19.074021211654113, 0.001x Ask @ $19.09310477464726\n"
     ]
    },
    {
     "name": "stdout",
     "output_type": "stream",
     "text": [
      "\n",
      "NBBO price: 19.074025980160606\n",
      "Internal price: 19.083562993150686\n",
      "Requoting: 19.074021211654113 @ 19.09310477464726\n"
     ]
    },
    {
     "name": "stderr",
     "output_type": "stream",
     "text": [
      "INFO:zetamarkets_py.client.Client:Replacing SOL orders: 0.001x Bid @ $19.07404805647531, 0.001x Ask @ $19.093131646326707\n"
     ]
    },
    {
     "name": "stdout",
     "output_type": "stream",
     "text": [
      "\n",
      "NBBO price: 19.074052824988517\n",
      "Internal price: 19.08358985140101\n",
      "Requoting: 19.07404805647531 @ 19.093131646326707\n"
     ]
    },
    {
     "name": "stderr",
     "output_type": "stream",
     "text": [
      "INFO:zetamarkets_py.client.Client:Replacing SOL orders: 0.001x Bid @ $19.074047185510004, 0.001x Ask @ $19.09313077449\n"
     ]
    },
    {
     "name": "stdout",
     "output_type": "stream",
     "text": [
      "\n",
      "NBBO price: 19.07405195402299\n",
      "Internal price: 19.083588980000002\n",
      "Requoting: 19.074047185510004 @ 19.09313077449\n"
     ]
    },
    {
     "name": "stderr",
     "output_type": "stream",
     "text": [
      "INFO:zetamarkets_py.client.Client:Replacing SOL orders: 0.001x Bid @ $19.07404631294144, 0.001x Ask @ $19.093129901048435\n"
     ]
    },
    {
     "name": "stdout",
     "output_type": "stream",
     "text": [
      "\n",
      "NBBO price: 19.07405108145421\n",
      "Internal price: 19.083588106994938\n",
      "Requoting: 19.07404631294144 @ 19.093129901048435\n"
     ]
    },
    {
     "name": "stderr",
     "output_type": "stream",
     "text": [
      "INFO:zetamarkets_py.client.Client:Replacing SOL orders: 0.001x Bid @ $19.074047185510004, 0.001x Ask @ $19.09313077449\n"
     ]
    },
    {
     "name": "stdout",
     "output_type": "stream",
     "text": [
      "\n",
      "NBBO price: 19.07405195402299\n",
      "Internal price: 19.083588980000002\n",
      "Requoting: 19.074047185510004 @ 19.09313077449\n"
     ]
    },
    {
     "name": "stderr",
     "output_type": "stream",
     "text": [
      "INFO:zetamarkets_py.client.Client:Replacing SOL orders: 0.001x Bid @ $19.074048483136078, 0.001x Ask @ $19.09313207341435\n"
     ]
    },
    {
     "name": "stdout",
     "output_type": "stream",
     "text": [
      "\n",
      "NBBO price: 19.07405325164939\n",
      "Internal price: 19.083590278275214\n",
      "Requoting: 19.074048483136078 @ 19.09313207341435\n"
     ]
    },
    {
     "name": "stderr",
     "output_type": "stream",
     "text": [
      "INFO:zetamarkets_py.client.Client:Replacing SOL orders: 0.001x Bid @ $19.07412023146875, 0.001x Ask @ $19.09320389353125\n"
     ]
    },
    {
     "name": "stdout",
     "output_type": "stream",
     "text": [
      "\n",
      "NBBO price: 19.074125000000002\n",
      "Internal price: 19.0836620625\n",
      "Requoting: 19.07412023146875 @ 19.09320389353125\n"
     ]
    },
    {
     "name": "stderr",
     "output_type": "stream",
     "text": [
      "INFO:zetamarkets_py.client.Client:Replacing SOL orders: 0.001x Bid @ $19.074134551853522, 0.001x Ask @ $19.09321822824357\n"
     ]
    },
    {
     "name": "stdout",
     "output_type": "stream",
     "text": [
      "\n",
      "NBBO price: 19.07413932038835\n",
      "Internal price: 19.083676390048545\n",
      "Requoting: 19.074134551853522 @ 19.09321822824357\n"
     ]
    },
    {
     "name": "stderr",
     "output_type": "stream",
     "text": [
      "INFO:zetamarkets_py.client.Client:Replacing SOL orders: 0.001x Bid @ $19.074154853262097, 0.001x Ask @ $19.09323854996371\n"
     ]
    },
    {
     "name": "stdout",
     "output_type": "stream",
     "text": [
      "\n",
      "NBBO price: 19.074159621802004\n",
      "Internal price: 19.083696701612904\n",
      "Requoting: 19.074154853262097 @ 19.09323854996371\n"
     ]
    },
    {
     "name": "stderr",
     "output_type": "stream",
     "text": [
      "INFO:zetamarkets_py.client.Client:Replacing SOL orders: 0.001x Bid @ $19.07414492195217, 0.001x Ask @ $19.093228608717503\n"
     ]
    },
    {
     "name": "stdout",
     "output_type": "stream",
     "text": [
      "\n",
      "NBBO price: 19.07414969048959\n",
      "Internal price: 19.083686765334836\n",
      "Requoting: 19.07414492195217 @ 19.093228608717503\n"
     ]
    },
    {
     "name": "stderr",
     "output_type": "stream",
     "text": [
      "INFO:zetamarkets_py.client.Client:Replacing SOL orders: 0.001x Bid @ $19.07414276335441, 0.001x Ask @ $19.093226447960063\n"
     ]
    },
    {
     "name": "stdout",
     "output_type": "stream",
     "text": [
      "\n",
      "NBBO price: 19.074147531891292\n",
      "Internal price: 19.083684605657236\n",
      "Requoting: 19.07414276335441 @ 19.093226447960063\n"
     ]
    },
    {
     "name": "stderr",
     "output_type": "stream",
     "text": [
      "INFO:zetamarkets_py.client.Client:Replacing SOL orders: 0.001x Bid @ $19.07414492195217, 0.001x Ask @ $19.093228608717503\n"
     ]
    },
    {
     "name": "stdout",
     "output_type": "stream",
     "text": [
      "\n",
      "NBBO price: 19.07414969048959\n",
      "Internal price: 19.083686765334836\n",
      "Requoting: 19.07414492195217 @ 19.093228608717503\n"
     ]
    },
    {
     "name": "stderr",
     "output_type": "stream",
     "text": [
      "INFO:zetamarkets_py.client.Client:Replacing SOL orders: 0.001x Bid @ $19.074163640924052, 0.001x Ask @ $19.093247346417723\n"
     ]
    },
    {
     "name": "stdout",
     "output_type": "stream",
     "text": [
      "\n",
      "NBBO price: 19.074168409466154\n",
      "Internal price: 19.083705493670887\n",
      "Requoting: 19.074163640924052 @ 19.093247346417723\n"
     ]
    },
    {
     "name": "stderr",
     "output_type": "stream",
     "text": [
      "INFO:zetamarkets_py.client.Client:Replacing SOL orders: 0.001x Bid @ $19.0741617167685, 0.001x Ask @ $19.09324542033705\n"
     ]
    },
    {
     "name": "stdout",
     "output_type": "stream",
     "text": [
      "\n",
      "NBBO price: 19.07416648531012\n",
      "Internal price: 19.083703568552774\n",
      "Requoting: 19.0741617167685 @ 19.09324542033705\n"
     ]
    },
    {
     "name": "stderr",
     "output_type": "stream",
     "text": [
      "INFO:zetamarkets_py.client.Client:Replacing SOL orders: 0.001x Bid @ $19.074143173620968, 0.001x Ask @ $19.093226858637095\n"
     ]
    },
    {
     "name": "stdout",
     "output_type": "stream",
     "text": [
      "\n",
      "NBBO price: 19.074147942157953\n",
      "Internal price: 19.08368501612903\n",
      "Requoting: 19.074143173620968 @ 19.093226858637095\n"
     ]
    },
    {
     "name": "stderr",
     "output_type": "stream",
     "text": [
      "INFO:zetamarkets_py.client.Client:Replacing SOL orders: 0.001x Bid @ $19.074143338367207, 0.001x Ask @ $19.09322702354816\n"
     ]
    },
    {
     "name": "stdout",
     "output_type": "stream",
     "text": [
      "\n",
      "NBBO price: 19.074148106904232\n",
      "Internal price: 19.083685180957684\n",
      "Requoting: 19.074143338367207 @ 19.09322702354816\n"
     ]
    },
    {
     "name": "stderr",
     "output_type": "stream",
     "text": [
      "INFO:zetamarkets_py.client.Client:Replacing SOL orders: 0.001x Bid @ $19.074144285967744, 0.001x Ask @ $19.093227972096773\n"
     ]
    },
    {
     "name": "stdout",
     "output_type": "stream",
     "text": [
      "\n",
      "NBBO price: 19.074149054505007\n",
      "Internal price: 19.08368612903226\n",
      "Requoting: 19.074144285967744 @ 19.093227972096773\n"
     ]
    },
    {
     "name": "stderr",
     "output_type": "stream",
     "text": [
      "INFO:zetamarkets_py.client.Client:Replacing SOL orders: 0.001x Bid @ $19.07416280490751, 0.001x Ask @ $19.093246509564743\n"
     ]
    },
    {
     "name": "stdout",
     "output_type": "stream",
     "text": [
      "\n",
      "NBBO price: 19.0741675734494\n",
      "Internal price: 19.083704657236126\n",
      "Requoting: 19.07416280490751 @ 19.093246509564743\n"
     ]
    },
    {
     "name": "stderr",
     "output_type": "stream",
     "text": [
      "INFO:zetamarkets_py.client.Client:Replacing SOL orders: 0.001x Bid @ $19.074160467510197, 0.001x Ask @ $19.093244169828864\n"
     ]
    },
    {
     "name": "stdout",
     "output_type": "stream",
     "text": [
      "\n",
      "NBBO price: 19.074165236051506\n",
      "Internal price: 19.08370231866953\n",
      "Requoting: 19.074160467510197 @ 19.093244169828864\n"
     ]
    },
    {
     "name": "stderr",
     "output_type": "stream",
     "text": [
      "INFO:zetamarkets_py.client.Client:Replacing SOL orders: 0.001x Bid @ $19.074142161287835, 0.001x Ask @ $19.09322584529112\n"
     ]
    },
    {
     "name": "stdout",
     "output_type": "stream",
     "text": [
      "\n",
      "NBBO price: 19.074146929824565\n",
      "Internal price: 19.083684003289477\n",
      "Requoting: 19.074142161287835 @ 19.09322584529112\n"
     ]
    },
    {
     "name": "stderr",
     "output_type": "stream",
     "text": [
      "INFO:zetamarkets_py.client.Client:Replacing SOL orders: 0.001x Bid @ $19.0741455399313, 0.001x Ask @ $19.09322922731492\n"
     ]
    },
    {
     "name": "stdout",
     "output_type": "stream",
     "text": [
      "\n",
      "NBBO price: 19.074150308468877\n",
      "Internal price: 19.08368738362311\n",
      "Requoting: 19.0741455399313 @ 19.09322922731492\n"
     ]
    },
    {
     "name": "stderr",
     "output_type": "stream",
     "text": [
      "INFO:zetamarkets_py.client.Client:Replacing SOL orders: 0.001x Bid @ $19.074146016215668, 0.001x Ask @ $19.093229704075814\n"
     ]
    },
    {
     "name": "stdout",
     "output_type": "stream",
     "text": [
      "\n",
      "NBBO price: 19.074150784753364\n",
      "Internal price: 19.08368786014574\n",
      "Requoting: 19.074146016215668 @ 19.093229704075814\n"
     ]
    },
    {
     "name": "stderr",
     "output_type": "stream",
     "text": [
      "INFO:zetamarkets_py.client.Client:Replacing SOL orders: 0.001x Bid @ $19.07414791602559, 0.001x Ask @ $19.093231605786496\n"
     ]
    },
    {
     "name": "stdout",
     "output_type": "stream",
     "text": [
      "\n",
      "NBBO price: 19.074152684563764\n",
      "Internal price: 19.083689760906044\n",
      "Requoting: 19.07414791602559 @ 19.093231605786496\n"
     ]
    },
    {
     "name": "stderr",
     "output_type": "stream",
     "text": [
      "INFO:zetamarkets_py.client.Client:Replacing SOL orders: 0.001x Bid @ $19.07414783067929, 0.001x Ask @ $19.093231520354802\n"
     ]
    },
    {
     "name": "stdout",
     "output_type": "stream",
     "text": [
      "\n",
      "NBBO price: 19.074152599217438\n",
      "Internal price: 19.083689675517046\n",
      "Requoting: 19.07414783067929 @ 19.093231520354802\n"
     ]
    },
    {
     "name": "stderr",
     "output_type": "stream",
     "text": [
      "INFO:zetamarkets_py.client.Client:Replacing SOL orders: 0.001x Bid @ $19.07416636322321, 0.001x Ask @ $19.09325007144054\n"
     ]
    },
    {
     "name": "stdout",
     "output_type": "stream",
     "text": [
      "\n",
      "NBBO price: 19.074171131765993\n",
      "Internal price: 19.083708217331875\n",
      "Requoting: 19.07416636322321 @ 19.09325007144054\n"
     ]
    },
    {
     "name": "stderr",
     "output_type": "stream",
     "text": [
      "INFO:zetamarkets_py.client.Client:Replacing SOL orders: 0.001x Bid @ $19.07414783067929, 0.001x Ask @ $19.093231520354802\n"
     ]
    },
    {
     "name": "stdout",
     "output_type": "stream",
     "text": [
      "\n",
      "NBBO price: 19.074152599217438\n",
      "Internal price: 19.083689675517046\n",
      "Requoting: 19.07414783067929 @ 19.093231520354802\n"
     ]
    },
    {
     "name": "stderr",
     "output_type": "stream",
     "text": [
      "INFO:zetamarkets_py.client.Client:Replacing SOL orders: 0.001x Bid @ $19.074146882273507, 0.001x Ask @ $19.093230571000138\n"
     ]
    },
    {
     "name": "stdout",
     "output_type": "stream",
     "text": [
      "\n",
      "NBBO price: 19.074151650811416\n",
      "Internal price: 19.083688726636822\n",
      "Requoting: 19.074146882273507 @ 19.093230571000138\n"
     ]
    },
    {
     "name": "stderr",
     "output_type": "stream",
     "text": [
      "INFO:zetamarkets_py.client.Client:Replacing SOL orders: 0.001x Bid @ $19.074165455869046, 0.001x Ask @ $19.093249163178566\n"
     ]
    },
    {
     "name": "stdout",
     "output_type": "stream",
     "text": [
      "\n",
      "NBBO price: 19.074170224411603\n",
      "Internal price: 19.083707309523806\n",
      "Requoting: 19.074165455869046 @ 19.093249163178566\n"
     ]
    },
    {
     "name": "stderr",
     "output_type": "stream",
     "text": [
      "INFO:zetamarkets_py.client.Client:Replacing SOL orders: 0.001x Bid @ $19.074140665510992, 0.001x Ask @ $19.093224348017753\n"
     ]
    },
    {
     "name": "stdout",
     "output_type": "stream",
     "text": [
      "\n",
      "NBBO price: 19.07414543404735\n",
      "Internal price: 19.083682506764372\n",
      "Requoting: 19.074140665510992 @ 19.093224348017753\n"
     ]
    },
    {
     "name": "stderr",
     "output_type": "stream",
     "text": [
      "INFO:zetamarkets_py.client.Client:Replacing SOL orders: 0.001x Bid @ $19.074141627859795, 0.001x Ask @ $19.09322531132939\n"
     ]
    },
    {
     "name": "stdout",
     "output_type": "stream",
     "text": [
      "\n",
      "NBBO price: 19.074146396396397\n",
      "Internal price: 19.083683469594593\n",
      "Requoting: 19.074141627859795 @ 19.09322531132939\n"
     ]
    },
    {
     "name": "stderr",
     "output_type": "stream",
     "text": [
      "INFO:zetamarkets_py.client.Client:Replacing SOL orders: 0.001x Bid @ $19.074121959578918, 0.001x Ask @ $19.093205623370388\n"
     ]
    },
    {
     "name": "stdout",
     "output_type": "stream",
     "text": [
      "\n",
      "NBBO price: 19.0741267281106\n",
      "Internal price: 19.083663791474653\n",
      "Requoting: 19.074121959578918 @ 19.093205623370388\n"
     ]
    },
    {
     "name": "stderr",
     "output_type": "stream",
     "text": [
      "INFO:zetamarkets_py.client.Client:Replacing SOL orders: 0.001x Bid @ $19.07413337813971, 0.001x Ask @ $19.093217053355456\n"
     ]
    },
    {
     "name": "stdout",
     "output_type": "stream",
     "text": [
      "\n",
      "NBBO price: 19.074138146674247\n",
      "Internal price: 19.083675215747583\n",
      "Requoting: 19.07413337813971 @ 19.093217053355456\n"
     ]
    },
    {
     "name": "stderr",
     "output_type": "stream",
     "text": [
      "INFO:zetamarkets_py.client.Client:Replacing SOL orders: 0.001x Bid @ $19.074152541077126, 0.001x Ask @ $19.093236235465397\n"
     ]
    },
    {
     "name": "stdout",
     "output_type": "stream",
     "text": [
      "\n",
      "NBBO price: 19.074157309616453\n",
      "Internal price: 19.08369438827126\n",
      "Requoting: 19.074152541077126 @ 19.093236235465397\n"
     ]
    },
    {
     "name": "stderr",
     "output_type": "stream",
     "text": [
      "INFO:zetamarkets_py.client.Client:Replacing SOL orders: 0.001x Bid @ $19.074152366385757, 0.001x Ask @ $19.09323606059925\n"
     ]
    },
    {
     "name": "stdout",
     "output_type": "stream",
     "text": [
      "\n",
      "NBBO price: 19.07415713492504\n",
      "Internal price: 19.083694213492503\n",
      "Requoting: 19.074152366385757 @ 19.09323606059925\n"
     ]
    },
    {
     "name": "stderr",
     "output_type": "stream",
     "text": [
      "INFO:zetamarkets_py.client.Client:Replacing SOL orders: 0.001x Bid @ $19.074133221244036, 0.001x Ask @ $19.09321689630281\n"
     ]
    },
    {
     "name": "stdout",
     "output_type": "stream",
     "text": [
      "\n",
      "NBBO price: 19.074137989778535\n",
      "Internal price: 19.083675058773423\n",
      "Requoting: 19.074133221244036 @ 19.09321689630281\n"
     ]
    },
    {
     "name": "stderr",
     "output_type": "stream",
     "text": [
      "INFO:zetamarkets_py.client.Client:Replacing SOL orders: 0.001x Bid @ $19.074112159917537, 0.001x Ask @ $19.093195813904448\n"
     ]
    },
    {
     "name": "stdout",
     "output_type": "stream",
     "text": [
      "\n",
      "NBBO price: 19.07411692844677\n",
      "Internal price: 19.083653986910992\n",
      "Requoting: 19.074112159917537 @ 19.093195813904448\n"
     ]
    },
    {
     "name": "stderr",
     "output_type": "stream",
     "text": [
      "INFO:zetamarkets_py.client.Client:Replacing SOL orders: 0.001x Bid @ $19.07413224113033, 0.001x Ask @ $19.093215915208496\n"
     ]
    },
    {
     "name": "stdout",
     "output_type": "stream",
     "text": [
      "\n",
      "NBBO price: 19.074137009664582\n",
      "Internal price: 19.083674078169413\n",
      "Requoting: 19.07413224113033 @ 19.093215915208496\n"
     ]
    },
    {
     "name": "stderr",
     "output_type": "stream",
     "text": [
      "INFO:zetamarkets_py.client.Client:Replacing SOL orders: 0.001x Bid @ $19.074152366385757, 0.001x Ask @ $19.09323606059925\n"
     ]
    },
    {
     "name": "stdout",
     "output_type": "stream",
     "text": [
      "\n",
      "NBBO price: 19.07415713492504\n",
      "Internal price: 19.083694213492503\n",
      "Requoting: 19.074152366385757 @ 19.09323606059925\n"
     ]
    },
    {
     "name": "stderr",
     "output_type": "stream",
     "text": [
      "INFO:zetamarkets_py.client.Client:Replacing SOL orders: 0.001x Bid @ $19.074133221244036, 0.001x Ask @ $19.09321689630281\n"
     ]
    },
    {
     "name": "stdout",
     "output_type": "stream",
     "text": [
      "\n",
      "NBBO price: 19.074137989778535\n",
      "Internal price: 19.083675058773423\n",
      "Requoting: 19.074133221244036 @ 19.09321689630281\n"
     ]
    },
    {
     "name": "stderr",
     "output_type": "stream",
     "text": [
      "INFO:zetamarkets_py.client.Client:Replacing SOL orders: 0.001x Bid @ $19.074152366385757, 0.001x Ask @ $19.09323606059925\n"
     ]
    },
    {
     "name": "stdout",
     "output_type": "stream",
     "text": [
      "\n",
      "NBBO price: 19.07415713492504\n",
      "Internal price: 19.083694213492503\n",
      "Requoting: 19.074152366385757 @ 19.09323606059925\n"
     ]
    },
    {
     "name": "stderr",
     "output_type": "stream",
     "text": [
      "INFO:zetamarkets_py.client.Client:Replacing SOL orders: 0.001x Bid @ $19.074150019880015, 0.001x Ask @ $19.093233711745825\n"
     ]
    },
    {
     "name": "stdout",
     "output_type": "stream",
     "text": [
      "\n",
      "NBBO price: 19.07415478841871\n",
      "Internal price: 19.08369186581292\n",
      "Requoting: 19.074150019880015 @ 19.093233711745825\n"
     ]
    },
    {
     "name": "stderr",
     "output_type": "stream",
     "text": [
      "INFO:zetamarkets_py.client.Client:Replacing SOL orders: 0.001x Bid @ $19.07413076677363, 0.001x Ask @ $19.093214439376705\n"
     ]
    },
    {
     "name": "stdout",
     "output_type": "stream",
     "text": [
      "\n",
      "NBBO price: 19.074135535307516\n",
      "Internal price: 19.08367260307517\n",
      "Requoting: 19.07413076677363 @ 19.093214439376705\n"
     ]
    },
    {
     "name": "stderr",
     "output_type": "stream",
     "text": [
      "INFO:zetamarkets_py.client.Client:Replacing SOL orders: 0.001x Bid @ $19.074131750237203, 0.001x Ask @ $19.09321542382423\n"
     ]
    },
    {
     "name": "stdout",
     "output_type": "stream",
     "text": [
      "\n",
      "NBBO price: 19.074136518771333\n",
      "Internal price: 19.083673587030717\n",
      "Requoting: 19.074131750237203 @ 19.09321542382423\n"
     ]
    },
    {
     "name": "stderr",
     "output_type": "stream",
     "text": [
      "INFO:zetamarkets_py.client.Client:Replacing SOL orders: 0.001x Bid @ $19.07415096004839, 0.001x Ask @ $19.093234652854836\n"
     ]
    },
    {
     "name": "stdout",
     "output_type": "stream",
     "text": [
      "\n",
      "NBBO price: 19.07415572858732\n",
      "Internal price: 19.083692806451612\n",
      "Requoting: 19.07415096004839 @ 19.093234652854836\n"
     ]
    },
    {
     "name": "stderr",
     "output_type": "stream",
     "text": [
      "INFO:zetamarkets_py.client.Client:Replacing SOL orders: 0.001x Bid @ $19.07417448881754, 0.001x Ask @ $19.09325820516453\n"
     ]
    },
    {
     "name": "stdout",
     "output_type": "stream",
     "text": [
      "\n",
      "NBBO price: 19.074179257362356\n",
      "Internal price: 19.083716346991036\n",
      "Requoting: 19.07417448881754 @ 19.09325820516453\n"
     ]
    },
    {
     "name": "stderr",
     "output_type": "stream",
     "text": [
      "INFO:zetamarkets_py.client.Client:Replacing SOL orders: 0.001x Bid @ $19.074206552201886, 0.001x Ask @ $19.093290300628297\n"
     ]
    },
    {
     "name": "stdout",
     "output_type": "stream",
     "text": [
      "\n",
      "NBBO price: 19.074211320754717\n",
      "Internal price: 19.08374842641509\n",
      "Requoting: 19.074206552201886 @ 19.093290300628297\n"
     ]
    },
    {
     "name": "stderr",
     "output_type": "stream",
     "text": [
      "INFO:zetamarkets_py.client.Client:Replacing SOL orders: 0.001x Bid @ $19.074306825625, 0.001x Ask @ $19.093390674375\n"
     ]
    },
    {
     "name": "stdout",
     "output_type": "stream",
     "text": [
      "\n",
      "NBBO price: 19.0743115942029\n",
      "Internal price: 19.08384875\n",
      "Requoting: 19.074306825625 @ 19.093390674375\n"
     ]
    },
    {
     "name": "stderr",
     "output_type": "stream",
     "text": [
      "INFO:zetamarkets_py.client.Client:Replacing SOL orders: 0.001x Bid @ $19.074383762707726, 0.001x Ask @ $19.093467688433293\n"
     ]
    },
    {
     "name": "stdout",
     "output_type": "stream",
     "text": [
      "\n",
      "NBBO price: 19.07438853130486\n",
      "Internal price: 19.08392572557051\n",
      "Requoting: 19.074383762707726 @ 19.093467688433293\n"
     ]
    },
    {
     "name": "stderr",
     "output_type": "stream",
     "text": [
      "INFO:zetamarkets_py.client.Client:Replacing SOL orders: 0.001x Bid @ $19.074388731111434, 0.001x Ask @ $19.093472661807894\n"
     ]
    },
    {
     "name": "stdout",
     "output_type": "stream",
     "text": [
      "\n",
      "NBBO price: 19.07439349970981\n",
      "Internal price: 19.083930696459664\n",
      "Requoting: 19.074388731111434 @ 19.093472661807894\n"
     ]
    },
    {
     "name": "stderr",
     "output_type": "stream",
     "text": [
      "INFO:zetamarkets_py.client.Client:Replacing SOL orders: 0.001x Bid @ $19.074402491749858, 0.001x Ask @ $19.093486436213837\n"
     ]
    },
    {
     "name": "stdout",
     "output_type": "stream",
     "text": [
      "\n",
      "NBBO price: 19.074407260351673\n",
      "Internal price: 19.083944463981847\n",
      "Requoting: 19.074402491749858 @ 19.093486436213837\n"
     ]
    },
    {
     "name": "stderr",
     "output_type": "stream",
     "text": [
      "INFO:zetamarkets_py.client.Client:Replacing SOL orders: 0.001x Bid @ $19.074484999453958, 0.001x Ask @ $19.093569026466916\n"
     ]
    },
    {
     "name": "stdout",
     "output_type": "stream",
     "text": [
      "\n",
      "NBBO price: 19.0744897680764\n",
      "Internal price: 19.084027012960437\n",
      "Requoting: 19.074484999453958 @ 19.093569026466916\n"
     ]
    },
    {
     "name": "stderr",
     "output_type": "stream",
     "text": [
      "INFO:zetamarkets_py.client.Client:Replacing SOL orders: 0.001x Bid @ $19.074614730913723, 0.001x Ask @ $19.093698887723036\n"
     ]
    },
    {
     "name": "stdout",
     "output_type": "stream",
     "text": [
      "\n",
      "NBBO price: 19.074619499568595\n",
      "Internal price: 19.08415680931838\n",
      "Requoting: 19.074614730913723 @ 19.093698887723036\n"
     ]
    },
    {
     "name": "stderr",
     "output_type": "stream",
     "text": [
      "INFO:zetamarkets_py.client.Client:Replacing SOL orders: 0.001x Bid @ $19.07463106949133, 0.001x Ask @ $19.093715242647395\n"
     ]
    },
    {
     "name": "stdout",
     "output_type": "stream",
     "text": [
      "\n",
      "NBBO price: 19.074635838150286\n",
      "Internal price: 19.08417315606936\n",
      "Requoting: 19.07463106949133 @ 19.093715242647395\n"
     ]
    },
    {
     "name": "stderr",
     "output_type": "stream",
     "text": [
      "INFO:zetamarkets_py.client.Client:Replacing SOL orders: 0.001x Bid @ $19.07463256686698, 0.001x Ask @ $19.09371674152117\n"
     ]
    },
    {
     "name": "stdout",
     "output_type": "stream",
     "text": [
      "\n",
      "NBBO price: 19.074637335526315\n",
      "Internal price: 19.084174654194076\n",
      "Requoting: 19.07463256686698 @ 19.09371674152117\n"
     ]
    },
    {
     "name": "stderr",
     "output_type": "stream",
     "text": [
      "INFO:zetamarkets_py.client.Client:Replacing SOL orders: 0.001x Bid @ $19.07463405197911, 0.001x Ask @ $19.093718228119158\n"
     ]
    },
    {
     "name": "stdout",
     "output_type": "stream",
     "text": [
      "\n",
      "NBBO price: 19.074638820638818\n",
      "Internal price: 19.084176140049134\n",
      "Requoting: 19.07463405197911 @ 19.093718228119158\n"
     ]
    },
    {
     "name": "stderr",
     "output_type": "stream",
     "text": [
      "INFO:zetamarkets_py.client.Client:Replacing SOL orders: 0.001x Bid @ $19.074645231337502, 0.001x Ask @ $19.0937294186625\n"
     ]
    },
    {
     "name": "stdout",
     "output_type": "stream",
     "text": [
      "\n",
      "NBBO price: 19.074650000000002\n",
      "Internal price: 19.084187325000002\n",
      "Requoting: 19.074645231337502 @ 19.0937294186625\n"
     ]
    },
    {
     "name": "stderr",
     "output_type": "stream",
     "text": [
      "INFO:zetamarkets_py.client.Client:Replacing SOL orders: 0.001x Bid @ $19.07464376690272, 0.001x Ask @ $19.093727952762553\n"
     ]
    },
    {
     "name": "stdout",
     "output_type": "stream",
     "text": [
      "\n",
      "NBBO price: 19.074648535564855\n",
      "Internal price: 19.084185859832637\n",
      "Requoting: 19.07464376690272 @ 19.093727952762553\n"
     ]
    },
    {
     "name": "stderr",
     "output_type": "stream",
     "text": [
      "INFO:zetamarkets_py.client.Client:Replacing SOL orders: 0.001x Bid @ $19.074642290161766, 0.001x Ask @ $19.093726474544116\n"
     ]
    },
    {
     "name": "stdout",
     "output_type": "stream",
     "text": [
      "\n",
      "NBBO price: 19.07464705882353\n",
      "Internal price: 19.08418438235294\n",
      "Requoting: 19.074642290161766 @ 19.093726474544116\n"
     ]
    },
    {
     "name": "stderr",
     "output_type": "stream",
     "text": [
      "INFO:zetamarkets_py.client.Client:Replacing SOL orders: 0.001x Bid @ $19.074626162800968, 0.001x Ask @ $19.093710331047888\n"
     ]
    },
    {
     "name": "stdout",
     "output_type": "stream",
     "text": [
      "\n",
      "NBBO price: 19.0746309314587\n",
      "Internal price: 19.084168246924428\n",
      "Requoting: 19.074626162800968 @ 19.093710331047888\n"
     ]
    },
    {
     "name": "stderr",
     "output_type": "stream",
     "text": [
      "INFO:zetamarkets_py.client.Client:Replacing SOL orders: 0.001x Bid @ $19.07462551303257, 0.001x Ask @ $19.0937096806294\n"
     ]
    },
    {
     "name": "stdout",
     "output_type": "stream",
     "text": [
      "\n",
      "NBBO price: 19.07463028169014\n",
      "Internal price: 19.084167596830984\n",
      "Requoting: 19.07462551303257 @ 19.0937096806294\n"
     ]
    },
    {
     "name": "stderr",
     "output_type": "stream",
     "text": [
      "INFO:zetamarkets_py.client.Client:Replacing SOL orders: 0.001x Bid @ $19.074608846801976, 0.001x Ask @ $19.093692997724236\n"
     ]
    },
    {
     "name": "stdout",
     "output_type": "stream",
     "text": [
      "\n",
      "NBBO price: 19.07461361545538\n",
      "Internal price: 19.084150922263106\n",
      "Requoting: 19.074608846801976 @ 19.093692997724236\n"
     ]
    },
    {
     "name": "stderr",
     "output_type": "stream",
     "text": [
      "INFO:zetamarkets_py.client.Client:Replacing SOL orders: 0.001x Bid @ $19.074627133182513, 0.001x Ask @ $19.093711302400305\n"
     ]
    },
    {
     "name": "stdout",
     "output_type": "stream",
     "text": [
      "\n",
      "NBBO price: 19.07463190184049\n",
      "Internal price: 19.08416921779141\n",
      "Requoting: 19.074627133182513 @ 19.093711302400305\n"
     ]
    },
    {
     "name": "stderr",
     "output_type": "stream",
     "text": [
      "INFO:zetamarkets_py.client.Client:Replacing SOL orders: 0.001x Bid @ $19.07462602749278, 0.001x Ask @ $19.093710195604327\n"
     ]
    },
    {
     "name": "stdout",
     "output_type": "stream",
     "text": [
      "\n",
      "NBBO price: 19.07463079615048\n",
      "Internal price: 19.084168111548554\n",
      "Requoting: 19.07462602749278 @ 19.093710195604327\n"
     ]
    },
    {
     "name": "stderr",
     "output_type": "stream",
     "text": [
      "INFO:zetamarkets_py.client.Client:Replacing SOL orders: 0.001x Bid @ $19.07461947376818, 0.001x Ask @ $19.093703635322726\n"
     ]
    },
    {
     "name": "stdout",
     "output_type": "stream",
     "text": [
      "\n",
      "NBBO price: 19.074624242424242\n",
      "Internal price: 19.084161554545453\n",
      "Requoting: 19.07461947376818 @ 19.093703635322726\n"
     ]
    },
    {
     "name": "stderr",
     "output_type": "stream",
     "text": [
      "INFO:zetamarkets_py.client.Client:Replacing SOL orders: 0.001x Bid @ $19.074619798817906, 0.001x Ask @ $19.09370396069766\n"
     ]
    },
    {
     "name": "stdout",
     "output_type": "stream",
     "text": [
      "\n",
      "NBBO price: 19.074624567474046\n",
      "Internal price: 19.084161879757783\n",
      "Requoting: 19.074619798817906 @ 19.09370396069766\n"
     ]
    },
    {
     "name": "stderr",
     "output_type": "stream",
     "text": [
      "INFO:zetamarkets_py.client.Client:Replacing SOL orders: 0.001x Bid @ $19.07461947376818, 0.001x Ask @ $19.093703635322726\n"
     ]
    },
    {
     "name": "stdout",
     "output_type": "stream",
     "text": [
      "\n",
      "NBBO price: 19.074624242424242\n",
      "Internal price: 19.084161554545453\n",
      "Requoting: 19.07461947376818 @ 19.093703635322726\n"
     ]
    },
    {
     "name": "stderr",
     "output_type": "stream",
     "text": [
      "INFO:zetamarkets_py.client.Client:Replacing SOL orders: 0.001x Bid @ $19.074615196318742, 0.001x Ask @ $19.093699353593696\n"
     ]
    },
    {
     "name": "stdout",
     "output_type": "stream",
     "text": [
      "\n",
      "NBBO price: 19.07461996497373\n",
      "Internal price: 19.08415727495622\n",
      "Requoting: 19.074615196318742 @ 19.093699353593696\n"
     ]
    },
    {
     "name": "stderr",
     "output_type": "stream",
     "text": [
      "INFO:zetamarkets_py.client.Client:Replacing SOL orders: 0.001x Bid @ $19.074605644273788, 0.001x Ask @ $19.09368979199192\n"
     ]
    },
    {
     "name": "stdout",
     "output_type": "stream",
     "text": [
      "\n",
      "NBBO price: 19.074610412926393\n",
      "Internal price: 19.084147718132854\n",
      "Requoting: 19.074605644273788 @ 19.09368979199192\n"
     ]
    },
    {
     "name": "stderr",
     "output_type": "stream",
     "text": [
      "INFO:zetamarkets_py.client.Client:Replacing SOL orders: 0.001x Bid @ $19.07460211540625, 0.001x Ask @ $19.093686259593746\n"
     ]
    },
    {
     "name": "stdout",
     "output_type": "stream",
     "text": [
      "\n",
      "NBBO price: 19.07460688405797\n",
      "Internal price: 19.084144187499998\n",
      "Requoting: 19.07460211540625 @ 19.093686259593746\n"
     ]
    },
    {
     "name": "stderr",
     "output_type": "stream",
     "text": [
      "INFO:zetamarkets_py.client.Client:Replacing SOL orders: 0.001x Bid @ $19.074601759000224, 0.001x Ask @ $19.09368590283114\n"
     ]
    },
    {
     "name": "stdout",
     "output_type": "stream",
     "text": [
      "\n",
      "NBBO price: 19.074606527651856\n",
      "Internal price: 19.084143830915682\n",
      "Requoting: 19.074601759000224 @ 19.09368590283114\n"
     ]
    },
    {
     "name": "stderr",
     "output_type": "stream",
     "text": [
      "INFO:zetamarkets_py.client.Client:Replacing SOL orders: 0.001x Bid @ $19.074596700587467, 0.001x Ask @ $19.093680839357436\n"
     ]
    },
    {
     "name": "stdout",
     "output_type": "stream",
     "text": [
      "\n",
      "NBBO price: 19.074601469237834\n",
      "Internal price: 19.08413876997245\n",
      "Requoting: 19.074596700587467 @ 19.093680839357436\n"
     ]
    },
    {
     "name": "stderr",
     "output_type": "stream",
     "text": [
      "INFO:zetamarkets_py.client.Client:Replacing SOL orders: 0.001x Bid @ $19.074597066211926, 0.001x Ask @ $19.093681205347703\n"
     ]
    },
    {
     "name": "stdout",
     "output_type": "stream",
     "text": [
      "\n",
      "NBBO price: 19.074601834862385\n",
      "Internal price: 19.084139135779814\n",
      "Requoting: 19.074597066211926 @ 19.093681205347703\n"
     ]
    },
    {
     "name": "stderr",
     "output_type": "stream",
     "text": [
      "INFO:zetamarkets_py.client.Client:Replacing SOL orders: 0.001x Bid @ $19.074588483460403, 0.001x Ask @ $19.093672614009137\n"
     ]
    },
    {
     "name": "stdout",
     "output_type": "stream",
     "text": [
      "\n",
      "NBBO price: 19.074593252108716\n",
      "Internal price: 19.08413054873477\n",
      "Requoting: 19.074588483460403 @ 19.093672614009137\n"
     ]
    },
    {
     "name": "stderr",
     "output_type": "stream",
     "text": [
      "INFO:zetamarkets_py.client.Client:Replacing SOL orders: 0.001x Bid @ $19.07457264128749, 0.001x Ask @ $19.093656755986125\n"
     ]
    },
    {
     "name": "stdout",
     "output_type": "stream",
     "text": [
      "\n",
      "NBBO price: 19.07457740993184\n",
      "Internal price: 19.084114698636807\n",
      "Requoting: 19.07457264128749 @ 19.093656755986125\n"
     ]
    },
    {
     "name": "stderr",
     "output_type": "stream",
     "text": [
      "INFO:zetamarkets_py.client.Client:Replacing SOL orders: 0.001x Bid @ $19.07457222940643, 0.001x Ask @ $19.09365634369298\n"
     ]
    },
    {
     "name": "stdout",
     "output_type": "stream",
     "text": [
      "\n",
      "NBBO price: 19.07457699805068\n",
      "Internal price: 19.084114286549706\n",
      "Requoting: 19.07457222940643 @ 19.09365634369298\n"
     ]
    },
    {
     "name": "stderr",
     "output_type": "stream",
     "text": [
      "INFO:zetamarkets_py.client.Client:Replacing SOL orders: 0.001x Bid @ $19.07457057382192, 0.001x Ask @ $19.09365468645205\n"
     ]
    },
    {
     "name": "stdout",
     "output_type": "stream",
     "text": [
      "\n",
      "NBBO price: 19.074575342465753\n",
      "Internal price: 19.084112630136985\n",
      "Requoting: 19.07457057382192 @ 19.09365468645205\n"
     ]
    },
    {
     "name": "stderr",
     "output_type": "stream",
     "text": [
      "INFO:zetamarkets_py.client.Client:Replacing SOL orders: 0.001x Bid @ $19.074571816721708, 0.001x Ask @ $19.09365593059536\n"
     ]
    },
    {
     "name": "stdout",
     "output_type": "stream",
     "text": [
      "\n",
      "NBBO price: 19.074576585365854\n",
      "Internal price: 19.084113873658534\n",
      "Requoting: 19.074571816721708 @ 19.09365593059536\n"
     ]
    },
    {
     "name": "stderr",
     "output_type": "stream",
     "text": [
      "INFO:zetamarkets_py.client.Client:Replacing SOL orders: 0.001x Bid @ $19.07457872463628, 0.001x Ask @ $19.093662845421303\n"
     ]
    },
    {
     "name": "stdout",
     "output_type": "stream",
     "text": [
      "\n",
      "NBBO price: 19.07458349328215\n",
      "Internal price: 19.08412078502879\n",
      "Requoting: 19.07457872463628 @ 19.093662845421303\n"
     ]
    },
    {
     "name": "stderr",
     "output_type": "stream",
     "text": [
      "INFO:zetamarkets_py.client.Client:Replacing SOL orders: 0.001x Bid @ $19.074579285148413, 0.001x Ask @ $19.093663406494233\n"
     ]
    },
    {
     "name": "stdout",
     "output_type": "stream",
     "text": [
      "\n",
      "NBBO price: 19.07458405379443\n",
      "Internal price: 19.084121345821323\n",
      "Requoting: 19.074579285148413 @ 19.093663406494233\n"
     ]
    },
    {
     "name": "stderr",
     "output_type": "stream",
     "text": [
      "INFO:zetamarkets_py.client.Client:Replacing SOL orders: 0.001x Bid @ $19.074581538007234, 0.001x Ask @ $19.093665661607037\n"
     ]
    },
    {
     "name": "stdout",
     "output_type": "stream",
     "text": [
      "\n",
      "NBBO price: 19.07458630665381\n",
      "Internal price: 19.084123599807135\n",
      "Requoting: 19.074581538007234 @ 19.093665661607037\n"
     ]
    },
    {
     "name": "stderr",
     "output_type": "stream",
     "text": [
      "INFO:zetamarkets_py.client.Client:Replacing SOL orders: 0.001x Bid @ $19.074661898000002, 0.001x Ask @ $19.093746101999997\n"
     ]
    },
    {
     "name": "stdout",
     "output_type": "stream",
     "text": [
      "\n",
      "NBBO price: 19.07466666666667\n",
      "Internal price: 19.084204\n",
      "Requoting: 19.074661898000002 @ 19.093746101999997\n"
     ]
    },
    {
     "name": "stderr",
     "output_type": "stream",
     "text": [
      "INFO:zetamarkets_py.client.Client:Replacing SOL orders: 0.001x Bid @ $19.074662263096656, 0.001x Ask @ $19.093746467461933\n"
     ]
    },
    {
     "name": "stdout",
     "output_type": "stream",
     "text": [
      "\n",
      "NBBO price: 19.074667031763415\n",
      "Internal price: 19.084204365279295\n",
      "Requoting: 19.074662263096656 @ 19.093746467461933\n"
     ]
    },
    {
     "name": "stderr",
     "output_type": "stream",
     "text": [
      "INFO:zetamarkets_py.client.Client:Replacing SOL orders: 0.001x Bid @ $19.074528257480416, 0.001x Ask @ $19.093612327773045\n"
     ]
    },
    {
     "name": "stdout",
     "output_type": "stream",
     "text": [
      "\n",
      "NBBO price: 19.074533026113674\n",
      "Internal price: 19.08407029262673\n",
      "Requoting: 19.074528257480416 @ 19.093612327773045\n"
     ]
    },
    {
     "name": "stderr",
     "output_type": "stream",
     "text": [
      "INFO:zetamarkets_py.client.Client:Replacing SOL orders: 0.001x Bid @ $19.074518609951358, 0.001x Ask @ $19.093602670591626\n"
     ]
    },
    {
     "name": "stdout",
     "output_type": "stream",
     "text": [
      "\n",
      "NBBO price: 19.074523378582203\n",
      "Internal price: 19.084060640271492\n",
      "Requoting: 19.074518609951358 @ 19.093602670591626\n"
     ]
    },
    {
     "name": "stderr",
     "output_type": "stream",
     "text": [
      "INFO:zetamarkets_py.client.Client:Replacing SOL orders: 0.001x Bid @ $19.074517889979607, 0.001x Ask @ $19.093601949899547\n"
     ]
    },
    {
     "name": "stdout",
     "output_type": "stream",
     "text": [
      "\n",
      "NBBO price: 19.074522658610274\n",
      "Internal price: 19.084059919939577\n",
      "Requoting: 19.074517889979607 @ 19.093601949899547\n"
     ]
    },
    {
     "name": "stderr",
     "output_type": "stream",
     "text": [
      "INFO:zetamarkets_py.client.Client:Replacing SOL orders: 0.001x Bid @ $19.074518609951358, 0.001x Ask @ $19.093602670591626\n"
     ]
    },
    {
     "name": "stdout",
     "output_type": "stream",
     "text": [
      "\n",
      "NBBO price: 19.074523378582203\n",
      "Internal price: 19.084060640271492\n",
      "Requoting: 19.074518609951358 @ 19.093602670591626\n"
     ]
    },
    {
     "name": "stderr",
     "output_type": "stream",
     "text": [
      "INFO:zetamarkets_py.client.Client:Replacing SOL orders: 0.001x Bid @ $19.074502541314693, 0.001x Ask @ $19.093586585878285\n"
     ]
    },
    {
     "name": "stdout",
     "output_type": "stream",
     "text": [
      "\n",
      "NBBO price: 19.07450730994152\n",
      "Internal price: 19.08404456359649\n",
      "Requoting: 19.074502541314693 @ 19.093586585878285\n"
     ]
    },
    {
     "name": "stderr",
     "output_type": "stream",
     "text": [
      "INFO:zetamarkets_py.client.Client:Replacing SOL orders: 0.001x Bid @ $19.074471939455357, 0.001x Ask @ $19.093555953401783\n"
     ]
    },
    {
     "name": "stdout",
     "output_type": "stream",
     "text": [
      "\n",
      "NBBO price: 19.074476708074535\n",
      "Internal price: 19.08401394642857\n",
      "Requoting: 19.074471939455357 @ 19.093555953401783\n"
     ]
    },
    {
     "name": "stderr",
     "output_type": "stream",
     "text": [
      "INFO:zetamarkets_py.client.Client:Replacing SOL orders: 0.001x Bid @ $19.07447516965162, 0.001x Ask @ $19.093559186829857\n"
     ]
    },
    {
     "name": "stdout",
     "output_type": "stream",
     "text": [
      "\n",
      "NBBO price: 19.074479938271605\n",
      "Internal price: 19.08401717824074\n",
      "Requoting: 19.07447516965162 @ 19.093559186829857\n"
     ]
    },
    {
     "name": "stderr",
     "output_type": "stream",
     "text": [
      "INFO:zetamarkets_py.client.Client:Replacing SOL orders: 0.001x Bid @ $19.074442070468752, 0.001x Ask @ $19.09352605453125\n"
     ]
    },
    {
     "name": "stdout",
     "output_type": "stream",
     "text": [
      "\n",
      "NBBO price: 19.074446839080462\n",
      "Internal price: 19.0839840625\n",
      "Requoting: 19.074442070468752 @ 19.09352605453125\n"
     ]
    },
    {
     "name": "stderr",
     "output_type": "stream",
     "text": [
      "INFO:zetamarkets_py.client.Client:Replacing SOL orders: 0.001x Bid @ $19.074449909748903, 0.001x Ask @ $19.093533901654606\n"
     ]
    },
    {
     "name": "stdout",
     "output_type": "stream",
     "text": [
      "\n",
      "NBBO price: 19.074454678362574\n",
      "Internal price: 19.083991905701755\n",
      "Requoting: 19.074449909748903 @ 19.093533901654606\n"
     ]
    },
    {
     "name": "stderr",
     "output_type": "stream",
     "text": [
      "INFO:zetamarkets_py.client.Client:Replacing SOL orders: 0.001x Bid @ $19.074553811242012, 0.001x Ask @ $19.093637907101183\n"
     ]
    },
    {
     "name": "stdout",
     "output_type": "stream",
     "text": [
      "\n",
      "NBBO price: 19.074558579881657\n",
      "Internal price: 19.084095859171597\n",
      "Requoting: 19.074553811242012 @ 19.093637907101183\n"
     ]
    },
    {
     "name": "stderr",
     "output_type": "stream",
     "text": [
      "INFO:zetamarkets_py.client.Client:Replacing SOL orders: 0.001x Bid @ $19.074559824660284, 0.001x Ask @ $19.093643926535883\n"
     ]
    },
    {
     "name": "stdout",
     "output_type": "stream",
     "text": [
      "\n",
      "NBBO price: 19.074564593301435\n",
      "Internal price: 19.084101875598083\n",
      "Requoting: 19.074559824660284 @ 19.093643926535883\n"
     ]
    },
    {
     "name": "stderr",
     "output_type": "stream",
     "text": [
      "INFO:zetamarkets_py.client.Client:Replacing SOL orders: 0.001x Bid @ $19.074560344859318, 0.001x Ask @ $19.093644447255375\n"
     ]
    },
    {
     "name": "stdout",
     "output_type": "stream",
     "text": [
      "\n",
      "NBBO price: 19.074565113500597\n",
      "Internal price: 19.084102396057347\n",
      "Requoting: 19.074560344859318 @ 19.093644447255375\n"
     ]
    },
    {
     "name": "stderr",
     "output_type": "stream",
     "text": [
      "INFO:zetamarkets_py.client.Client:Replacing SOL orders: 0.001x Bid @ $19.074541931238794, 0.001x Ask @ $19.09362601521202\n"
     ]
    },
    {
     "name": "stdout",
     "output_type": "stream",
     "text": [
      "\n",
      "NBBO price: 19.07454669987547\n",
      "Internal price: 19.084083973225408\n",
      "Requoting: 19.074541931238794 @ 19.09362601521202\n"
     ]
    },
    {
     "name": "stderr",
     "output_type": "stream",
     "text": [
      "INFO:zetamarkets_py.client.Client:Replacing SOL orders: 0.001x Bid @ $19.07454136602681, 0.001x Ask @ $19.093625449434537\n"
     ]
    },
    {
     "name": "stdout",
     "output_type": "stream",
     "text": [
      "\n",
      "NBBO price: 19.074546134663343\n",
      "Internal price: 19.084083407730674\n",
      "Requoting: 19.07454136602681 @ 19.093625449434537\n"
     ]
    },
    {
     "name": "stderr",
     "output_type": "stream",
     "text": [
      "INFO:zetamarkets_py.client.Client:Replacing SOL orders: 0.001x Bid @ $19.074540799403557, 0.001x Ask @ $19.093624882244377\n"
     ]
    },
    {
     "name": "stdout",
     "output_type": "stream",
     "text": [
      "\n",
      "NBBO price: 19.074545568039948\n",
      "Internal price: 19.084082840823967\n",
      "Requoting: 19.074540799403557 @ 19.093624882244377\n"
     ]
    },
    {
     "name": "stderr",
     "output_type": "stream",
     "text": [
      "INFO:zetamarkets_py.client.Client:Replacing SOL orders: 0.001x Bid @ $19.07455548777019, 0.001x Ask @ $19.093639585306725\n"
     ]
    },
    {
     "name": "stdout",
     "output_type": "stream",
     "text": [
      "\n",
      "NBBO price: 19.074560256410255\n",
      "Internal price: 19.084097536538458\n",
      "Requoting: 19.07455548777019 @ 19.093639585306725\n"
     ]
    },
    {
     "name": "stderr",
     "output_type": "stream",
     "text": [
      "INFO:zetamarkets_py.client.Client:Replacing SOL orders: 0.001x Bid @ $19.074538763702428, 0.001x Ask @ $19.093622844506527\n"
     ]
    },
    {
     "name": "stdout",
     "output_type": "stream",
     "text": [
      "\n",
      "NBBO price: 19.07454353233831\n",
      "Internal price: 19.084080804104477\n",
      "Requoting: 19.074538763702428 @ 19.093622844506527\n"
     ]
    },
    {
     "name": "stderr",
     "output_type": "stream",
     "text": [
      "INFO:zetamarkets_py.client.Client:Replacing SOL orders: 0.001x Bid @ $19.0745307705818, 0.001x Ask @ $19.09361484338878\n"
     ]
    },
    {
     "name": "stdout",
     "output_type": "stream",
     "text": [
      "\n",
      "NBBO price: 19.074535539215685\n",
      "Internal price: 19.08407280698529\n",
      "Requoting: 19.0745307705818 @ 19.09361484338878\n"
     ]
    },
    {
     "name": "stderr",
     "output_type": "stream",
     "text": [
      "INFO:zetamarkets_py.client.Client:Replacing SOL orders: 0.001x Bid @ $19.074529056704797, 0.001x Ask @ $19.09361312779705\n"
     ]
    },
    {
     "name": "stdout",
     "output_type": "stream",
     "text": [
      "\n",
      "NBBO price: 19.074533825338253\n",
      "Internal price: 19.084071092250923\n",
      "Requoting: 19.074529056704797 @ 19.09361312779705\n"
     ]
    },
    {
     "name": "stderr",
     "output_type": "stream",
     "text": [
      "INFO:zetamarkets_py.client.Client:Replacing SOL orders: 0.001x Bid @ $19.074525793714546, 0.001x Ask @ $19.093609861542173\n"
     ]
    },
    {
     "name": "stdout",
     "output_type": "stream",
     "text": [
      "\n",
      "NBBO price: 19.07453056234719\n",
      "Internal price: 19.08406782762836\n",
      "Requoting: 19.074525793714546 @ 19.093609861542173\n"
     ]
    },
    {
     "name": "stderr",
     "output_type": "stream",
     "text": [
      "INFO:zetamarkets_py.client.Client:Replacing SOL orders: 0.001x Bid @ $19.07447478939116, 0.001x Ask @ $19.093558806188952\n"
     ]
    },
    {
     "name": "stdout",
     "output_type": "stream",
     "text": [
      "\n",
      "NBBO price: 19.074479558011053\n",
      "Internal price: 19.084016797790056\n",
      "Requoting: 19.07447478939116 @ 19.093558806188952\n"
     ]
    },
    {
     "name": "stderr",
     "output_type": "stream",
     "text": [
      "INFO:zetamarkets_py.client.Client:Replacing SOL orders: 0.001x Bid @ $19.07445756015154, 0.001x Ask @ $19.093541559711472\n"
     ]
    },
    {
     "name": "stdout",
     "output_type": "stream",
     "text": [
      "\n",
      "NBBO price: 19.074462328767122\n",
      "Internal price: 19.083999559931506\n",
      "Requoting: 19.07445756015154 @ 19.093541559711472\n"
     ]
    },
    {
     "name": "stderr",
     "output_type": "stream",
     "text": [
      "INFO:zetamarkets_py.client.Client:Replacing SOL orders: 0.001x Bid @ $19.074329977179026, 0.001x Ask @ $19.09341384909216\n"
     ]
    },
    {
     "name": "stdout",
     "output_type": "stream",
     "text": [
      "\n",
      "NBBO price: 19.074334745762712\n",
      "Internal price: 19.083871913135592\n",
      "Requoting: 19.074329977179026 @ 19.09341384909216\n"
     ]
    },
    {
     "name": "stderr",
     "output_type": "stream",
     "text": [
      "INFO:zetamarkets_py.client.Client:Replacing SOL orders: 0.001x Bid @ $19.07432903423345, 0.001x Ask @ $19.093412905203166\n"
     ]
    },
    {
     "name": "stdout",
     "output_type": "stream",
     "text": [
      "\n",
      "NBBO price: 19.074333802816902\n",
      "Internal price: 19.08387096971831\n",
      "Requoting: 19.07432903423345 @ 19.093412905203166\n"
     ]
    },
    {
     "name": "stderr",
     "output_type": "stream",
     "text": [
      "INFO:zetamarkets_py.client.Client:Replacing SOL orders: 0.001x Bid @ $19.07434790998326, 0.001x Ask @ $19.09343179983817\n"
     ]
    },
    {
     "name": "stdout",
     "output_type": "stream",
     "text": [
      "\n",
      "NBBO price: 19.07435267857143\n",
      "Internal price: 19.083889854910716\n",
      "Requoting: 19.07434790998326 @ 19.09343179983817\n"
     ]
    },
    {
     "name": "stderr",
     "output_type": "stream",
     "text": [
      "INFO:zetamarkets_py.client.Client:Replacing SOL orders: 0.001x Bid @ $19.074329977179026, 0.001x Ask @ $19.09341384909216\n"
     ]
    },
    {
     "name": "stdout",
     "output_type": "stream",
     "text": [
      "\n",
      "NBBO price: 19.074334745762712\n",
      "Internal price: 19.083871913135592\n",
      "Requoting: 19.074329977179026 @ 19.09341384909216\n"
     ]
    },
    {
     "name": "stderr",
     "output_type": "stream",
     "text": [
      "INFO:zetamarkets_py.client.Client:Replacing SOL orders: 0.001x Bid @ $19.0741341711362, 0.001x Ask @ $19.09321784714534\n"
     ]
    },
    {
     "name": "stdout",
     "output_type": "stream",
     "text": [
      "\n",
      "NBBO price: 19.074138939670934\n",
      "Internal price: 19.08367600914077\n",
      "Requoting: 19.0741341711362 @ 19.09321784714534\n"
     ]
    },
    {
     "name": "stderr",
     "output_type": "stream",
     "text": [
      "INFO:zetamarkets_py.client.Client:Replacing SOL orders: 0.001x Bid @ $19.07413341328364, 0.001x Ask @ $19.093217088534544\n"
     ]
    },
    {
     "name": "stdout",
     "output_type": "stream",
     "text": [
      "\n",
      "NBBO price: 19.074138181818185\n",
      "Internal price: 19.083675250909092\n",
      "Requoting: 19.07413341328364 @ 19.093217088534544\n"
     ]
    },
    {
     "name": "stderr",
     "output_type": "stream",
     "text": [
      "INFO:zetamarkets_py.client.Client:Replacing SOL orders: 0.001x Bid @ $19.074126040417383, 0.001x Ask @ $19.093209708291738\n"
     ]
    },
    {
     "name": "stdout",
     "output_type": "stream",
     "text": [
      "\n",
      "NBBO price: 19.074130808950088\n",
      "Internal price: 19.08366787435456\n",
      "Requoting: 19.074126040417383 @ 19.093209708291738\n"
     ]
    },
    {
     "name": "stderr",
     "output_type": "stream",
     "text": [
      "INFO:zetamarkets_py.client.Client:Replacing SOL orders: 0.001x Bid @ $19.07410197304635, 0.001x Ask @ $19.093185616841293\n"
     ]
    },
    {
     "name": "stdout",
     "output_type": "stream",
     "text": [
      "\n",
      "NBBO price: 19.074106741573036\n",
      "Internal price: 19.08364379494382\n",
      "Requoting: 19.07410197304635 @ 19.093185616841293\n"
     ]
    },
    {
     "name": "stderr",
     "output_type": "stream",
     "text": [
      "INFO:zetamarkets_py.client.Client:Replacing SOL orders: 0.001x Bid @ $19.07410182333871, 0.001x Ask @ $19.093185466983872\n"
     ]
    },
    {
     "name": "stdout",
     "output_type": "stream",
     "text": [
      "\n",
      "NBBO price: 19.07410659186536\n",
      "Internal price: 19.083643645161292\n",
      "Requoting: 19.07410182333871 @ 19.093185466983872\n"
     ]
    },
    {
     "name": "stderr",
     "output_type": "stream",
     "text": [
      "INFO:zetamarkets_py.client.Client:Replacing SOL orders: 0.001x Bid @ $19.07408814101223, 0.001x Ask @ $19.093171770968215\n"
     ]
    },
    {
     "name": "stdout",
     "output_type": "stream",
     "text": [
      "\n",
      "NBBO price: 19.074092909535455\n",
      "Internal price: 19.083629955990222\n",
      "Requoting: 19.07408814101223 @ 19.093171770968215\n"
     ]
    },
    {
     "name": "stderr",
     "output_type": "stream",
     "text": [
      "INFO:zetamarkets_py.client.Client:Replacing SOL orders: 0.001x Bid @ $19.074099198642273, 0.001x Ask @ $19.093182839661424\n"
     ]
    },
    {
     "name": "stdout",
     "output_type": "stream",
     "text": [
      "\n",
      "NBBO price: 19.074103967168266\n",
      "Internal price: 19.083641019151848\n",
      "Requoting: 19.074099198642273 @ 19.093182839661424\n"
     ]
    },
    {
     "name": "stderr",
     "output_type": "stream",
     "text": [
      "INFO:zetamarkets_py.client.Client:Replacing SOL orders: 0.001x Bid @ $19.07408081706419, 0.001x Ask @ $19.09316443969257\n"
     ]
    },
    {
     "name": "stdout",
     "output_type": "stream",
     "text": [
      "\n",
      "NBBO price: 19.074085585585586\n",
      "Internal price: 19.08362262837838\n",
      "Requoting: 19.07408081706419 @ 19.09316443969257\n"
     ]
    },
    {
     "name": "stderr",
     "output_type": "stream",
     "text": [
      "INFO:zetamarkets_py.client.Client:Replacing SOL orders: 0.001x Bid @ $19.074071767231114, 0.001x Ask @ $19.093155380805133\n"
     ]
    },
    {
     "name": "stdout",
     "output_type": "stream",
     "text": [
      "\n",
      "NBBO price: 19.07407653575025\n",
      "Internal price: 19.083613574018123\n",
      "Requoting: 19.074071767231114 @ 19.093155380805133\n"
     ]
    },
    {
     "name": "stderr",
     "output_type": "stream",
     "text": [
      "INFO:zetamarkets_py.client.Client:Replacing SOL orders: 0.001x Bid @ $19.074086140568184, 0.001x Ask @ $19.093169768522728\n"
     ]
    },
    {
     "name": "stdout",
     "output_type": "stream",
     "text": [
      "\n",
      "NBBO price: 19.074090909090913\n",
      "Internal price: 19.083627954545456\n",
      "Requoting: 19.074086140568184 @ 19.093169768522728\n"
     ]
    },
    {
     "name": "stderr",
     "output_type": "stream",
     "text": [
      "INFO:zetamarkets_py.client.Client:Replacing SOL orders: 0.001x Bid @ $19.074099198642273, 0.001x Ask @ $19.093182839661424\n"
     ]
    },
    {
     "name": "stdout",
     "output_type": "stream",
     "text": [
      "\n",
      "NBBO price: 19.074103967168266\n",
      "Internal price: 19.083641019151848\n",
      "Requoting: 19.074099198642273 @ 19.093182839661424\n"
     ]
    },
    {
     "name": "stderr",
     "output_type": "stream",
     "text": [
      "INFO:zetamarkets_py.client.Client:Replacing SOL orders: 0.001x Bid @ $19.074085600086207, 0.001x Ask @ $19.0931692275\n"
     ]
    },
    {
     "name": "stdout",
     "output_type": "stream",
     "text": [
      "\n",
      "NBBO price: 19.0740903686088\n",
      "Internal price: 19.083627413793103\n",
      "Requoting: 19.074085600086207 @ 19.0931692275\n"
     ]
    },
    {
     "name": "stderr",
     "output_type": "stream",
     "text": [
      "INFO:zetamarkets_py.client.Client:Replacing SOL orders: 0.001x Bid @ $19.074084016524534, 0.001x Ask @ $19.093167642353972\n"
     ]
    },
    {
     "name": "stdout",
     "output_type": "stream",
     "text": [
      "\n",
      "NBBO price: 19.07408878504673\n",
      "Internal price: 19.083625829439253\n",
      "Requoting: 19.074084016524534 @ 19.093167642353972\n"
     ]
    },
    {
     "name": "stderr",
     "output_type": "stream",
     "text": [
      "INFO:zetamarkets_py.client.Client:Replacing SOL orders: 0.001x Bid @ $19.074082789081796, 0.001x Ask @ $19.093166413683175\n"
     ]
    },
    {
     "name": "stdout",
     "output_type": "stream",
     "text": [
      "\n",
      "NBBO price: 19.074087557603686\n",
      "Internal price: 19.083624601382486\n",
      "Requoting: 19.074082789081796 @ 19.093166413683175\n"
     ]
    },
    {
     "name": "stderr",
     "output_type": "stream",
     "text": [
      "INFO:zetamarkets_py.client.Client:Replacing SOL orders: 0.001x Bid @ $19.074082890070933, 0.001x Ask @ $19.09316651477335\n"
     ]
    },
    {
     "name": "stdout",
     "output_type": "stream",
     "text": [
      "\n",
      "NBBO price: 19.07408765859285\n",
      "Internal price: 19.083624702422142\n",
      "Requoting: 19.074082890070933 @ 19.09316651477335\n"
     ]
    },
    {
     "name": "stderr",
     "output_type": "stream",
     "text": [
      "INFO:zetamarkets_py.client.Client:Replacing SOL orders: 0.001x Bid @ $19.07408339853132, 0.001x Ask @ $19.09316702374246\n"
     ]
    },
    {
     "name": "stdout",
     "output_type": "stream",
     "text": [
      "\n",
      "NBBO price: 19.074088167053365\n",
      "Internal price: 19.08362521113689\n",
      "Requoting: 19.07408339853132 @ 19.09316702374246\n"
     ]
    },
    {
     "name": "stderr",
     "output_type": "stream",
     "text": [
      "INFO:zetamarkets_py.client.Client:Replacing SOL orders: 0.001x Bid @ $19.074083194440977, 0.001x Ask @ $19.09316681944792\n"
     ]
    },
    {
     "name": "stdout",
     "output_type": "stream",
     "text": [
      "\n",
      "NBBO price: 19.074087962962967\n",
      "Internal price: 19.083625006944448\n",
      "Requoting: 19.074083194440977 @ 19.09316681944792\n"
     ]
    },
    {
     "name": "stderr",
     "output_type": "stream",
     "text": [
      "INFO:zetamarkets_py.client.Client:Replacing SOL orders: 0.001x Bid @ $19.074085300761546, 0.001x Ask @ $19.093168927875865\n"
     ]
    },
    {
     "name": "stdout",
     "output_type": "stream",
     "text": [
      "\n",
      "NBBO price: 19.074090069284065\n",
      "Internal price: 19.083627114318706\n",
      "Requoting: 19.074085300761546 @ 19.093168927875865\n"
     ]
    },
    {
     "name": "stderr",
     "output_type": "stream",
     "text": [
      "INFO:zetamarkets_py.client.Client:Replacing SOL orders: 0.001x Bid @ $19.074075561037077, 0.001x Ask @ $19.093159178406793\n"
     ]
    },
    {
     "name": "stdout",
     "output_type": "stream",
     "text": [
      "\n",
      "NBBO price: 19.07408032955716\n",
      "Internal price: 19.083617369721935\n",
      "Requoting: 19.074075561037077 @ 19.093159178406793\n"
     ]
    },
    {
     "name": "stderr",
     "output_type": "stream",
     "text": [
      "INFO:zetamarkets_py.client.Client:Replacing SOL orders: 0.001x Bid @ $19.074074612923454, 0.001x Ask @ $19.09315822934459\n"
     ]
    },
    {
     "name": "stdout",
     "output_type": "stream",
     "text": [
      "\n",
      "NBBO price: 19.0740793814433\n",
      "Internal price: 19.08361642113402\n",
      "Requoting: 19.074074612923454 @ 19.09315822934459\n"
     ]
    },
    {
     "name": "stderr",
     "output_type": "stream",
     "text": [
      "INFO:zetamarkets_py.client.Client:Replacing SOL orders: 0.001x Bid @ $19.07405610105, 0.001x Ask @ $19.09313969895\n"
     ]
    },
    {
     "name": "stdout",
     "output_type": "stream",
     "text": [
      "\n",
      "NBBO price: 19.07406086956522\n",
      "Internal price: 19.0835979\n",
      "Requoting: 19.07405610105 @ 19.09313969895\n"
     ]
    },
    {
     "name": "stderr",
     "output_type": "stream",
     "text": [
      "INFO:zetamarkets_py.client.Client:Replacing SOL orders: 0.001x Bid @ $19.074015033475245, 0.001x Ask @ $19.093098590287124\n"
     ]
    },
    {
     "name": "stdout",
     "output_type": "stream",
     "text": [
      "\n",
      "NBBO price: 19.074019801980196\n",
      "Internal price: 19.083556811881184\n",
      "Requoting: 19.074015033475245 @ 19.093098590287124\n"
     ]
    },
    {
     "name": "stderr",
     "output_type": "stream",
     "text": [
      "INFO:zetamarkets_py.client.Client:Replacing SOL orders: 0.001x Bid @ $19.074015331997487, 0.001x Ask @ $19.093098889108035\n"
     ]
    },
    {
     "name": "stdout",
     "output_type": "stream",
     "text": [
      "\n",
      "NBBO price: 19.074020100502512\n",
      "Internal price: 19.08355711055276\n",
      "Requoting: 19.074015331997487 @ 19.093098889108035\n"
     ]
    },
    {
     "name": "stderr",
     "output_type": "stream",
     "text": [
      "INFO:zetamarkets_py.client.Client:Replacing SOL orders: 0.001x Bid @ $19.074015315176986, 0.001x Ask @ $19.09309887227071\n"
     ]
    },
    {
     "name": "stdout",
     "output_type": "stream",
     "text": [
      "\n",
      "NBBO price: 19.074020083682008\n",
      "Internal price: 19.083557093723847\n",
      "Requoting: 19.074015315176986 @ 19.09309887227071\n"
     ]
    },
    {
     "name": "stderr",
     "output_type": "stream",
     "text": [
      "INFO:zetamarkets_py.client.Client:Replacing SOL orders: 0.001x Bid @ $19.074015248175563, 0.001x Ask @ $19.093098805202253\n"
     ]
    },
    {
     "name": "stdout",
     "output_type": "stream",
     "text": [
      "\n",
      "NBBO price: 19.074020016680567\n",
      "Internal price: 19.083557026688908\n",
      "Requoting: 19.074015248175563 @ 19.093098805202253\n"
     ]
    },
    {
     "name": "stderr",
     "output_type": "stream",
     "text": [
      "INFO:zetamarkets_py.client.Client:Replacing SOL orders: 0.001x Bid @ $19.0753266542808, 0.001x Ask @ $19.094411523369622\n"
     ]
    },
    {
     "name": "stdout",
     "output_type": "stream",
     "text": [
      "\n",
      "NBBO price: 19.075331423113656\n",
      "Internal price: 19.08486908882521\n",
      "Requoting: 19.0753266542808 @ 19.094411523369622\n"
     ]
    },
    {
     "name": "stderr",
     "output_type": "stream",
     "text": [
      "INFO:zetamarkets_py.client.Client:Replacing SOL orders: 0.001x Bid @ $19.07530897439037, 0.001x Ask @ $19.09439382579046\n"
     ]
    },
    {
     "name": "stdout",
     "output_type": "stream",
     "text": [
      "\n",
      "NBBO price: 19.075313743218807\n",
      "Internal price: 19.084851400090415\n",
      "Requoting: 19.07530897439037 @ 19.09439382579046\n"
     ]
    },
    {
     "name": "stderr",
     "output_type": "stream",
     "text": [
      "INFO:zetamarkets_py.client.Client:Replacing SOL orders: 0.001x Bid @ $19.075308125671327, 0.001x Ask @ $19.094392976222274\n"
     ]
    },
    {
     "name": "stdout",
     "output_type": "stream",
     "text": [
      "\n",
      "NBBO price: 19.07531289449955\n",
      "Internal price: 19.0848505509468\n",
      "Requoting: 19.075308125671327 @ 19.094392976222274\n"
     ]
    },
    {
     "name": "stderr",
     "output_type": "stream",
     "text": [
      "INFO:zetamarkets_py.client.Client:Replacing SOL orders: 0.001x Bid @ $19.075306721297803, 0.001x Ask @ $19.094391570443673\n"
     ]
    },
    {
     "name": "stdout",
     "output_type": "stream",
     "text": [
      "\n",
      "NBBO price: 19.075311490125674\n",
      "Internal price: 19.084849145870738\n",
      "Requoting: 19.075306721297803 @ 19.094391570443673\n"
     ]
    },
    {
     "name": "stderr",
     "output_type": "stream",
     "text": [
      "INFO:zetamarkets_py.client.Client:Replacing SOL orders: 0.001x Bid @ $19.07529644645247, 0.001x Ask @ $19.094381285318356\n"
     ]
    },
    {
     "name": "stdout",
     "output_type": "stream",
     "text": [
      "\n",
      "NBBO price: 19.075301215277776\n",
      "Internal price: 19.084838865885413\n",
      "Requoting: 19.07529644645247 @ 19.094381285318356\n"
     ]
    },
    {
     "name": "stderr",
     "output_type": "stream",
     "text": [
      "INFO:zetamarkets_py.client.Client:Replacing SOL orders: 0.001x Bid @ $19.075289798239176, 0.001x Ask @ $19.094374630453522\n"
     ]
    },
    {
     "name": "stdout",
     "output_type": "stream",
     "text": [
      "\n",
      "NBBO price: 19.07529456706282\n",
      "Internal price: 19.08483221434635\n",
      "Requoting: 19.075289798239176 @ 19.094374630453522\n"
     ]
    },
    {
     "name": "stderr",
     "output_type": "stream",
     "text": [
      "INFO:zetamarkets_py.client.Client:Replacing SOL orders: 0.001x Bid @ $19.0752829592046, 0.001x Ask @ $19.09436778457649\n"
     ]
    },
    {
     "name": "stdout",
     "output_type": "stream",
     "text": [
      "\n",
      "NBBO price: 19.075287728026534\n",
      "Internal price: 19.084825371890545\n",
      "Requoting: 19.0752829592046 @ 19.09436778457649\n"
     ]
    },
    {
     "name": "stderr",
     "output_type": "stream",
     "text": [
      "INFO:zetamarkets_py.client.Client:Replacing SOL orders: 0.001x Bid @ $19.07527106583923, 0.001x Ask @ $19.094355879311806\n"
     ]
    },
    {
     "name": "stdout",
     "output_type": "stream",
     "text": [
      "\n",
      "NBBO price: 19.07527583465819\n",
      "Internal price: 19.08481347257552\n",
      "Requoting: 19.07527106583923 @ 19.094355879311806\n"
     ]
    },
    {
     "name": "stderr",
     "output_type": "stream",
     "text": [
      "INFO:zetamarkets_py.client.Client:Replacing SOL orders: 0.001x Bid @ $19.075270191561607, 0.001x Ask @ $19.094355004159468\n"
     ]
    },
    {
     "name": "stdout",
     "output_type": "stream",
     "text": [
      "\n",
      "NBBO price: 19.075274960380348\n",
      "Internal price: 19.084812597860537\n",
      "Requoting: 19.075270191561607 @ 19.094355004159468\n"
     ]
    },
    {
     "name": "stderr",
     "output_type": "stream",
     "text": [
      "INFO:zetamarkets_py.client.Client:Replacing SOL orders: 0.001x Bid @ $19.0752466804625, 0.001x Ask @ $19.094331469537494\n"
     ]
    },
    {
     "name": "stdout",
     "output_type": "stream",
     "text": [
      "\n",
      "NBBO price: 19.07525144927536\n",
      "Internal price: 19.084789074999996\n",
      "Requoting: 19.0752466804625 @ 19.094331469537494\n"
     ]
    },
    {
     "name": "stderr",
     "output_type": "stream",
     "text": [
      "INFO:zetamarkets_py.client.Client:Replacing SOL orders: 0.001x Bid @ $19.075245953730672, 0.001x Ask @ $19.094330742078576\n"
     ]
    },
    {
     "name": "stdout",
     "output_type": "stream",
     "text": [
      "\n",
      "NBBO price: 19.075250722543352\n",
      "Internal price: 19.084788347904624\n",
      "Requoting: 19.075245953730672 @ 19.094330742078576\n"
     ]
    },
    {
     "name": "stderr",
     "output_type": "stream",
     "text": [
      "INFO:zetamarkets_py.client.Client:Replacing SOL orders: 0.001x Bid @ $19.07524505120194, 0.001x Ask @ $19.094329838646864\n"
     ]
    },
    {
     "name": "stdout",
     "output_type": "stream",
     "text": [
      "\n",
      "NBBO price: 19.075249820014395\n",
      "Internal price: 19.0847874449244\n",
      "Requoting: 19.07524505120194 @ 19.094329838646864\n"
     ]
    },
    {
     "name": "stderr",
     "output_type": "stream",
     "text": [
      "INFO:zetamarkets_py.client.Client:Replacing SOL orders: 0.001x Bid @ $19.0752501907748, 0.001x Ask @ $19.094334983361865\n"
     ]
    },
    {
     "name": "stdout",
     "output_type": "stream",
     "text": [
      "\n",
      "NBBO price: 19.075254959588538\n",
      "Internal price: 19.084792587068332\n",
      "Requoting: 19.0752501907748 @ 19.094334983361865\n"
     ]
    },
    {
     "name": "stderr",
     "output_type": "stream",
     "text": [
      "INFO:zetamarkets_py.client.Client:Replacing SOL orders: 0.001x Bid @ $19.075255741695383, 0.001x Ask @ $19.09434053983615\n"
     ]
    },
    {
     "name": "stdout",
     "output_type": "stream",
     "text": [
      "\n",
      "NBBO price: 19.07526051051051\n",
      "Internal price: 19.084798140765766\n",
      "Requoting: 19.075255741695383 @ 19.09434053983615\n"
     ]
    },
    {
     "name": "stderr",
     "output_type": "stream",
     "text": [
      "INFO:zetamarkets_py.client.Client:Replacing SOL orders: 0.001x Bid @ $19.075256329755078, 0.001x Ask @ $19.094341128484196\n"
     ]
    },
    {
     "name": "stdout",
     "output_type": "stream",
     "text": [
      "\n",
      "NBBO price: 19.07526109857035\n",
      "Internal price: 19.084798729119637\n",
      "Requoting: 19.075256329755078 @ 19.094341128484196\n"
     ]
    },
    {
     "name": "stderr",
     "output_type": "stream",
     "text": [
      "INFO:zetamarkets_py.client.Client:Replacing SOL orders: 0.001x Bid @ $19.07526194909262, 0.001x Ask @ $19.094346753443887\n"
     ]
    },
    {
     "name": "stdout",
     "output_type": "stream",
     "text": [
      "\n",
      "NBBO price: 19.0752667179093\n",
      "Internal price: 19.084804351268254\n",
      "Requoting: 19.07526194909262 @ 19.094346753443887\n"
     ]
    },
    {
     "name": "stderr",
     "output_type": "stream",
     "text": [
      "INFO:zetamarkets_py.client.Client:Replacing SOL orders: 0.001x Bid @ $19.075253993303132, 0.001x Ask @ $19.09433878969463\n"
     ]
    },
    {
     "name": "stdout",
     "output_type": "stream",
     "text": [
      "\n",
      "NBBO price: 19.075258762117823\n",
      "Internal price: 19.08479639149888\n",
      "Requoting: 19.075253993303132 @ 19.09433878969463\n"
     ]
    },
    {
     "name": "stderr",
     "output_type": "stream",
     "text": [
      "INFO:zetamarkets_py.client.Client:Replacing SOL orders: 0.001x Bid @ $19.075261539702225, 0.001x Ask @ $19.0943463436439\n"
     ]
    },
    {
     "name": "stdout",
     "output_type": "stream",
     "text": [
      "\n",
      "NBBO price: 19.075266308518803\n",
      "Internal price: 19.084803941673062\n",
      "Requoting: 19.075261539702225 @ 19.0943463436439\n"
     ]
    },
    {
     "name": "stderr",
     "output_type": "stream",
     "text": [
      "INFO:zetamarkets_py.client.Client:Replacing SOL orders: 0.001x Bid @ $19.075269539481816, 0.001x Ask @ $19.09435435142727\n"
     ]
    },
    {
     "name": "stdout",
     "output_type": "stream",
     "text": [
      "\n",
      "NBBO price: 19.075274308300393\n",
      "Internal price: 19.084811945454543\n",
      "Requoting: 19.075269539481816 @ 19.09435435142727\n"
     ]
    },
    {
     "name": "stderr",
     "output_type": "stream",
     "text": [
      "INFO:zetamarkets_py.client.Client:Replacing SOL orders: 0.001x Bid @ $19.075275748560628, 0.001x Ask @ $19.094360566718265\n"
     ]
    },
    {
     "name": "stdout",
     "output_type": "stream",
     "text": [
      "\n",
      "NBBO price: 19.075280517380758\n",
      "Internal price: 19.084818157639447\n",
      "Requoting: 19.075275748560628 @ 19.094360566718265\n"
     ]
    },
    {
     "name": "stderr",
     "output_type": "stream",
     "text": [
      "INFO:zetamarkets_py.client.Client:Replacing SOL orders: 0.001x Bid @ $19.075284639017514, 0.001x Ask @ $19.09436946607006\n"
     ]
    },
    {
     "name": "stdout",
     "output_type": "stream",
     "text": [
      "\n",
      "NBBO price: 19.07528940783987\n",
      "Internal price: 19.084827052543787\n",
      "Requoting: 19.075284639017514 @ 19.09436946607006\n"
     ]
    },
    {
     "name": "stderr",
     "output_type": "stream",
     "text": [
      "INFO:zetamarkets_py.client.Client:Replacing SOL orders: 0.001x Bid @ $19.07504539846154, 0.001x Ask @ $19.094129986153845\n"
     ]
    },
    {
     "name": "stdout",
     "output_type": "stream",
     "text": [
      "\n",
      "NBBO price: 19.07505016722408\n",
      "Internal price: 19.084587692307693\n",
      "Requoting: 19.07504539846154 @ 19.094129986153845\n"
     ]
    },
    {
     "name": "stderr",
     "output_type": "stream",
     "text": [
      "INFO:zetamarkets_py.client.Client:Replacing SOL orders: 0.001x Bid @ $19.07504473618812, 0.001x Ask @ $19.09412932321782\n"
     ]
    },
    {
     "name": "stdout",
     "output_type": "stream",
     "text": [
      "\n",
      "NBBO price: 19.075049504950496\n",
      "Internal price: 19.08458702970297\n",
      "Requoting: 19.07504473618812 @ 19.09412932321782\n"
     ]
    },
    {
     "name": "stderr",
     "output_type": "stream",
     "text": [
      "INFO:zetamarkets_py.client.Client:Replacing SOL orders: 0.001x Bid @ $19.07503260665594, 0.001x Ask @ $19.094117181550043\n"
     ]
    },
    {
     "name": "stdout",
     "output_type": "stream",
     "text": [
      "\n",
      "NBBO price: 19.075037375415285\n",
      "Internal price: 19.084574894102992\n",
      "Requoting: 19.07503260665594 @ 19.094117181550043\n"
     ]
    },
    {
     "name": "stderr",
     "output_type": "stream",
     "text": [
      "INFO:zetamarkets_py.client.Client:Replacing SOL orders: 0.001x Bid @ $19.07503180646945, 0.001x Ask @ $19.094116380562962\n"
     ]
    },
    {
     "name": "stdout",
     "output_type": "stream",
     "text": [
      "\n",
      "NBBO price: 19.075036575228594\n",
      "Internal price: 19.084574093516206\n",
      "Requoting: 19.07503180646945 @ 19.094116380562962\n"
     ]
    },
    {
     "name": "stderr",
     "output_type": "stream",
     "text": [
      "INFO:zetamarkets_py.client.Client:Replacing SOL orders: 0.001x Bid @ $19.07502291580684, 0.001x Ask @ $19.094107481005246\n"
     ]
    },
    {
     "name": "stdout",
     "output_type": "stream",
     "text": [
      "\n",
      "NBBO price: 19.07502768456376\n",
      "Internal price: 19.084565198406043\n",
      "Requoting: 19.07502291580684 @ 19.094107481005246\n"
     ]
    },
    {
     "name": "stderr",
     "output_type": "stream",
     "text": [
      "INFO:zetamarkets_py.client.Client:Replacing SOL orders: 0.001x Bid @ $19.075022869434047, 0.001x Ask @ $19.094107434586054\n"
     ]
    },
    {
     "name": "stdout",
     "output_type": "stream",
     "text": [
      "\n",
      "NBBO price: 19.075027638190956\n",
      "Internal price: 19.08456515201005\n",
      "Requoting: 19.075022869434047 @ 19.094107434586054\n"
     ]
    },
    {
     "name": "stderr",
     "output_type": "stream",
     "text": [
      "INFO:zetamarkets_py.client.Client:Replacing SOL orders: 0.001x Bid @ $19.07502023124375, 0.001x Ask @ $19.094104793756248\n"
     ]
    },
    {
     "name": "stdout",
     "output_type": "stream",
     "text": [
      "\n",
      "NBBO price: 19.075025\n",
      "Internal price: 19.0845625125\n",
      "Requoting: 19.07502023124375 @ 19.094104793756248\n"
     ]
    },
    {
     "name": "stderr",
     "output_type": "stream",
     "text": [
      "INFO:zetamarkets_py.client.Client:Replacing SOL orders: 0.001x Bid @ $19.07501976655985, 0.001x Ask @ $19.094104328607433\n"
     ]
    },
    {
     "name": "stdout",
     "output_type": "stream",
     "text": [
      "\n",
      "NBBO price: 19.075024535315986\n",
      "Internal price: 19.084562047583642\n",
      "Requoting: 19.07501976655985 @ 19.094104328607433\n"
     ]
    },
    {
     "name": "stderr",
     "output_type": "stream",
     "text": [
      "INFO:zetamarkets_py.client.Client:Replacing SOL orders: 0.001x Bid @ $19.075019858109513, 0.001x Ask @ $19.09410442024869\n"
     ]
    },
    {
     "name": "stdout",
     "output_type": "stream",
     "text": [
      "\n",
      "NBBO price: 19.07502462686567\n",
      "Internal price: 19.084562139179102\n",
      "Requoting: 19.075019858109513 @ 19.09410442024869\n"
     ]
    },
    {
     "name": "stderr",
     "output_type": "stream",
     "text": [
      "INFO:zetamarkets_py.client.Client:Replacing SOL orders: 0.001x Bid @ $19.07501766496295, 0.001x Ask @ $19.094102224907886\n"
     ]
    },
    {
     "name": "stdout",
     "output_type": "stream",
     "text": [
      "\n",
      "NBBO price: 19.07502243371856\n",
      "Internal price: 19.084559944935418\n",
      "Requoting: 19.07501766496295 @ 19.094102224907886\n"
     ]
    },
    {
     "name": "stderr",
     "output_type": "stream",
     "text": [
      "INFO:zetamarkets_py.client.Client:Replacing SOL orders: 0.001x Bid @ $19.075017649722657, 0.001x Ask @ $19.094102209652345\n"
     ]
    },
    {
     "name": "stdout",
     "output_type": "stream",
     "text": [
      "\n",
      "NBBO price: 19.075022418478262\n",
      "Internal price: 19.0845599296875\n",
      "Requoting: 19.075017649722657 @ 19.094102209652345\n"
     ]
    },
    {
     "name": "stderr",
     "output_type": "stream",
     "text": [
      "INFO:zetamarkets_py.client.Client:Replacing SOL orders: 0.001x Bid @ $19.07501831338951, 0.001x Ask @ $19.094102873983193\n"
     ]
    },
    {
     "name": "stdout",
     "output_type": "stream",
     "text": [
      "\n",
      "NBBO price: 19.07502308214528\n",
      "Internal price: 19.08456059368635\n",
      "Requoting: 19.07501831338951 @ 19.094102873983193\n"
     ]
    },
    {
     "name": "stderr",
     "output_type": "stream",
     "text": [
      "INFO:zetamarkets_py.client.Client:Replacing SOL orders: 0.001x Bid @ $19.074996620138542, 0.001x Ask @ $19.09408115902812\n"
     ]
    },
    {
     "name": "stdout",
     "output_type": "stream",
     "text": [
      "\n",
      "NBBO price: 19.07500138888889\n",
      "Internal price: 19.08453888958333\n",
      "Requoting: 19.074996620138542 @ 19.09408115902812\n"
     ]
    },
    {
     "name": "stderr",
     "output_type": "stream",
     "text": [
      "INFO:zetamarkets_py.client.Client:Replacing SOL orders: 0.001x Bid @ $19.076028564325004, 0.001x Ask @ $19.095114135675\n"
     ]
    },
    {
     "name": "stdout",
     "output_type": "stream",
     "text": [
      "\n",
      "NBBO price: 19.076033333333335\n",
      "Internal price: 19.085571350000002\n",
      "Requoting: 19.076028564325004 @ 19.095114135675\n"
     ]
    },
    {
     "name": "stderr",
     "output_type": "stream",
     "text": [
      "INFO:zetamarkets_py.client.Client:Replacing SOL orders: 0.001x Bid @ $19.07600575731316, 0.001x Ask @ $19.095091305844736\n"
     ]
    },
    {
     "name": "stdout",
     "output_type": "stream",
     "text": [
      "\n",
      "NBBO price: 19.07601052631579\n",
      "Internal price: 19.085548531578947\n",
      "Requoting: 19.07600575731316 @ 19.095091305844736\n"
     ]
    },
    {
     "name": "stderr",
     "output_type": "stream",
     "text": [
      "INFO:zetamarkets_py.client.Client:Replacing SOL orders: 0.001x Bid @ $19.07600203371939, 0.001x Ask @ $19.095087578525508\n"
     ]
    },
    {
     "name": "stdout",
     "output_type": "stream",
     "text": [
      "\n",
      "NBBO price: 19.07600680272109\n",
      "Internal price: 19.08554480612245\n",
      "Requoting: 19.07600203371939 @ 19.095087578525508\n"
     ]
    },
    {
     "name": "stderr",
     "output_type": "stream",
     "text": [
      "INFO:zetamarkets_py.client.Client:Replacing SOL orders: 0.001x Bid @ $19.07599936323037, 0.001x Ask @ $19.09508490536467\n"
     ]
    },
    {
     "name": "stdout",
     "output_type": "stream",
     "text": [
      "\n",
      "NBBO price: 19.076004132231404\n",
      "Internal price: 19.08554213429752\n",
      "Requoting: 19.07599936323037 @ 19.09508490536467\n"
     ]
    },
    {
     "name": "stderr",
     "output_type": "stream",
     "text": [
      "INFO:zetamarkets_py.client.Client:Replacing SOL orders: 0.001x Bid @ $19.07599893470278, 0.001x Ask @ $19.09508447640833\n"
     ]
    },
    {
     "name": "stdout",
     "output_type": "stream",
     "text": [
      "\n",
      "NBBO price: 19.076003703703705\n",
      "Internal price: 19.085541705555556\n",
      "Requoting: 19.07599893470278 @ 19.09508447640833\n"
     ]
    },
    {
     "name": "stderr",
     "output_type": "stream",
     "text": [
      "INFO:zetamarkets_py.client.Client:Replacing SOL orders: 0.001x Bid @ $19.075998880634128, 0.001x Ask @ $19.095084422285584\n"
     ]
    },
    {
     "name": "stdout",
     "output_type": "stream",
     "text": [
      "\n",
      "NBBO price: 19.07600364963504\n",
      "Internal price: 19.085541651459856\n",
      "Requoting: 19.075998880634128 @ 19.095084422285584\n"
     ]
    },
    {
     "name": "stderr",
     "output_type": "stream",
     "text": [
      "INFO:zetamarkets_py.client.Client:Replacing SOL orders: 0.001x Bid @ $19.075998436127406, 0.001x Ask @ $19.095083977334134\n"
     ]
    },
    {
     "name": "stdout",
     "output_type": "stream",
     "text": [
      "\n",
      "NBBO price: 19.076003205128206\n",
      "Internal price: 19.08554120673077\n",
      "Requoting: 19.075998436127406 @ 19.095083977334134\n"
     ]
    },
    {
     "name": "stderr",
     "output_type": "stream",
     "text": [
      "INFO:zetamarkets_py.client.Client:Replacing SOL orders: 0.001x Bid @ $19.075997423981907, 0.001x Ask @ $19.095082964175983\n"
     ]
    },
    {
     "name": "stdout",
     "output_type": "stream",
     "text": [
      "\n",
      "NBBO price: 19.076002192982454\n",
      "Internal price: 19.085540194078945\n",
      "Requoting: 19.075997423981907 @ 19.095082964175983\n"
     ]
    },
    {
     "name": "stderr",
     "output_type": "stream",
     "text": [
      "INFO:zetamarkets_py.client.Client:Replacing SOL orders: 0.001x Bid @ $19.0759974049125, 0.001x Ask @ $19.095082945087498\n"
     ]
    },
    {
     "name": "stdout",
     "output_type": "stream",
     "text": [
      "\n",
      "NBBO price: 19.076002173913043\n",
      "Internal price: 19.085540175\n",
      "Requoting: 19.0759974049125 @ 19.095082945087498\n"
     ]
    },
    {
     "name": "stderr",
     "output_type": "stream",
     "text": [
      "INFO:zetamarkets_py.client.Client:Replacing SOL orders: 0.001x Bid @ $19.07599650813889, 0.001x Ask @ $19.095082047416664\n"
     ]
    },
    {
     "name": "stdout",
     "output_type": "stream",
     "text": [
      "\n",
      "NBBO price: 19.07600127713921\n",
      "Internal price: 19.085539277777777\n",
      "Requoting: 19.07599650813889 @ 19.095082047416664\n"
     ]
    },
    {
     "name": "stderr",
     "output_type": "stream",
     "text": [
      "INFO:zetamarkets_py.client.Client:Replacing SOL orders: 0.001x Bid @ $19.075996598988713, 0.001x Ask @ $19.09508213835738\n"
     ]
    },
    {
     "name": "stdout",
     "output_type": "stream",
     "text": [
      "\n",
      "NBBO price: 19.076001367989054\n",
      "Internal price: 19.085539368673047\n",
      "Requoting: 19.075996598988713 @ 19.09508213835738\n"
     ]
    },
    {
     "name": "stderr",
     "output_type": "stream",
     "text": [
      "INFO:zetamarkets_py.client.Client:Replacing SOL orders: 0.001x Bid @ $19.075996265125905, 0.001x Ask @ $19.095081804160547\n"
     ]
    },
    {
     "name": "stdout",
     "output_type": "stream",
     "text": [
      "\n",
      "NBBO price: 19.076001034126165\n",
      "Internal price: 19.085539034643226\n",
      "Requoting: 19.075996265125905 @ 19.095081804160547\n"
     ]
    },
    {
     "name": "stderr",
     "output_type": "stream",
     "text": [
      "INFO:zetamarkets_py.client.Client:Replacing SOL orders: 0.001x Bid @ $19.075996249329684, 0.001x Ask @ $19.095081788348523\n"
     ]
    },
    {
     "name": "stdout",
     "output_type": "stream",
     "text": [
      "\n",
      "NBBO price: 19.07600101832994\n",
      "Internal price: 19.085539018839103\n",
      "Requoting: 19.075996249329684 @ 19.095081788348523\n"
     ]
    },
    {
     "name": "stderr",
     "output_type": "stream",
     "text": [
      "INFO:zetamarkets_py.client.Client:Replacing SOL orders: 0.001x Bid @ $19.07599605134434, 0.001x Ask @ $19.095081590165094\n"
     ]
    },
    {
     "name": "stdout",
     "output_type": "stream",
     "text": [
      "\n",
      "NBBO price: 19.076000820344547\n",
      "Internal price: 19.085538820754717\n",
      "Requoting: 19.07599605134434 @ 19.095081590165094\n"
     ]
    },
    {
     "name": "stderr",
     "output_type": "stream",
     "text": [
      "INFO:zetamarkets_py.client.Client:Replacing SOL orders: 0.001x Bid @ $19.075995891501815, 0.001x Ask @ $19.095081430162647\n"
     ]
    },
    {
     "name": "stdout",
     "output_type": "stream",
     "text": [
      "\n",
      "NBBO price: 19.076000660501983\n",
      "Internal price: 19.08553866083223\n",
      "Requoting: 19.075995891501815 @ 19.095081430162647\n"
     ]
    },
    {
     "name": "stderr",
     "output_type": "stream",
     "text": [
      "INFO:zetamarkets_py.client.Client:Replacing SOL orders: 0.001x Bid @ $19.076910254077088, 0.001x Ask @ $19.095996707557905\n"
     ]
    },
    {
     "name": "stdout",
     "output_type": "stream",
     "text": [
      "\n",
      "NBBO price: 19.076915023305844\n",
      "Internal price: 19.086453480817497\n",
      "Requoting: 19.076910254077088 @ 19.095996707557905\n"
     ]
    },
    {
     "name": "stderr",
     "output_type": "stream",
     "text": [
      "INFO:zetamarkets_py.client.Client:Replacing SOL orders: 0.001x Bid @ $19.077519527294122, 0.001x Ask @ $19.09660659035294\n"
     ]
    },
    {
     "name": "stdout",
     "output_type": "stream",
     "text": [
      "\n",
      "NBBO price: 19.077524296675193\n",
      "Internal price: 19.08706305882353\n",
      "Requoting: 19.077519527294122 @ 19.09660659035294\n"
     ]
    },
    {
     "name": "stderr",
     "output_type": "stream",
     "text": [
      "INFO:zetamarkets_py.client.Client:Replacing SOL orders: 0.001x Bid @ $19.077529084783205, 0.001x Ask @ $19.096616157404295\n"
     ]
    },
    {
     "name": "stdout",
     "output_type": "stream",
     "text": [
      "\n",
      "NBBO price: 19.077533854166667\n",
      "Internal price: 19.08707262109375\n",
      "Requoting: 19.077529084783205 @ 19.096616157404295\n"
     ]
    },
    {
     "name": "stderr",
     "output_type": "stream",
     "text": [
      "INFO:zetamarkets_py.client.Client:Replacing SOL orders: 0.001x Bid @ $19.077520198608514, 0.001x Ask @ $19.09660726233899\n"
     ]
    },
    {
     "name": "stdout",
     "output_type": "stream",
     "text": [
      "\n",
      "NBBO price: 19.077524967989756\n",
      "Internal price: 19.08706373047375\n",
      "Requoting: 19.077520198608514 @ 19.09660726233899\n"
     ]
    },
    {
     "name": "stderr",
     "output_type": "stream",
     "text": [
      "INFO:zetamarkets_py.client.Client:Replacing SOL orders: 0.001x Bid @ $19.077439425395504, 0.001x Ask @ $19.096526408312357\n"
     ]
    },
    {
     "name": "stdout",
     "output_type": "stream",
     "text": [
      "\n",
      "NBBO price: 19.077444194756552\n",
      "Internal price: 19.08698291685393\n",
      "Requoting: 19.077439425395504 @ 19.096526408312357\n"
     ]
    },
    {
     "name": "stderr",
     "output_type": "stream",
     "text": [
      "INFO:zetamarkets_py.client.Client:Replacing SOL orders: 0.001x Bid @ $19.077434489899442, 0.001x Ask @ $19.09652146787833\n"
     ]
    },
    {
     "name": "stdout",
     "output_type": "stream",
     "text": [
      "\n",
      "NBBO price: 19.077439259259258\n",
      "Internal price: 19.086977978888886\n",
      "Requoting: 19.077434489899442 @ 19.09652146787833\n"
     ]
    },
    {
     "name": "stderr",
     "output_type": "stream",
     "text": [
      "INFO:zetamarkets_py.client.Client:Replacing SOL orders: 0.001x Bid @ $19.077417368049048, 0.001x Ask @ $19.096504328897517\n"
     ]
    },
    {
     "name": "stdout",
     "output_type": "stream",
     "text": [
      "\n",
      "NBBO price: 19.077422137404582\n",
      "Internal price: 19.086960848473282\n",
      "Requoting: 19.077417368049048 @ 19.096504328897517\n"
     ]
    },
    {
     "name": "stderr",
     "output_type": "stream",
     "text": [
      "INFO:zetamarkets_py.client.Client:Replacing SOL orders: 0.001x Bid @ $19.077228260073706, 0.001x Ask @ $19.0963150317196\n"
     ]
    },
    {
     "name": "stdout",
     "output_type": "stream",
     "text": [
      "\n",
      "NBBO price: 19.077233029381965\n",
      "Internal price: 19.086771645896654\n",
      "Requoting: 19.077228260073706 @ 19.0963150317196\n"
     ]
    },
    {
     "name": "stderr",
     "output_type": "stream",
     "text": [
      "INFO:zetamarkets_py.client.Client:Replacing SOL orders: 0.001x Bid @ $19.077222503420455, 0.001x Ask @ $19.09630926930682\n"
     ]
    },
    {
     "name": "stdout",
     "output_type": "stream",
     "text": [
      "\n",
      "NBBO price: 19.077227272727274\n",
      "Internal price: 19.086765886363636\n",
      "Requoting: 19.077222503420455 @ 19.09630926930682\n"
     ]
    },
    {
     "name": "stderr",
     "output_type": "stream",
     "text": [
      "INFO:zetamarkets_py.client.Client:Replacing SOL orders: 0.001x Bid @ $19.07721896610263, 0.001x Ask @ $19.096305728449902\n"
     ]
    },
    {
     "name": "stdout",
     "output_type": "stream",
     "text": [
      "\n",
      "NBBO price: 19.077223735408563\n",
      "Internal price: 19.086762347276267\n",
      "Requoting: 19.07721896610263 @ 19.096305728449902\n"
     ]
    },
    {
     "name": "stderr",
     "output_type": "stream",
     "text": [
      "INFO:zetamarkets_py.client.Client:Replacing SOL orders: 0.001x Bid @ $19.077222503420455, 0.001x Ask @ $19.09630926930682\n"
     ]
    },
    {
     "name": "stdout",
     "output_type": "stream",
     "text": [
      "\n",
      "NBBO price: 19.077227272727274\n",
      "Internal price: 19.086765886363636\n",
      "Requoting: 19.077222503420455 @ 19.09630926930682\n"
     ]
    },
    {
     "name": "stderr",
     "output_type": "stream",
     "text": [
      "INFO:zetamarkets_py.client.Client:Replacing SOL orders: 0.001x Bid @ $19.077167717479362, 0.001x Ask @ $19.096254428552378\n"
     ]
    },
    {
     "name": "stdout",
     "output_type": "stream",
     "text": [
      "\n",
      "NBBO price: 19.077172486772486\n",
      "Internal price: 19.08671107301587\n",
      "Requoting: 19.077167717479362 @ 19.096254428552378\n"
     ]
    },
    {
     "name": "stderr",
     "output_type": "stream",
     "text": [
      "INFO:zetamarkets_py.client.Client:Replacing SOL orders: 0.001x Bid @ $19.077168634961968, 0.001x Ask @ $19.096255346952926\n"
     ]
    },
    {
     "name": "stdout",
     "output_type": "stream",
     "text": [
      "\n",
      "NBBO price: 19.07717340425532\n",
      "Internal price: 19.086711990957447\n",
      "Requoting: 19.077168634961968 @ 19.096255346952926\n"
     ]
    },
    {
     "name": "stderr",
     "output_type": "stream",
     "text": [
      "INFO:zetamarkets_py.client.Client:Replacing SOL orders: 0.001x Bid @ $19.077133836157525, 0.001x Ask @ $19.096220513332266\n"
     ]
    },
    {
     "name": "stdout",
     "output_type": "stream",
     "text": [
      "\n",
      "NBBO price: 19.077138605442176\n",
      "Internal price: 19.086677174744896\n",
      "Requoting: 19.077133836157525 @ 19.096220513332266\n"
     ]
    },
    {
     "name": "stderr",
     "output_type": "stream",
     "text": [
      "INFO:zetamarkets_py.client.Client:Replacing SOL orders: 0.001x Bid @ $19.07721334854947, 0.001x Ask @ $19.096300105276384\n"
     ]
    },
    {
     "name": "stdout",
     "output_type": "stream",
     "text": [
      "\n",
      "NBBO price: 19.077218117854002\n",
      "Internal price: 19.086756726912927\n",
      "Requoting: 19.07721334854947 @ 19.096300105276384\n"
     ]
    },
    {
     "name": "stderr",
     "output_type": "stream",
     "text": [
      "INFO:zetamarkets_py.client.Client:Replacing SOL orders: 0.001x Bid @ $19.077223802121434, 0.001x Ask @ $19.096310569307146\n"
     ]
    },
    {
     "name": "stdout",
     "output_type": "stream",
     "text": [
      "\n",
      "NBBO price: 19.077228571428577\n",
      "Internal price: 19.08676718571429\n",
      "Requoting: 19.077223802121434 @ 19.096310569307146\n",
      "\n"
     ]
    },
    {
     "name": "stderr",
     "output_type": "stream",
     "text": [
      "INFO:zetamarkets_py.client.Client:Cancelling all orders for SOL\n",
      "INFO:solanaweb3.rpc.httprpc.HTTPClient:Transaction sent to https://api.mainnet-beta.solana.com. Signature 5PG3No3gT41LaqiRsHGgz1SCCY4ejqwtytz6GUapV2xRfS6M74me7EGBfwk5fpsFMav73VewQnSVGn8wxgtsNVGb: \n"
     ]
    },
    {
     "ename": "ConnectionClosedError",
     "evalue": "sent 1011 (unexpected error) keepalive ping timeout; no close frame received",
     "output_type": "error",
     "traceback": [
      "\u001b[0;31m---------------------------------------------------------------------------\u001b[0m",
      "\u001b[0;31mCancelledError\u001b[0m                            Traceback (most recent call last)",
      "File \u001b[0;32m~/Documents/zeta/zeta-py/.venv/lib/python3.9/site-packages/websockets/legacy/protocol.py:979\u001b[0m, in \u001b[0;36mWebSocketCommonProtocol.transfer_data\u001b[0;34m(self)\u001b[0m\n\u001b[1;32m    978\u001b[0m \u001b[39mtry\u001b[39;00m:\n\u001b[0;32m--> 979\u001b[0m     \u001b[39mawait\u001b[39;00m asyncio\u001b[39m.\u001b[39mshield(\u001b[39mself\u001b[39m\u001b[39m.\u001b[39m_put_message_waiter)\n\u001b[1;32m    980\u001b[0m \u001b[39mfinally\u001b[39;00m:\n",
      "\u001b[0;31mCancelledError\u001b[0m: ",
      "\nThe above exception was the direct cause of the following exception:\n",
      "\u001b[0;31mConnectionClosedError\u001b[0m                     Traceback (most recent call last)",
      "Cell \u001b[0;32mIn[7], line 5\u001b[0m\n\u001b[1;32m      2\u001b[0m wallet \u001b[39m=\u001b[39m anchorpy\u001b[39m.\u001b[39mWallet\u001b[39m.\u001b[39mlocal()  \u001b[39m# get local filesystem keypair wallet\u001b[39;00m\n\u001b[1;32m      3\u001b[0m mm \u001b[39m=\u001b[39m \u001b[39mawait\u001b[39;00m MarketMaker\u001b[39m.\u001b[39mload(endpoint, wallet, Asset\u001b[39m.\u001b[39mSOL, Processed)\n\u001b[0;32m----> 5\u001b[0m \u001b[39mawait\u001b[39;00m mm\u001b[39m.\u001b[39mrun()\n",
      "Cell \u001b[0;32mIn[6], line 103\u001b[0m, in \u001b[0;36mMarketMaker.run\u001b[0;34m(self)\u001b[0m\n\u001b[1;32m    101\u001b[0m \u001b[39masync\u001b[39;00m \u001b[39mdef\u001b[39;00m \u001b[39mrun\u001b[39m(\u001b[39mself\u001b[39m):\n\u001b[1;32m    102\u001b[0m     \u001b[39mtry\u001b[39;00m:\n\u001b[0;32m--> 103\u001b[0m         \u001b[39mawait\u001b[39;00m asyncio\u001b[39m.\u001b[39mgather(\u001b[39mawait\u001b[39;00m \u001b[39mself\u001b[39m\u001b[39m.\u001b[39msubscribe_fair_price(), \u001b[39mawait\u001b[39;00m \u001b[39mself\u001b[39m\u001b[39m.\u001b[39msubscribe_zeta_price())\n\u001b[1;32m    104\u001b[0m     \u001b[39mfinally\u001b[39;00m:\n\u001b[1;32m    105\u001b[0m         \u001b[39mawait\u001b[39;00m client\u001b[39m.\u001b[39mcancel_orders_for_market(\u001b[39mself\u001b[39m\u001b[39m.\u001b[39masset)\n",
      "Cell \u001b[0;32mIn[6], line 38\u001b[0m, in \u001b[0;36mMarketMaker.subscribe_fair_price\u001b[0;34m(self)\u001b[0m\n\u001b[1;32m     34\u001b[0m \u001b[39mawait\u001b[39;00m ws\u001b[39m.\u001b[39msend(\n\u001b[1;32m     35\u001b[0m     json\u001b[39m.\u001b[39mdumps({\u001b[39m\"\u001b[39m\u001b[39mmethod\u001b[39m\u001b[39m\"\u001b[39m: \u001b[39m\"\u001b[39m\u001b[39mSUBSCRIBE\u001b[39m\u001b[39m\"\u001b[39m, \u001b[39m\"\u001b[39m\u001b[39mparams\u001b[39m\u001b[39m\"\u001b[39m: [\u001b[39m\"\u001b[39m\u001b[39msolusdt@bookTicker\u001b[39m\u001b[39m\"\u001b[39m], \u001b[39m\"\u001b[39m\u001b[39mid\u001b[39m\u001b[39m\"\u001b[39m: \u001b[39mint\u001b[39m(time\u001b[39m.\u001b[39mtime() \u001b[39m*\u001b[39m \u001b[39m1000\u001b[39m)})\n\u001b[1;32m     36\u001b[0m )\n\u001b[1;32m     37\u001b[0m first_resp \u001b[39m=\u001b[39m \u001b[39mawait\u001b[39;00m ws\u001b[39m.\u001b[39mrecv()\n\u001b[0;32m---> 38\u001b[0m \u001b[39masync\u001b[39;00m \u001b[39mfor\u001b[39;00m msg \u001b[39min\u001b[39;00m ws:\n\u001b[1;32m     39\u001b[0m     \u001b[39mtry\u001b[39;00m:\n\u001b[1;32m     40\u001b[0m         ticker \u001b[39m=\u001b[39m json\u001b[39m.\u001b[39mloads(msg)\n",
      "File \u001b[0;32m~/Documents/zeta/zeta-py/.venv/lib/python3.9/site-packages/websockets/legacy/protocol.py:497\u001b[0m, in \u001b[0;36mWebSocketCommonProtocol.__aiter__\u001b[0;34m(self)\u001b[0m\n\u001b[1;32m    495\u001b[0m \u001b[39mtry\u001b[39;00m:\n\u001b[1;32m    496\u001b[0m     \u001b[39mwhile\u001b[39;00m \u001b[39mTrue\u001b[39;00m:\n\u001b[0;32m--> 497\u001b[0m         \u001b[39myield\u001b[39;00m \u001b[39mawait\u001b[39;00m \u001b[39mself\u001b[39m\u001b[39m.\u001b[39mrecv()\n\u001b[1;32m    498\u001b[0m \u001b[39mexcept\u001b[39;00m ConnectionClosedOK:\n\u001b[1;32m    499\u001b[0m     \u001b[39mreturn\u001b[39;00m\n",
      "File \u001b[0;32m~/Documents/zeta/zeta-py/.venv/lib/python3.9/site-packages/websockets/legacy/protocol.py:568\u001b[0m, in \u001b[0;36mWebSocketCommonProtocol.recv\u001b[0;34m(self)\u001b[0m\n\u001b[1;32m    564\u001b[0m             \u001b[39mreturn\u001b[39;00m \u001b[39mNone\u001b[39;00m  \u001b[39m# type: ignore\u001b[39;00m\n\u001b[1;32m    565\u001b[0m         \u001b[39melse\u001b[39;00m:\n\u001b[1;32m    566\u001b[0m             \u001b[39m# Wait until the connection is closed to raise\u001b[39;00m\n\u001b[1;32m    567\u001b[0m             \u001b[39m# ConnectionClosed with the correct code and reason.\u001b[39;00m\n\u001b[0;32m--> 568\u001b[0m             \u001b[39mawait\u001b[39;00m \u001b[39mself\u001b[39m\u001b[39m.\u001b[39mensure_open()\n\u001b[1;32m    570\u001b[0m \u001b[39m# Pop a message from the queue.\u001b[39;00m\n\u001b[1;32m    571\u001b[0m message \u001b[39m=\u001b[39m \u001b[39mself\u001b[39m\u001b[39m.\u001b[39mmessages\u001b[39m.\u001b[39mpopleft()\n",
      "File \u001b[0;32m~/Documents/zeta/zeta-py/.venv/lib/python3.9/site-packages/websockets/legacy/protocol.py:953\u001b[0m, in \u001b[0;36mWebSocketCommonProtocol.ensure_open\u001b[0;34m(self)\u001b[0m\n\u001b[1;32m    946\u001b[0m \u001b[39mif\u001b[39;00m \u001b[39mself\u001b[39m\u001b[39m.\u001b[39mstate \u001b[39mis\u001b[39;00m State\u001b[39m.\u001b[39mCLOSING:\n\u001b[1;32m    947\u001b[0m     \u001b[39m# If we started the closing handshake, wait for its completion to\u001b[39;00m\n\u001b[1;32m    948\u001b[0m     \u001b[39m# get the proper close code and reason. self.close_connection_task\u001b[39;00m\n\u001b[1;32m    949\u001b[0m     \u001b[39m# will complete within 4 or 5 * close_timeout after close(). The\u001b[39;00m\n\u001b[1;32m    950\u001b[0m     \u001b[39m# CLOSING state also occurs when failing the connection. In that\u001b[39;00m\n\u001b[1;32m    951\u001b[0m     \u001b[39m# case self.close_connection_task will complete even faster.\u001b[39;00m\n\u001b[1;32m    952\u001b[0m     \u001b[39mawait\u001b[39;00m asyncio\u001b[39m.\u001b[39mshield(\u001b[39mself\u001b[39m\u001b[39m.\u001b[39mclose_connection_task)\n\u001b[0;32m--> 953\u001b[0m     \u001b[39mraise\u001b[39;00m \u001b[39mself\u001b[39m\u001b[39m.\u001b[39mconnection_closed_exc()\n\u001b[1;32m    955\u001b[0m \u001b[39m# Control may only reach this point in buggy third-party subclasses.\u001b[39;00m\n\u001b[1;32m    956\u001b[0m \u001b[39massert\u001b[39;00m \u001b[39mself\u001b[39m\u001b[39m.\u001b[39mstate \u001b[39mis\u001b[39;00m State\u001b[39m.\u001b[39mCONNECTING\n",
      "\u001b[0;31mConnectionClosedError\u001b[0m: sent 1011 (unexpected error) keepalive ping timeout; no close frame received"
     ]
    }
   ],
   "source": [
    "endpoint = os.getenv(\"ENDPOINT\", \"https://api.mainnet-beta.solana.com\")\n",
    "wallet = anchorpy.Wallet.local()  # get local filesystem keypair wallet\n",
    "mm = await MarketMaker.load(endpoint, wallet, Asset.SOL, Processed)\n",
    "\n",
    "await mm.run()"
   ]
  },
  {
   "cell_type": "code",
   "execution_count": null,
   "metadata": {},
   "outputs": [],
   "source": []
  }
 ],
 "metadata": {
  "kernelspec": {
   "display_name": ".venv",
   "language": "python",
   "name": "python3"
  },
  "language_info": {
   "codemirror_mode": {
    "name": "ipython",
    "version": 3
   },
   "file_extension": ".py",
   "mimetype": "text/x-python",
   "name": "python",
   "nbconvert_exporter": "python",
   "pygments_lexer": "ipython3",
   "version": "3.9.7"
  },
  "orig_nbformat": 4
 },
 "nbformat": 4,
 "nbformat_minor": 2
}
